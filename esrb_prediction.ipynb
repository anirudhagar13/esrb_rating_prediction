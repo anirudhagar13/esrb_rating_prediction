{
  "nbformat": 4,
  "nbformat_minor": 0,
  "metadata": {
    "colab": {
      "name": "GroupNotebook.ipynb",
      "provenance": [],
      "collapsed_sections": [
        "CkkCH6mzwcCI",
        "jV7Ewmnci95F"
      ]
    },
    "kernelspec": {
      "display_name": "Python 3",
      "name": "python3"
    },
    "language_info": {
      "name": "python"
    }
  },
  "cells": [
    {
      "cell_type": "markdown",
      "metadata": {
        "id": "2WNmuCjuwRGR"
      },
      "source": [
        "#Common Import Code"
      ]
    },
    {
      "cell_type": "code",
      "metadata": {
        "colab": {
          "base_uri": "https://localhost:8080/"
        },
        "id": "0Mh9AkEdvH37",
        "outputId": "5139c138-80f1-4536-94b0-7d3871e2de27"
      },
      "source": [
        "from google.colab import drive\n",
        "drive.mount('/content/drive')"
      ],
      "execution_count": null,
      "outputs": [
        {
          "output_type": "stream",
          "text": [
            "Mounted at /content/drive\n"
          ],
          "name": "stdout"
        }
      ]
    },
    {
      "cell_type": "code",
      "metadata": {
        "id": "qlqeLLWuv5UZ",
        "colab": {
          "base_uri": "https://localhost:8080/"
        },
        "outputId": "ba197ff2-3fd1-4a3f-8a01-6db1fd7de628"
      },
      "source": [
        "import pandas as pd\n",
        "import numpy as np\n",
        "import matplotlib.pyplot as plt\n",
        "\n",
        "!pip install langdetect  # langdetect used to detect game title langauges"
      ],
      "execution_count": null,
      "outputs": [
        {
          "output_type": "stream",
          "text": [
            "Collecting langdetect\n",
            "\u001b[?25l  Downloading https://files.pythonhosted.org/packages/56/a3/8407c1e62d5980188b4acc45ef3d94b933d14a2ebc9ef3505f22cf772570/langdetect-1.0.8.tar.gz (981kB)\n",
            "\r\u001b[K     |▍                               | 10kB 19.3MB/s eta 0:00:01\r\u001b[K     |▊                               | 20kB 23.1MB/s eta 0:00:01\r\u001b[K     |█                               | 30kB 19.1MB/s eta 0:00:01\r\u001b[K     |█▍                              | 40kB 19.4MB/s eta 0:00:01\r\u001b[K     |█▊                              | 51kB 12.2MB/s eta 0:00:01\r\u001b[K     |██                              | 61kB 13.7MB/s eta 0:00:01\r\u001b[K     |██▍                             | 71kB 10.9MB/s eta 0:00:01\r\u001b[K     |██▊                             | 81kB 12.0MB/s eta 0:00:01\r\u001b[K     |███                             | 92kB 11.8MB/s eta 0:00:01\r\u001b[K     |███▍                            | 102kB 11.0MB/s eta 0:00:01\r\u001b[K     |███▊                            | 112kB 11.0MB/s eta 0:00:01\r\u001b[K     |████                            | 122kB 11.0MB/s eta 0:00:01\r\u001b[K     |████▍                           | 133kB 11.0MB/s eta 0:00:01\r\u001b[K     |████▊                           | 143kB 11.0MB/s eta 0:00:01\r\u001b[K     |█████                           | 153kB 11.0MB/s eta 0:00:01\r\u001b[K     |█████▍                          | 163kB 11.0MB/s eta 0:00:01\r\u001b[K     |█████▊                          | 174kB 11.0MB/s eta 0:00:01\r\u001b[K     |██████                          | 184kB 11.0MB/s eta 0:00:01\r\u001b[K     |██████▍                         | 194kB 11.0MB/s eta 0:00:01\r\u001b[K     |██████▊                         | 204kB 11.0MB/s eta 0:00:01\r\u001b[K     |███████                         | 215kB 11.0MB/s eta 0:00:01\r\u001b[K     |███████▍                        | 225kB 11.0MB/s eta 0:00:01\r\u001b[K     |███████▊                        | 235kB 11.0MB/s eta 0:00:01\r\u001b[K     |████████                        | 245kB 11.0MB/s eta 0:00:01\r\u001b[K     |████████▍                       | 256kB 11.0MB/s eta 0:00:01\r\u001b[K     |████████▊                       | 266kB 11.0MB/s eta 0:00:01\r\u001b[K     |█████████                       | 276kB 11.0MB/s eta 0:00:01\r\u001b[K     |█████████▍                      | 286kB 11.0MB/s eta 0:00:01\r\u001b[K     |█████████▊                      | 296kB 11.0MB/s eta 0:00:01\r\u001b[K     |██████████                      | 307kB 11.0MB/s eta 0:00:01\r\u001b[K     |██████████▍                     | 317kB 11.0MB/s eta 0:00:01\r\u001b[K     |██████████▊                     | 327kB 11.0MB/s eta 0:00:01\r\u001b[K     |███████████                     | 337kB 11.0MB/s eta 0:00:01\r\u001b[K     |███████████▍                    | 348kB 11.0MB/s eta 0:00:01\r\u001b[K     |███████████▊                    | 358kB 11.0MB/s eta 0:00:01\r\u001b[K     |████████████                    | 368kB 11.0MB/s eta 0:00:01\r\u001b[K     |████████████▍                   | 378kB 11.0MB/s eta 0:00:01\r\u001b[K     |████████████▊                   | 389kB 11.0MB/s eta 0:00:01\r\u001b[K     |█████████████                   | 399kB 11.0MB/s eta 0:00:01\r\u001b[K     |█████████████▍                  | 409kB 11.0MB/s eta 0:00:01\r\u001b[K     |█████████████▊                  | 419kB 11.0MB/s eta 0:00:01\r\u001b[K     |██████████████                  | 430kB 11.0MB/s eta 0:00:01\r\u001b[K     |██████████████▍                 | 440kB 11.0MB/s eta 0:00:01\r\u001b[K     |██████████████▊                 | 450kB 11.0MB/s eta 0:00:01\r\u001b[K     |███████████████                 | 460kB 11.0MB/s eta 0:00:01\r\u001b[K     |███████████████▍                | 471kB 11.0MB/s eta 0:00:01\r\u001b[K     |███████████████▊                | 481kB 11.0MB/s eta 0:00:01\r\u001b[K     |████████████████                | 491kB 11.0MB/s eta 0:00:01\r\u001b[K     |████████████████▍               | 501kB 11.0MB/s eta 0:00:01\r\u001b[K     |████████████████▊               | 512kB 11.0MB/s eta 0:00:01\r\u001b[K     |█████████████████               | 522kB 11.0MB/s eta 0:00:01\r\u001b[K     |█████████████████▍              | 532kB 11.0MB/s eta 0:00:01\r\u001b[K     |█████████████████▊              | 542kB 11.0MB/s eta 0:00:01\r\u001b[K     |██████████████████              | 552kB 11.0MB/s eta 0:00:01\r\u001b[K     |██████████████████▍             | 563kB 11.0MB/s eta 0:00:01\r\u001b[K     |██████████████████▊             | 573kB 11.0MB/s eta 0:00:01\r\u001b[K     |███████████████████             | 583kB 11.0MB/s eta 0:00:01\r\u001b[K     |███████████████████▍            | 593kB 11.0MB/s eta 0:00:01\r\u001b[K     |███████████████████▊            | 604kB 11.0MB/s eta 0:00:01\r\u001b[K     |████████████████████            | 614kB 11.0MB/s eta 0:00:01\r\u001b[K     |████████████████████▍           | 624kB 11.0MB/s eta 0:00:01\r\u001b[K     |████████████████████▊           | 634kB 11.0MB/s eta 0:00:01\r\u001b[K     |█████████████████████           | 645kB 11.0MB/s eta 0:00:01\r\u001b[K     |█████████████████████▍          | 655kB 11.0MB/s eta 0:00:01\r\u001b[K     |█████████████████████▊          | 665kB 11.0MB/s eta 0:00:01\r\u001b[K     |██████████████████████          | 675kB 11.0MB/s eta 0:00:01\r\u001b[K     |██████████████████████▍         | 686kB 11.0MB/s eta 0:00:01\r\u001b[K     |██████████████████████▊         | 696kB 11.0MB/s eta 0:00:01\r\u001b[K     |███████████████████████         | 706kB 11.0MB/s eta 0:00:01\r\u001b[K     |███████████████████████▍        | 716kB 11.0MB/s eta 0:00:01\r\u001b[K     |███████████████████████▊        | 727kB 11.0MB/s eta 0:00:01\r\u001b[K     |████████████████████████        | 737kB 11.0MB/s eta 0:00:01\r\u001b[K     |████████████████████████▍       | 747kB 11.0MB/s eta 0:00:01\r\u001b[K     |████████████████████████▊       | 757kB 11.0MB/s eta 0:00:01\r\u001b[K     |█████████████████████████       | 768kB 11.0MB/s eta 0:00:01\r\u001b[K     |█████████████████████████▍      | 778kB 11.0MB/s eta 0:00:01\r\u001b[K     |█████████████████████████▊      | 788kB 11.0MB/s eta 0:00:01\r\u001b[K     |██████████████████████████      | 798kB 11.0MB/s eta 0:00:01\r\u001b[K     |██████████████████████████▍     | 808kB 11.0MB/s eta 0:00:01\r\u001b[K     |██████████████████████████▊     | 819kB 11.0MB/s eta 0:00:01\r\u001b[K     |███████████████████████████     | 829kB 11.0MB/s eta 0:00:01\r\u001b[K     |███████████████████████████▍    | 839kB 11.0MB/s eta 0:00:01\r\u001b[K     |███████████████████████████▊    | 849kB 11.0MB/s eta 0:00:01\r\u001b[K     |████████████████████████████    | 860kB 11.0MB/s eta 0:00:01\r\u001b[K     |████████████████████████████▍   | 870kB 11.0MB/s eta 0:00:01\r\u001b[K     |████████████████████████████▊   | 880kB 11.0MB/s eta 0:00:01\r\u001b[K     |█████████████████████████████   | 890kB 11.0MB/s eta 0:00:01\r\u001b[K     |█████████████████████████████▍  | 901kB 11.0MB/s eta 0:00:01\r\u001b[K     |█████████████████████████████▊  | 911kB 11.0MB/s eta 0:00:01\r\u001b[K     |██████████████████████████████  | 921kB 11.0MB/s eta 0:00:01\r\u001b[K     |██████████████████████████████▍ | 931kB 11.0MB/s eta 0:00:01\r\u001b[K     |██████████████████████████████▊ | 942kB 11.0MB/s eta 0:00:01\r\u001b[K     |███████████████████████████████ | 952kB 11.0MB/s eta 0:00:01\r\u001b[K     |███████████████████████████████▍| 962kB 11.0MB/s eta 0:00:01\r\u001b[K     |███████████████████████████████▊| 972kB 11.0MB/s eta 0:00:01\r\u001b[K     |████████████████████████████████| 983kB 11.0MB/s \n",
            "\u001b[?25hRequirement already satisfied: six in /usr/local/lib/python3.7/dist-packages (from langdetect) (1.15.0)\n",
            "Building wheels for collected packages: langdetect\n",
            "  Building wheel for langdetect (setup.py) ... \u001b[?25l\u001b[?25hdone\n",
            "  Created wheel for langdetect: filename=langdetect-1.0.8-cp37-none-any.whl size=993193 sha256=57c74755ec3e074e6dacdd1894c23ddde369d6e29258613fcd65ac1c369abde9\n",
            "  Stored in directory: /root/.cache/pip/wheels/8d/b3/aa/6d99de9f3841d7d3d40a60ea06e6d669e8e5012e6c8b947a57\n",
            "Successfully built langdetect\n",
            "Installing collected packages: langdetect\n",
            "Successfully installed langdetect-1.0.8\n"
          ],
          "name": "stdout"
        }
      ]
    },
    {
      "cell_type": "code",
      "metadata": {
        "id": "euX5HeFov0fn"
      },
      "source": [
        "trainset = pd.read_csv('/content/drive/Shareddrives/CSCI 5523 - Data Mining Project Drive/Analysis/data/Video_games_esrb_rating.csv')\n",
        "testset = pd.read_csv('/content/drive/Shareddrives/CSCI 5523 - Data Mining Project Drive/Analysis/data/test_esrb.csv')"
      ],
      "execution_count": null,
      "outputs": []
    },
    {
      "cell_type": "markdown",
      "metadata": {
        "id": "VSHpLLk1wowR"
      },
      "source": [
        "#EDA"
      ]
    },
    {
      "cell_type": "markdown",
      "metadata": {
        "id": "CkkCH6mzwcCI"
      },
      "source": [
        "##Ishan's EDA"
      ]
    },
    {
      "cell_type": "markdown",
      "metadata": {
        "id": "iJR9ZXuBy0Xp"
      },
      "source": [
        "###Trainset Overview"
      ]
    },
    {
      "cell_type": "code",
      "metadata": {
        "id": "mFbQ2TGOypIi",
        "colab": {
          "base_uri": "https://localhost:8080/",
          "height": 166
        },
        "outputId": "05fa0cf5-11ce-4c83-ff91-6a38242f2a8e"
      },
      "source": [
        "Counter(trainset[tarainset['no_descriptors']==1]['esrb_rating'])"
      ],
      "execution_count": null,
      "outputs": [
        {
          "output_type": "error",
          "ename": "NameError",
          "evalue": "ignored",
          "traceback": [
            "\u001b[0;31m---------------------------------------------------------------------------\u001b[0m",
            "\u001b[0;31mNameError\u001b[0m                                 Traceback (most recent call last)",
            "\u001b[0;32m<ipython-input-7-23086da7eb3e>\u001b[0m in \u001b[0;36m<module>\u001b[0;34m()\u001b[0m\n\u001b[0;32m----> 1\u001b[0;31m \u001b[0mCounter\u001b[0m\u001b[0;34m(\u001b[0m\u001b[0mtrainset\u001b[0m\u001b[0;34m[\u001b[0m\u001b[0mtarainset\u001b[0m\u001b[0;34m[\u001b[0m\u001b[0;34m'no_descriptors'\u001b[0m\u001b[0;34m]\u001b[0m\u001b[0;34m==\u001b[0m\u001b[0;36m1\u001b[0m\u001b[0;34m]\u001b[0m\u001b[0;34m[\u001b[0m\u001b[0;34m'esrb_rating'\u001b[0m\u001b[0;34m]\u001b[0m\u001b[0;34m)\u001b[0m\u001b[0;34m\u001b[0m\u001b[0;34m\u001b[0m\u001b[0m\n\u001b[0m",
            "\u001b[0;31mNameError\u001b[0m: name 'Counter' is not defined"
          ]
        }
      ]
    },
    {
      "cell_type": "code",
      "metadata": {
        "id": "6owI1QbmyrUQ",
        "colab": {
          "base_uri": "https://localhost:8080/",
          "height": 314
        },
        "outputId": "8edb8813-ace7-4248-c451-49ef076a940d"
      },
      "source": [
        "trainset.describe()"
      ],
      "execution_count": null,
      "outputs": [
        {
          "output_type": "execute_result",
          "data": {
            "text/html": [
              "<div>\n",
              "<style scoped>\n",
              "    .dataframe tbody tr th:only-of-type {\n",
              "        vertical-align: middle;\n",
              "    }\n",
              "\n",
              "    .dataframe tbody tr th {\n",
              "        vertical-align: top;\n",
              "    }\n",
              "\n",
              "    .dataframe thead th {\n",
              "        text-align: right;\n",
              "    }\n",
              "</style>\n",
              "<table border=\"1\" class=\"dataframe\">\n",
              "  <thead>\n",
              "    <tr style=\"text-align: right;\">\n",
              "      <th></th>\n",
              "      <th>console</th>\n",
              "      <th>alcohol_reference</th>\n",
              "      <th>animated_blood</th>\n",
              "      <th>blood</th>\n",
              "      <th>blood_and_gore</th>\n",
              "      <th>cartoon_violence</th>\n",
              "      <th>crude_humor</th>\n",
              "      <th>drug_reference</th>\n",
              "      <th>fantasy_violence</th>\n",
              "      <th>intense_violence</th>\n",
              "      <th>language</th>\n",
              "      <th>lyrics</th>\n",
              "      <th>mature_humor</th>\n",
              "      <th>mild_blood</th>\n",
              "      <th>mild_cartoon_violence</th>\n",
              "      <th>mild_fantasy_violence</th>\n",
              "      <th>mild_language</th>\n",
              "      <th>mild_lyrics</th>\n",
              "      <th>mild_suggestive_themes</th>\n",
              "      <th>mild_violence</th>\n",
              "      <th>no_descriptors</th>\n",
              "      <th>nudity</th>\n",
              "      <th>partial_nudity</th>\n",
              "      <th>sexual_content</th>\n",
              "      <th>sexual_themes</th>\n",
              "      <th>simulated_gambling</th>\n",
              "      <th>strong_janguage</th>\n",
              "      <th>strong_sexual_content</th>\n",
              "      <th>suggestive_themes</th>\n",
              "      <th>use_of_alcohol</th>\n",
              "      <th>use_of_drugs_and_alcohol</th>\n",
              "      <th>violence</th>\n",
              "    </tr>\n",
              "  </thead>\n",
              "  <tbody>\n",
              "    <tr>\n",
              "      <th>count</th>\n",
              "      <td>1895.000000</td>\n",
              "      <td>1895.000000</td>\n",
              "      <td>1895.000000</td>\n",
              "      <td>1895.000000</td>\n",
              "      <td>1895.000000</td>\n",
              "      <td>1895.000000</td>\n",
              "      <td>1895.000000</td>\n",
              "      <td>1895.000000</td>\n",
              "      <td>1895.000000</td>\n",
              "      <td>1895.000000</td>\n",
              "      <td>1895.000000</td>\n",
              "      <td>1895.000000</td>\n",
              "      <td>1895.000000</td>\n",
              "      <td>1895.000000</td>\n",
              "      <td>1895.000000</td>\n",
              "      <td>1895.000000</td>\n",
              "      <td>1895.000000</td>\n",
              "      <td>1895.000000</td>\n",
              "      <td>1895.000000</td>\n",
              "      <td>1895.000000</td>\n",
              "      <td>1895.000000</td>\n",
              "      <td>1895.000000</td>\n",
              "      <td>1895.000000</td>\n",
              "      <td>1895.000000</td>\n",
              "      <td>1895.000000</td>\n",
              "      <td>1895.000000</td>\n",
              "      <td>1895.000000</td>\n",
              "      <td>1895.000000</td>\n",
              "      <td>1895.000000</td>\n",
              "      <td>1895.000000</td>\n",
              "      <td>1895.000000</td>\n",
              "      <td>1895.000000</td>\n",
              "    </tr>\n",
              "    <tr>\n",
              "      <th>mean</th>\n",
              "      <td>0.475462</td>\n",
              "      <td>0.050132</td>\n",
              "      <td>0.010026</td>\n",
              "      <td>0.227968</td>\n",
              "      <td>0.126121</td>\n",
              "      <td>0.019525</td>\n",
              "      <td>0.054354</td>\n",
              "      <td>0.034828</td>\n",
              "      <td>0.220580</td>\n",
              "      <td>0.118206</td>\n",
              "      <td>0.108179</td>\n",
              "      <td>0.033245</td>\n",
              "      <td>0.011609</td>\n",
              "      <td>0.069657</td>\n",
              "      <td>0.023747</td>\n",
              "      <td>0.048021</td>\n",
              "      <td>0.021636</td>\n",
              "      <td>0.077045</td>\n",
              "      <td>0.044327</td>\n",
              "      <td>0.047493</td>\n",
              "      <td>0.169921</td>\n",
              "      <td>0.014776</td>\n",
              "      <td>0.013193</td>\n",
              "      <td>0.034301</td>\n",
              "      <td>0.057520</td>\n",
              "      <td>0.067018</td>\n",
              "      <td>0.118206</td>\n",
              "      <td>0.035884</td>\n",
              "      <td>0.117678</td>\n",
              "      <td>0.015831</td>\n",
              "      <td>0.015831</td>\n",
              "      <td>0.063852</td>\n",
              "    </tr>\n",
              "    <tr>\n",
              "      <th>std</th>\n",
              "      <td>0.499529</td>\n",
              "      <td>0.218275</td>\n",
              "      <td>0.099655</td>\n",
              "      <td>0.419633</td>\n",
              "      <td>0.332074</td>\n",
              "      <td>0.138398</td>\n",
              "      <td>0.226774</td>\n",
              "      <td>0.183394</td>\n",
              "      <td>0.414748</td>\n",
              "      <td>0.322937</td>\n",
              "      <td>0.310689</td>\n",
              "      <td>0.179324</td>\n",
              "      <td>0.107148</td>\n",
              "      <td>0.254635</td>\n",
              "      <td>0.152299</td>\n",
              "      <td>0.213867</td>\n",
              "      <td>0.145530</td>\n",
              "      <td>0.266733</td>\n",
              "      <td>0.205875</td>\n",
              "      <td>0.212748</td>\n",
              "      <td>0.375662</td>\n",
              "      <td>0.120686</td>\n",
              "      <td>0.114129</td>\n",
              "      <td>0.182049</td>\n",
              "      <td>0.232895</td>\n",
              "      <td>0.250120</td>\n",
              "      <td>0.322937</td>\n",
              "      <td>0.186050</td>\n",
              "      <td>0.322312</td>\n",
              "      <td>0.124855</td>\n",
              "      <td>0.124855</td>\n",
              "      <td>0.244554</td>\n",
              "    </tr>\n",
              "    <tr>\n",
              "      <th>min</th>\n",
              "      <td>0.000000</td>\n",
              "      <td>0.000000</td>\n",
              "      <td>0.000000</td>\n",
              "      <td>0.000000</td>\n",
              "      <td>0.000000</td>\n",
              "      <td>0.000000</td>\n",
              "      <td>0.000000</td>\n",
              "      <td>0.000000</td>\n",
              "      <td>0.000000</td>\n",
              "      <td>0.000000</td>\n",
              "      <td>0.000000</td>\n",
              "      <td>0.000000</td>\n",
              "      <td>0.000000</td>\n",
              "      <td>0.000000</td>\n",
              "      <td>0.000000</td>\n",
              "      <td>0.000000</td>\n",
              "      <td>0.000000</td>\n",
              "      <td>0.000000</td>\n",
              "      <td>0.000000</td>\n",
              "      <td>0.000000</td>\n",
              "      <td>0.000000</td>\n",
              "      <td>0.000000</td>\n",
              "      <td>0.000000</td>\n",
              "      <td>0.000000</td>\n",
              "      <td>0.000000</td>\n",
              "      <td>0.000000</td>\n",
              "      <td>0.000000</td>\n",
              "      <td>0.000000</td>\n",
              "      <td>0.000000</td>\n",
              "      <td>0.000000</td>\n",
              "      <td>0.000000</td>\n",
              "      <td>0.000000</td>\n",
              "    </tr>\n",
              "    <tr>\n",
              "      <th>25%</th>\n",
              "      <td>0.000000</td>\n",
              "      <td>0.000000</td>\n",
              "      <td>0.000000</td>\n",
              "      <td>0.000000</td>\n",
              "      <td>0.000000</td>\n",
              "      <td>0.000000</td>\n",
              "      <td>0.000000</td>\n",
              "      <td>0.000000</td>\n",
              "      <td>0.000000</td>\n",
              "      <td>0.000000</td>\n",
              "      <td>0.000000</td>\n",
              "      <td>0.000000</td>\n",
              "      <td>0.000000</td>\n",
              "      <td>0.000000</td>\n",
              "      <td>0.000000</td>\n",
              "      <td>0.000000</td>\n",
              "      <td>0.000000</td>\n",
              "      <td>0.000000</td>\n",
              "      <td>0.000000</td>\n",
              "      <td>0.000000</td>\n",
              "      <td>0.000000</td>\n",
              "      <td>0.000000</td>\n",
              "      <td>0.000000</td>\n",
              "      <td>0.000000</td>\n",
              "      <td>0.000000</td>\n",
              "      <td>0.000000</td>\n",
              "      <td>0.000000</td>\n",
              "      <td>0.000000</td>\n",
              "      <td>0.000000</td>\n",
              "      <td>0.000000</td>\n",
              "      <td>0.000000</td>\n",
              "      <td>0.000000</td>\n",
              "    </tr>\n",
              "    <tr>\n",
              "      <th>50%</th>\n",
              "      <td>0.000000</td>\n",
              "      <td>0.000000</td>\n",
              "      <td>0.000000</td>\n",
              "      <td>0.000000</td>\n",
              "      <td>0.000000</td>\n",
              "      <td>0.000000</td>\n",
              "      <td>0.000000</td>\n",
              "      <td>0.000000</td>\n",
              "      <td>0.000000</td>\n",
              "      <td>0.000000</td>\n",
              "      <td>0.000000</td>\n",
              "      <td>0.000000</td>\n",
              "      <td>0.000000</td>\n",
              "      <td>0.000000</td>\n",
              "      <td>0.000000</td>\n",
              "      <td>0.000000</td>\n",
              "      <td>0.000000</td>\n",
              "      <td>0.000000</td>\n",
              "      <td>0.000000</td>\n",
              "      <td>0.000000</td>\n",
              "      <td>0.000000</td>\n",
              "      <td>0.000000</td>\n",
              "      <td>0.000000</td>\n",
              "      <td>0.000000</td>\n",
              "      <td>0.000000</td>\n",
              "      <td>0.000000</td>\n",
              "      <td>0.000000</td>\n",
              "      <td>0.000000</td>\n",
              "      <td>0.000000</td>\n",
              "      <td>0.000000</td>\n",
              "      <td>0.000000</td>\n",
              "      <td>0.000000</td>\n",
              "    </tr>\n",
              "    <tr>\n",
              "      <th>75%</th>\n",
              "      <td>1.000000</td>\n",
              "      <td>0.000000</td>\n",
              "      <td>0.000000</td>\n",
              "      <td>0.000000</td>\n",
              "      <td>0.000000</td>\n",
              "      <td>0.000000</td>\n",
              "      <td>0.000000</td>\n",
              "      <td>0.000000</td>\n",
              "      <td>0.000000</td>\n",
              "      <td>0.000000</td>\n",
              "      <td>0.000000</td>\n",
              "      <td>0.000000</td>\n",
              "      <td>0.000000</td>\n",
              "      <td>0.000000</td>\n",
              "      <td>0.000000</td>\n",
              "      <td>0.000000</td>\n",
              "      <td>0.000000</td>\n",
              "      <td>0.000000</td>\n",
              "      <td>0.000000</td>\n",
              "      <td>0.000000</td>\n",
              "      <td>0.000000</td>\n",
              "      <td>0.000000</td>\n",
              "      <td>0.000000</td>\n",
              "      <td>0.000000</td>\n",
              "      <td>0.000000</td>\n",
              "      <td>0.000000</td>\n",
              "      <td>0.000000</td>\n",
              "      <td>0.000000</td>\n",
              "      <td>0.000000</td>\n",
              "      <td>0.000000</td>\n",
              "      <td>0.000000</td>\n",
              "      <td>0.000000</td>\n",
              "    </tr>\n",
              "    <tr>\n",
              "      <th>max</th>\n",
              "      <td>1.000000</td>\n",
              "      <td>1.000000</td>\n",
              "      <td>1.000000</td>\n",
              "      <td>1.000000</td>\n",
              "      <td>1.000000</td>\n",
              "      <td>1.000000</td>\n",
              "      <td>1.000000</td>\n",
              "      <td>1.000000</td>\n",
              "      <td>1.000000</td>\n",
              "      <td>1.000000</td>\n",
              "      <td>1.000000</td>\n",
              "      <td>1.000000</td>\n",
              "      <td>1.000000</td>\n",
              "      <td>1.000000</td>\n",
              "      <td>1.000000</td>\n",
              "      <td>1.000000</td>\n",
              "      <td>1.000000</td>\n",
              "      <td>1.000000</td>\n",
              "      <td>1.000000</td>\n",
              "      <td>1.000000</td>\n",
              "      <td>1.000000</td>\n",
              "      <td>1.000000</td>\n",
              "      <td>1.000000</td>\n",
              "      <td>1.000000</td>\n",
              "      <td>1.000000</td>\n",
              "      <td>1.000000</td>\n",
              "      <td>1.000000</td>\n",
              "      <td>1.000000</td>\n",
              "      <td>1.000000</td>\n",
              "      <td>1.000000</td>\n",
              "      <td>1.000000</td>\n",
              "      <td>1.000000</td>\n",
              "    </tr>\n",
              "  </tbody>\n",
              "</table>\n",
              "</div>"
            ],
            "text/plain": [
              "           console  alcohol_reference  ...  use_of_drugs_and_alcohol     violence\n",
              "count  1895.000000        1895.000000  ...               1895.000000  1895.000000\n",
              "mean      0.475462           0.050132  ...                  0.015831     0.063852\n",
              "std       0.499529           0.218275  ...                  0.124855     0.244554\n",
              "min       0.000000           0.000000  ...                  0.000000     0.000000\n",
              "25%       0.000000           0.000000  ...                  0.000000     0.000000\n",
              "50%       0.000000           0.000000  ...                  0.000000     0.000000\n",
              "75%       1.000000           0.000000  ...                  0.000000     0.000000\n",
              "max       1.000000           1.000000  ...                  1.000000     1.000000\n",
              "\n",
              "[8 rows x 32 columns]"
            ]
          },
          "metadata": {
            "tags": []
          },
          "execution_count": 13
        }
      ]
    },
    {
      "cell_type": "code",
      "metadata": {
        "id": "rrAq4H71yv0R",
        "colab": {
          "base_uri": "https://localhost:8080/",
          "height": 1000
        },
        "outputId": "ae3f2efe-bdfe-4b33-d13b-9fd2fb7251ce"
      },
      "source": [
        "trainset.corr()"
      ],
      "execution_count": null,
      "outputs": [
        {
          "output_type": "execute_result",
          "data": {
            "text/html": [
              "<div>\n",
              "<style scoped>\n",
              "    .dataframe tbody tr th:only-of-type {\n",
              "        vertical-align: middle;\n",
              "    }\n",
              "\n",
              "    .dataframe tbody tr th {\n",
              "        vertical-align: top;\n",
              "    }\n",
              "\n",
              "    .dataframe thead th {\n",
              "        text-align: right;\n",
              "    }\n",
              "</style>\n",
              "<table border=\"1\" class=\"dataframe\">\n",
              "  <thead>\n",
              "    <tr style=\"text-align: right;\">\n",
              "      <th></th>\n",
              "      <th>console</th>\n",
              "      <th>alcohol_reference</th>\n",
              "      <th>animated_blood</th>\n",
              "      <th>blood</th>\n",
              "      <th>blood_and_gore</th>\n",
              "      <th>cartoon_violence</th>\n",
              "      <th>crude_humor</th>\n",
              "      <th>drug_reference</th>\n",
              "      <th>fantasy_violence</th>\n",
              "      <th>intense_violence</th>\n",
              "      <th>language</th>\n",
              "      <th>lyrics</th>\n",
              "      <th>mature_humor</th>\n",
              "      <th>mild_blood</th>\n",
              "      <th>mild_cartoon_violence</th>\n",
              "      <th>mild_fantasy_violence</th>\n",
              "      <th>mild_language</th>\n",
              "      <th>mild_lyrics</th>\n",
              "      <th>mild_suggestive_themes</th>\n",
              "      <th>mild_violence</th>\n",
              "      <th>no_descriptors</th>\n",
              "      <th>nudity</th>\n",
              "      <th>partial_nudity</th>\n",
              "      <th>sexual_content</th>\n",
              "      <th>sexual_themes</th>\n",
              "      <th>simulated_gambling</th>\n",
              "      <th>strong_janguage</th>\n",
              "      <th>strong_sexual_content</th>\n",
              "      <th>suggestive_themes</th>\n",
              "      <th>use_of_alcohol</th>\n",
              "      <th>use_of_drugs_and_alcohol</th>\n",
              "      <th>violence</th>\n",
              "    </tr>\n",
              "  </thead>\n",
              "  <tbody>\n",
              "    <tr>\n",
              "      <th>console</th>\n",
              "      <td>1.000000</td>\n",
              "      <td>-0.010502</td>\n",
              "      <td>0.031460</td>\n",
              "      <td>-0.018638</td>\n",
              "      <td>0.074368</td>\n",
              "      <td>0.117672</td>\n",
              "      <td>0.060719</td>\n",
              "      <td>-0.002193</td>\n",
              "      <td>-0.149703</td>\n",
              "      <td>0.014717</td>\n",
              "      <td>-0.025412</td>\n",
              "      <td>0.000271</td>\n",
              "      <td>-0.053862</td>\n",
              "      <td>-0.057120</td>\n",
              "      <td>0.025013</td>\n",
              "      <td>-0.055683</td>\n",
              "      <td>0.010938</td>\n",
              "      <td>-0.005617</td>\n",
              "      <td>-0.030490</td>\n",
              "      <td>-0.028773</td>\n",
              "      <td>0.041926</td>\n",
              "      <td>0.014775</td>\n",
              "      <td>-0.017471</td>\n",
              "      <td>-0.034284</td>\n",
              "      <td>-0.035514</td>\n",
              "      <td>0.065992</td>\n",
              "      <td>0.063812</td>\n",
              "      <td>0.043566</td>\n",
              "      <td>-0.072237</td>\n",
              "      <td>-0.027630</td>\n",
              "      <td>0.031628</td>\n",
              "      <td>0.010672</td>\n",
              "    </tr>\n",
              "    <tr>\n",
              "      <th>alcohol_reference</th>\n",
              "      <td>-0.010502</td>\n",
              "      <td>1.000000</td>\n",
              "      <td>0.001153</td>\n",
              "      <td>-0.078723</td>\n",
              "      <td>-0.036286</td>\n",
              "      <td>0.054970</td>\n",
              "      <td>-0.001745</td>\n",
              "      <td>0.009118</td>\n",
              "      <td>-0.075557</td>\n",
              "      <td>0.148086</td>\n",
              "      <td>-0.025514</td>\n",
              "      <td>0.078798</td>\n",
              "      <td>0.110553</td>\n",
              "      <td>0.022633</td>\n",
              "      <td>0.122995</td>\n",
              "      <td>-0.040287</td>\n",
              "      <td>0.032322</td>\n",
              "      <td>0.006173</td>\n",
              "      <td>0.220757</td>\n",
              "      <td>0.096508</td>\n",
              "      <td>-0.039551</td>\n",
              "      <td>0.031995</td>\n",
              "      <td>-0.005368</td>\n",
              "      <td>-0.043297</td>\n",
              "      <td>-0.025596</td>\n",
              "      <td>-0.003547</td>\n",
              "      <td>-0.076622</td>\n",
              "      <td>0.007684</td>\n",
              "      <td>-0.001347</td>\n",
              "      <td>0.164599</td>\n",
              "      <td>-0.029137</td>\n",
              "      <td>-0.040217</td>\n",
              "    </tr>\n",
              "    <tr>\n",
              "      <th>animated_blood</th>\n",
              "      <td>0.031460</td>\n",
              "      <td>0.001153</td>\n",
              "      <td>1.000000</td>\n",
              "      <td>-0.054686</td>\n",
              "      <td>-0.038232</td>\n",
              "      <td>-0.014202</td>\n",
              "      <td>-0.000764</td>\n",
              "      <td>0.154219</td>\n",
              "      <td>-0.027989</td>\n",
              "      <td>0.094402</td>\n",
              "      <td>0.050214</td>\n",
              "      <td>-0.018662</td>\n",
              "      <td>-0.010907</td>\n",
              "      <td>0.034883</td>\n",
              "      <td>-0.015696</td>\n",
              "      <td>-0.022603</td>\n",
              "      <td>-0.014966</td>\n",
              "      <td>-0.029076</td>\n",
              "      <td>0.055530</td>\n",
              "      <td>-0.022472</td>\n",
              "      <td>-0.031429</td>\n",
              "      <td>-0.012324</td>\n",
              "      <td>-0.011636</td>\n",
              "      <td>-0.018967</td>\n",
              "      <td>-0.024862</td>\n",
              "      <td>-0.026972</td>\n",
              "      <td>-0.020440</td>\n",
              "      <td>-0.019415</td>\n",
              "      <td>-0.036753</td>\n",
              "      <td>0.072105</td>\n",
              "      <td>0.029670</td>\n",
              "      <td>0.017046</td>\n",
              "    </tr>\n",
              "    <tr>\n",
              "      <th>blood</th>\n",
              "      <td>-0.018638</td>\n",
              "      <td>-0.078723</td>\n",
              "      <td>-0.054686</td>\n",
              "      <td>1.000000</td>\n",
              "      <td>-0.206437</td>\n",
              "      <td>-0.067592</td>\n",
              "      <td>-0.080343</td>\n",
              "      <td>-0.041479</td>\n",
              "      <td>-0.173801</td>\n",
              "      <td>0.089358</td>\n",
              "      <td>0.033477</td>\n",
              "      <td>0.060607</td>\n",
              "      <td>0.117246</td>\n",
              "      <td>-0.128925</td>\n",
              "      <td>-0.068227</td>\n",
              "      <td>-0.116163</td>\n",
              "      <td>-0.080808</td>\n",
              "      <td>-0.006054</td>\n",
              "      <td>-0.000913</td>\n",
              "      <td>-0.079941</td>\n",
              "      <td>-0.185570</td>\n",
              "      <td>-0.024845</td>\n",
              "      <td>0.047414</td>\n",
              "      <td>0.084194</td>\n",
              "      <td>0.071050</td>\n",
              "      <td>0.105880</td>\n",
              "      <td>0.291957</td>\n",
              "      <td>-0.037207</td>\n",
              "      <td>0.090421</td>\n",
              "      <td>-0.038687</td>\n",
              "      <td>-0.018533</td>\n",
              "      <td>0.007284</td>\n",
              "    </tr>\n",
              "    <tr>\n",
              "      <th>blood_and_gore</th>\n",
              "      <td>0.074368</td>\n",
              "      <td>-0.036286</td>\n",
              "      <td>-0.038232</td>\n",
              "      <td>-0.206437</td>\n",
              "      <td>1.000000</td>\n",
              "      <td>-0.042122</td>\n",
              "      <td>-0.027978</td>\n",
              "      <td>0.118566</td>\n",
              "      <td>-0.171432</td>\n",
              "      <td>0.289246</td>\n",
              "      <td>0.097976</td>\n",
              "      <td>0.053680</td>\n",
              "      <td>-0.026334</td>\n",
              "      <td>-0.066487</td>\n",
              "      <td>-0.059250</td>\n",
              "      <td>-0.077890</td>\n",
              "      <td>-0.056494</td>\n",
              "      <td>-0.091879</td>\n",
              "      <td>-0.035481</td>\n",
              "      <td>-0.047463</td>\n",
              "      <td>-0.159186</td>\n",
              "      <td>0.124743</td>\n",
              "      <td>-0.002132</td>\n",
              "      <td>0.138011</td>\n",
              "      <td>0.124611</td>\n",
              "      <td>0.012603</td>\n",
              "      <td>0.220318</td>\n",
              "      <td>0.336910</td>\n",
              "      <td>-0.025282</td>\n",
              "      <td>-0.009979</td>\n",
              "      <td>0.053693</td>\n",
              "      <td>0.063320</td>\n",
              "    </tr>\n",
              "    <tr>\n",
              "      <th>cartoon_violence</th>\n",
              "      <td>0.117672</td>\n",
              "      <td>0.054970</td>\n",
              "      <td>-0.014202</td>\n",
              "      <td>-0.067592</td>\n",
              "      <td>-0.042122</td>\n",
              "      <td>1.000000</td>\n",
              "      <td>-0.017009</td>\n",
              "      <td>0.014797</td>\n",
              "      <td>-0.075072</td>\n",
              "      <td>-0.051667</td>\n",
              "      <td>-0.049149</td>\n",
              "      <td>0.037654</td>\n",
              "      <td>-0.015294</td>\n",
              "      <td>-0.038613</td>\n",
              "      <td>0.003040</td>\n",
              "      <td>-0.013856</td>\n",
              "      <td>-0.020985</td>\n",
              "      <td>0.002136</td>\n",
              "      <td>0.080791</td>\n",
              "      <td>0.022285</td>\n",
              "      <td>-0.053692</td>\n",
              "      <td>-0.017282</td>\n",
              "      <td>-0.016317</td>\n",
              "      <td>-0.026596</td>\n",
              "      <td>0.030661</td>\n",
              "      <td>-0.022569</td>\n",
              "      <td>-0.051667</td>\n",
              "      <td>-0.027225</td>\n",
              "      <td>0.007645</td>\n",
              "      <td>0.043213</td>\n",
              "      <td>0.012657</td>\n",
              "      <td>-0.036855</td>\n",
              "    </tr>\n",
              "    <tr>\n",
              "      <th>crude_humor</th>\n",
              "      <td>0.060719</td>\n",
              "      <td>-0.001745</td>\n",
              "      <td>-0.000764</td>\n",
              "      <td>-0.080343</td>\n",
              "      <td>-0.027978</td>\n",
              "      <td>-0.017009</td>\n",
              "      <td>1.000000</td>\n",
              "      <td>-0.045542</td>\n",
              "      <td>-0.077018</td>\n",
              "      <td>0.085252</td>\n",
              "      <td>-0.061018</td>\n",
              "      <td>0.033442</td>\n",
              "      <td>0.017475</td>\n",
              "      <td>-0.056458</td>\n",
              "      <td>0.100194</td>\n",
              "      <td>-0.021187</td>\n",
              "      <td>0.012343</td>\n",
              "      <td>-0.060539</td>\n",
              "      <td>0.084074</td>\n",
              "      <td>-0.031647</td>\n",
              "      <td>-0.065087</td>\n",
              "      <td>0.009223</td>\n",
              "      <td>0.013080</td>\n",
              "      <td>-0.032395</td>\n",
              "      <td>-0.029236</td>\n",
              "      <td>0.317392</td>\n",
              "      <td>-0.066149</td>\n",
              "      <td>0.016318</td>\n",
              "      <td>-0.029767</td>\n",
              "      <td>-0.011759</td>\n",
              "      <td>-0.030407</td>\n",
              "      <td>-0.005491</td>\n",
              "    </tr>\n",
              "    <tr>\n",
              "      <th>drug_reference</th>\n",
              "      <td>-0.002193</td>\n",
              "      <td>0.009118</td>\n",
              "      <td>0.154219</td>\n",
              "      <td>-0.041479</td>\n",
              "      <td>0.118566</td>\n",
              "      <td>0.014797</td>\n",
              "      <td>-0.045542</td>\n",
              "      <td>1.000000</td>\n",
              "      <td>-0.101056</td>\n",
              "      <td>0.019599</td>\n",
              "      <td>0.174765</td>\n",
              "      <td>0.045046</td>\n",
              "      <td>0.060019</td>\n",
              "      <td>0.140227</td>\n",
              "      <td>-0.010724</td>\n",
              "      <td>-0.029203</td>\n",
              "      <td>-0.028249</td>\n",
              "      <td>0.009876</td>\n",
              "      <td>0.015025</td>\n",
              "      <td>0.011711</td>\n",
              "      <td>-0.047628</td>\n",
              "      <td>0.024447</td>\n",
              "      <td>0.053712</td>\n",
              "      <td>0.027456</td>\n",
              "      <td>0.089050</td>\n",
              "      <td>0.064191</td>\n",
              "      <td>0.162238</td>\n",
              "      <td>0.071671</td>\n",
              "      <td>0.037812</td>\n",
              "      <td>-0.024093</td>\n",
              "      <td>-0.024093</td>\n",
              "      <td>-0.002522</td>\n",
              "    </tr>\n",
              "    <tr>\n",
              "      <th>fantasy_violence</th>\n",
              "      <td>-0.149703</td>\n",
              "      <td>-0.075557</td>\n",
              "      <td>-0.027989</td>\n",
              "      <td>-0.173801</td>\n",
              "      <td>-0.171432</td>\n",
              "      <td>-0.075072</td>\n",
              "      <td>-0.077018</td>\n",
              "      <td>-0.101056</td>\n",
              "      <td>1.000000</td>\n",
              "      <td>-0.167181</td>\n",
              "      <td>-0.000897</td>\n",
              "      <td>-0.034761</td>\n",
              "      <td>0.061154</td>\n",
              "      <td>0.234389</td>\n",
              "      <td>-0.066252</td>\n",
              "      <td>-0.113529</td>\n",
              "      <td>-0.079111</td>\n",
              "      <td>0.099248</td>\n",
              "      <td>0.033831</td>\n",
              "      <td>-0.011083</td>\n",
              "      <td>-0.223748</td>\n",
              "      <td>-0.012407</td>\n",
              "      <td>-0.050356</td>\n",
              "      <td>-0.044318</td>\n",
              "      <td>-0.038499</td>\n",
              "      <td>-0.040787</td>\n",
              "      <td>-0.072573</td>\n",
              "      <td>-0.054735</td>\n",
              "      <td>0.082195</td>\n",
              "      <td>0.003901</td>\n",
              "      <td>0.003901</td>\n",
              "      <td>-0.086881</td>\n",
              "    </tr>\n",
              "    <tr>\n",
              "      <th>intense_violence</th>\n",
              "      <td>0.014717</td>\n",
              "      <td>0.148086</td>\n",
              "      <td>0.094402</td>\n",
              "      <td>0.089358</td>\n",
              "      <td>0.289246</td>\n",
              "      <td>-0.051667</td>\n",
              "      <td>0.085252</td>\n",
              "      <td>0.019599</td>\n",
              "      <td>-0.167181</td>\n",
              "      <td>1.000000</td>\n",
              "      <td>-0.111730</td>\n",
              "      <td>0.068863</td>\n",
              "      <td>0.051871</td>\n",
              "      <td>-0.055239</td>\n",
              "      <td>0.093188</td>\n",
              "      <td>-0.074587</td>\n",
              "      <td>-0.054447</td>\n",
              "      <td>-0.105783</td>\n",
              "      <td>0.167331</td>\n",
              "      <td>0.010463</td>\n",
              "      <td>-0.122131</td>\n",
              "      <td>0.090633</td>\n",
              "      <td>-0.042334</td>\n",
              "      <td>0.002844</td>\n",
              "      <td>0.021872</td>\n",
              "      <td>0.006457</td>\n",
              "      <td>0.098834</td>\n",
              "      <td>0.386323</td>\n",
              "      <td>-0.006898</td>\n",
              "      <td>0.058322</td>\n",
              "      <td>0.005943</td>\n",
              "      <td>-0.008710</td>\n",
              "    </tr>\n",
              "    <tr>\n",
              "      <th>language</th>\n",
              "      <td>-0.025412</td>\n",
              "      <td>-0.025514</td>\n",
              "      <td>0.050214</td>\n",
              "      <td>0.033477</td>\n",
              "      <td>0.097976</td>\n",
              "      <td>-0.049149</td>\n",
              "      <td>-0.061018</td>\n",
              "      <td>0.174765</td>\n",
              "      <td>-0.000897</td>\n",
              "      <td>-0.111730</td>\n",
              "      <td>1.000000</td>\n",
              "      <td>-0.036156</td>\n",
              "      <td>-0.006026</td>\n",
              "      <td>0.044850</td>\n",
              "      <td>-0.054319</td>\n",
              "      <td>-0.054385</td>\n",
              "      <td>-0.016761</td>\n",
              "      <td>-0.100627</td>\n",
              "      <td>-0.075009</td>\n",
              "      <td>-0.005880</td>\n",
              "      <td>-0.080675</td>\n",
              "      <td>0.084078</td>\n",
              "      <td>0.019290</td>\n",
              "      <td>-0.028300</td>\n",
              "      <td>0.089083</td>\n",
              "      <td>0.042541</td>\n",
              "      <td>0.019827</td>\n",
              "      <td>-0.012388</td>\n",
              "      <td>0.083706</td>\n",
              "      <td>-0.003340</td>\n",
              "      <td>0.023882</td>\n",
              "      <td>-0.021470</td>\n",
              "    </tr>\n",
              "    <tr>\n",
              "      <th>lyrics</th>\n",
              "      <td>0.000271</td>\n",
              "      <td>0.078798</td>\n",
              "      <td>-0.018662</td>\n",
              "      <td>0.060607</td>\n",
              "      <td>0.053680</td>\n",
              "      <td>0.037654</td>\n",
              "      <td>0.033442</td>\n",
              "      <td>0.045046</td>\n",
              "      <td>-0.034761</td>\n",
              "      <td>0.068863</td>\n",
              "      <td>-0.036156</td>\n",
              "      <td>1.000000</td>\n",
              "      <td>-0.020098</td>\n",
              "      <td>0.018635</td>\n",
              "      <td>-0.009590</td>\n",
              "      <td>-0.014116</td>\n",
              "      <td>-0.027577</td>\n",
              "      <td>-0.053578</td>\n",
              "      <td>-0.039938</td>\n",
              "      <td>-0.041409</td>\n",
              "      <td>-0.060389</td>\n",
              "      <td>0.074876</td>\n",
              "      <td>0.004356</td>\n",
              "      <td>-0.018776</td>\n",
              "      <td>0.105894</td>\n",
              "      <td>0.150415</td>\n",
              "      <td>-0.013192</td>\n",
              "      <td>-0.019951</td>\n",
              "      <td>0.096705</td>\n",
              "      <td>0.000062</td>\n",
              "      <td>0.023644</td>\n",
              "      <td>0.047885</td>\n",
              "    </tr>\n",
              "    <tr>\n",
              "      <th>mature_humor</th>\n",
              "      <td>-0.053862</td>\n",
              "      <td>0.110553</td>\n",
              "      <td>-0.010907</td>\n",
              "      <td>0.117246</td>\n",
              "      <td>-0.026334</td>\n",
              "      <td>-0.015294</td>\n",
              "      <td>0.017475</td>\n",
              "      <td>0.060019</td>\n",
              "      <td>0.061154</td>\n",
              "      <td>0.051871</td>\n",
              "      <td>-0.006026</td>\n",
              "      <td>-0.020098</td>\n",
              "      <td>1.000000</td>\n",
              "      <td>0.009048</td>\n",
              "      <td>0.015452</td>\n",
              "      <td>-0.024341</td>\n",
              "      <td>-0.016117</td>\n",
              "      <td>-0.031313</td>\n",
              "      <td>-0.023341</td>\n",
              "      <td>-0.024201</td>\n",
              "      <td>-0.035918</td>\n",
              "      <td>0.068387</td>\n",
              "      <td>0.030644</td>\n",
              "      <td>-0.020426</td>\n",
              "      <td>-0.026774</td>\n",
              "      <td>0.089158</td>\n",
              "      <td>-0.024422</td>\n",
              "      <td>0.005577</td>\n",
              "      <td>0.113303</td>\n",
              "      <td>-0.013746</td>\n",
              "      <td>-0.013746</td>\n",
              "      <td>-0.028305</td>\n",
              "    </tr>\n",
              "    <tr>\n",
              "      <th>mild_blood</th>\n",
              "      <td>-0.057120</td>\n",
              "      <td>0.022633</td>\n",
              "      <td>0.034883</td>\n",
              "      <td>-0.128925</td>\n",
              "      <td>-0.066487</td>\n",
              "      <td>-0.038613</td>\n",
              "      <td>-0.056458</td>\n",
              "      <td>0.140227</td>\n",
              "      <td>0.234389</td>\n",
              "      <td>-0.055239</td>\n",
              "      <td>0.044850</td>\n",
              "      <td>0.018635</td>\n",
              "      <td>0.009048</td>\n",
              "      <td>1.000000</td>\n",
              "      <td>-0.042676</td>\n",
              "      <td>-0.061456</td>\n",
              "      <td>-0.012195</td>\n",
              "      <td>-0.001321</td>\n",
              "      <td>0.102214</td>\n",
              "      <td>0.055854</td>\n",
              "      <td>-0.063086</td>\n",
              "      <td>0.069576</td>\n",
              "      <td>0.004698</td>\n",
              "      <td>-0.028790</td>\n",
              "      <td>-0.014179</td>\n",
              "      <td>0.001273</td>\n",
              "      <td>-0.042397</td>\n",
              "      <td>-0.019355</td>\n",
              "      <td>0.080199</td>\n",
              "      <td>0.031725</td>\n",
              "      <td>-0.018097</td>\n",
              "      <td>-0.020590</td>\n",
              "    </tr>\n",
              "    <tr>\n",
              "      <th>mild_cartoon_violence</th>\n",
              "      <td>0.025013</td>\n",
              "      <td>0.122995</td>\n",
              "      <td>-0.015696</td>\n",
              "      <td>-0.068227</td>\n",
              "      <td>-0.059250</td>\n",
              "      <td>0.003040</td>\n",
              "      <td>0.100194</td>\n",
              "      <td>-0.010724</td>\n",
              "      <td>-0.066252</td>\n",
              "      <td>0.093188</td>\n",
              "      <td>-0.054319</td>\n",
              "      <td>-0.009590</td>\n",
              "      <td>0.015452</td>\n",
              "      <td>-0.042676</td>\n",
              "      <td>1.000000</td>\n",
              "      <td>-0.035029</td>\n",
              "      <td>-0.023193</td>\n",
              "      <td>-0.032064</td>\n",
              "      <td>0.000089</td>\n",
              "      <td>0.046650</td>\n",
              "      <td>-0.061336</td>\n",
              "      <td>0.009626</td>\n",
              "      <td>0.042718</td>\n",
              "      <td>-0.010351</td>\n",
              "      <td>-0.008758</td>\n",
              "      <td>-0.014080</td>\n",
              "      <td>-0.035632</td>\n",
              "      <td>0.007178</td>\n",
              "      <td>-0.013934</td>\n",
              "      <td>0.035752</td>\n",
              "      <td>-0.019781</td>\n",
              "      <td>-0.040732</td>\n",
              "    </tr>\n",
              "    <tr>\n",
              "      <th>mild_fantasy_violence</th>\n",
              "      <td>-0.055683</td>\n",
              "      <td>-0.040287</td>\n",
              "      <td>-0.022603</td>\n",
              "      <td>-0.116163</td>\n",
              "      <td>-0.077890</td>\n",
              "      <td>-0.013856</td>\n",
              "      <td>-0.021187</td>\n",
              "      <td>-0.029203</td>\n",
              "      <td>-0.113529</td>\n",
              "      <td>-0.074587</td>\n",
              "      <td>-0.054385</td>\n",
              "      <td>-0.014116</td>\n",
              "      <td>-0.024341</td>\n",
              "      <td>-0.061456</td>\n",
              "      <td>-0.035029</td>\n",
              "      <td>1.000000</td>\n",
              "      <td>-0.033399</td>\n",
              "      <td>0.036919</td>\n",
              "      <td>-0.036379</td>\n",
              "      <td>-0.050152</td>\n",
              "      <td>-0.101617</td>\n",
              "      <td>-0.027505</td>\n",
              "      <td>-0.025969</td>\n",
              "      <td>-0.042329</td>\n",
              "      <td>-0.044885</td>\n",
              "      <td>-0.060195</td>\n",
              "      <td>-0.074587</td>\n",
              "      <td>-0.043330</td>\n",
              "      <td>-0.074364</td>\n",
              "      <td>-0.028485</td>\n",
              "      <td>0.011060</td>\n",
              "      <td>-0.058657</td>\n",
              "    </tr>\n",
              "    <tr>\n",
              "      <th>mild_language</th>\n",
              "      <td>0.010938</td>\n",
              "      <td>0.032322</td>\n",
              "      <td>-0.014966</td>\n",
              "      <td>-0.080808</td>\n",
              "      <td>-0.056494</td>\n",
              "      <td>-0.020985</td>\n",
              "      <td>0.012343</td>\n",
              "      <td>-0.028249</td>\n",
              "      <td>-0.079111</td>\n",
              "      <td>-0.054447</td>\n",
              "      <td>-0.016761</td>\n",
              "      <td>-0.027577</td>\n",
              "      <td>-0.016117</td>\n",
              "      <td>-0.012195</td>\n",
              "      <td>-0.023193</td>\n",
              "      <td>-0.033399</td>\n",
              "      <td>1.000000</td>\n",
              "      <td>-0.042965</td>\n",
              "      <td>0.003218</td>\n",
              "      <td>-0.033206</td>\n",
              "      <td>-0.057625</td>\n",
              "      <td>-0.018211</td>\n",
              "      <td>0.046383</td>\n",
              "      <td>-0.028026</td>\n",
              "      <td>-0.005582</td>\n",
              "      <td>-0.025351</td>\n",
              "      <td>-0.054447</td>\n",
              "      <td>-0.028689</td>\n",
              "      <td>0.024484</td>\n",
              "      <td>0.010197</td>\n",
              "      <td>0.010197</td>\n",
              "      <td>0.005668</td>\n",
              "    </tr>\n",
              "    <tr>\n",
              "      <th>mild_lyrics</th>\n",
              "      <td>-0.005617</td>\n",
              "      <td>0.006173</td>\n",
              "      <td>-0.029076</td>\n",
              "      <td>-0.006054</td>\n",
              "      <td>-0.091879</td>\n",
              "      <td>0.002136</td>\n",
              "      <td>-0.060539</td>\n",
              "      <td>0.009876</td>\n",
              "      <td>0.099248</td>\n",
              "      <td>-0.105783</td>\n",
              "      <td>-0.100627</td>\n",
              "      <td>-0.053578</td>\n",
              "      <td>-0.031313</td>\n",
              "      <td>-0.001321</td>\n",
              "      <td>-0.032064</td>\n",
              "      <td>0.036919</td>\n",
              "      <td>-0.042965</td>\n",
              "      <td>1.000000</td>\n",
              "      <td>0.014694</td>\n",
              "      <td>0.000614</td>\n",
              "      <td>-0.093836</td>\n",
              "      <td>-0.035382</td>\n",
              "      <td>-0.016063</td>\n",
              "      <td>-0.021832</td>\n",
              "      <td>-0.045878</td>\n",
              "      <td>-0.045780</td>\n",
              "      <td>-0.105783</td>\n",
              "      <td>-0.055740</td>\n",
              "      <td>0.041878</td>\n",
              "      <td>0.026772</td>\n",
              "      <td>0.026772</td>\n",
              "      <td>0.013578</td>\n",
              "    </tr>\n",
              "    <tr>\n",
              "      <th>mild_suggestive_themes</th>\n",
              "      <td>-0.030490</td>\n",
              "      <td>0.220757</td>\n",
              "      <td>0.055530</td>\n",
              "      <td>-0.000913</td>\n",
              "      <td>-0.035481</td>\n",
              "      <td>0.080791</td>\n",
              "      <td>0.084074</td>\n",
              "      <td>0.015025</td>\n",
              "      <td>0.033831</td>\n",
              "      <td>0.167331</td>\n",
              "      <td>-0.075009</td>\n",
              "      <td>-0.039938</td>\n",
              "      <td>-0.023341</td>\n",
              "      <td>0.102214</td>\n",
              "      <td>0.000089</td>\n",
              "      <td>-0.036379</td>\n",
              "      <td>0.003218</td>\n",
              "      <td>0.014694</td>\n",
              "      <td>1.000000</td>\n",
              "      <td>0.072454</td>\n",
              "      <td>-0.056481</td>\n",
              "      <td>-0.026375</td>\n",
              "      <td>-0.002431</td>\n",
              "      <td>-0.040589</td>\n",
              "      <td>0.023877</td>\n",
              "      <td>0.003798</td>\n",
              "      <td>-0.078853</td>\n",
              "      <td>-0.013981</td>\n",
              "      <td>0.040699</td>\n",
              "      <td>0.075387</td>\n",
              "      <td>0.013766</td>\n",
              "      <td>-0.035273</td>\n",
              "    </tr>\n",
              "    <tr>\n",
              "      <th>mild_violence</th>\n",
              "      <td>-0.028773</td>\n",
              "      <td>0.096508</td>\n",
              "      <td>-0.022472</td>\n",
              "      <td>-0.079941</td>\n",
              "      <td>-0.047463</td>\n",
              "      <td>0.022285</td>\n",
              "      <td>-0.031647</td>\n",
              "      <td>0.011711</td>\n",
              "      <td>-0.011083</td>\n",
              "      <td>0.010463</td>\n",
              "      <td>-0.005880</td>\n",
              "      <td>-0.041409</td>\n",
              "      <td>-0.024201</td>\n",
              "      <td>0.055854</td>\n",
              "      <td>0.046650</td>\n",
              "      <td>-0.050152</td>\n",
              "      <td>-0.033206</td>\n",
              "      <td>0.000614</td>\n",
              "      <td>0.072454</td>\n",
              "      <td>1.000000</td>\n",
              "      <td>-0.087816</td>\n",
              "      <td>0.013781</td>\n",
              "      <td>-0.004074</td>\n",
              "      <td>-0.028451</td>\n",
              "      <td>-0.055164</td>\n",
              "      <td>-0.040003</td>\n",
              "      <td>-0.081756</td>\n",
              "      <td>-0.043079</td>\n",
              "      <td>-0.058449</td>\n",
              "      <td>0.011433</td>\n",
              "      <td>-0.008444</td>\n",
              "      <td>-0.027873</td>\n",
              "    </tr>\n",
              "    <tr>\n",
              "      <th>no_descriptors</th>\n",
              "      <td>0.041926</td>\n",
              "      <td>-0.039551</td>\n",
              "      <td>-0.031429</td>\n",
              "      <td>-0.185570</td>\n",
              "      <td>-0.159186</td>\n",
              "      <td>-0.053692</td>\n",
              "      <td>-0.065087</td>\n",
              "      <td>-0.047628</td>\n",
              "      <td>-0.223748</td>\n",
              "      <td>-0.122131</td>\n",
              "      <td>-0.080675</td>\n",
              "      <td>-0.060389</td>\n",
              "      <td>-0.035918</td>\n",
              "      <td>-0.063086</td>\n",
              "      <td>-0.061336</td>\n",
              "      <td>-0.101617</td>\n",
              "      <td>-0.057625</td>\n",
              "      <td>-0.093836</td>\n",
              "      <td>-0.056481</td>\n",
              "      <td>-0.087816</td>\n",
              "      <td>1.000000</td>\n",
              "      <td>-0.020471</td>\n",
              "      <td>-0.039999</td>\n",
              "      <td>-0.085270</td>\n",
              "      <td>-0.111773</td>\n",
              "      <td>-0.110023</td>\n",
              "      <td>-0.148244</td>\n",
              "      <td>-0.087287</td>\n",
              "      <td>-0.147791</td>\n",
              "      <td>-0.034870</td>\n",
              "      <td>-0.057383</td>\n",
              "      <td>-0.106668</td>\n",
              "    </tr>\n",
              "    <tr>\n",
              "      <th>nudity</th>\n",
              "      <td>0.014775</td>\n",
              "      <td>0.031995</td>\n",
              "      <td>-0.012324</td>\n",
              "      <td>-0.024845</td>\n",
              "      <td>0.124743</td>\n",
              "      <td>-0.017282</td>\n",
              "      <td>0.009223</td>\n",
              "      <td>0.024447</td>\n",
              "      <td>-0.012407</td>\n",
              "      <td>0.090633</td>\n",
              "      <td>0.084078</td>\n",
              "      <td>0.074876</td>\n",
              "      <td>0.068387</td>\n",
              "      <td>0.069576</td>\n",
              "      <td>0.009626</td>\n",
              "      <td>-0.027505</td>\n",
              "      <td>-0.018211</td>\n",
              "      <td>-0.035382</td>\n",
              "      <td>-0.026375</td>\n",
              "      <td>0.013781</td>\n",
              "      <td>-0.020471</td>\n",
              "      <td>1.000000</td>\n",
              "      <td>-0.014160</td>\n",
              "      <td>0.024982</td>\n",
              "      <td>0.044885</td>\n",
              "      <td>-0.032822</td>\n",
              "      <td>0.117727</td>\n",
              "      <td>-0.000112</td>\n",
              "      <td>-0.004004</td>\n",
              "      <td>0.019507</td>\n",
              "      <td>0.019507</td>\n",
              "      <td>0.057462</td>\n",
              "    </tr>\n",
              "    <tr>\n",
              "      <th>partial_nudity</th>\n",
              "      <td>-0.017471</td>\n",
              "      <td>-0.005368</td>\n",
              "      <td>-0.011636</td>\n",
              "      <td>0.047414</td>\n",
              "      <td>-0.002132</td>\n",
              "      <td>-0.016317</td>\n",
              "      <td>0.013080</td>\n",
              "      <td>0.053712</td>\n",
              "      <td>-0.050356</td>\n",
              "      <td>-0.042334</td>\n",
              "      <td>0.019290</td>\n",
              "      <td>0.004356</td>\n",
              "      <td>0.030644</td>\n",
              "      <td>0.004698</td>\n",
              "      <td>0.042718</td>\n",
              "      <td>-0.025969</td>\n",
              "      <td>0.046383</td>\n",
              "      <td>-0.016063</td>\n",
              "      <td>-0.002431</td>\n",
              "      <td>-0.004074</td>\n",
              "      <td>-0.039999</td>\n",
              "      <td>-0.014160</td>\n",
              "      <td>1.000000</td>\n",
              "      <td>0.003621</td>\n",
              "      <td>0.150211</td>\n",
              "      <td>0.024499</td>\n",
              "      <td>0.129571</td>\n",
              "      <td>-0.022307</td>\n",
              "      <td>-0.042226</td>\n",
              "      <td>-0.014665</td>\n",
              "      <td>-0.014665</td>\n",
              "      <td>-0.011280</td>\n",
              "    </tr>\n",
              "    <tr>\n",
              "      <th>sexual_content</th>\n",
              "      <td>-0.034284</td>\n",
              "      <td>-0.043297</td>\n",
              "      <td>-0.018967</td>\n",
              "      <td>0.084194</td>\n",
              "      <td>0.138011</td>\n",
              "      <td>-0.026596</td>\n",
              "      <td>-0.032395</td>\n",
              "      <td>0.027456</td>\n",
              "      <td>-0.044318</td>\n",
              "      <td>0.002844</td>\n",
              "      <td>-0.028300</td>\n",
              "      <td>-0.018776</td>\n",
              "      <td>-0.020426</td>\n",
              "      <td>-0.028790</td>\n",
              "      <td>-0.010351</td>\n",
              "      <td>-0.042329</td>\n",
              "      <td>-0.028026</td>\n",
              "      <td>-0.021832</td>\n",
              "      <td>-0.040589</td>\n",
              "      <td>-0.028451</td>\n",
              "      <td>-0.085270</td>\n",
              "      <td>0.024982</td>\n",
              "      <td>0.003621</td>\n",
              "      <td>1.000000</td>\n",
              "      <td>0.040612</td>\n",
              "      <td>0.007465</td>\n",
              "      <td>0.164498</td>\n",
              "      <td>0.010406</td>\n",
              "      <td>0.021154</td>\n",
              "      <td>0.045783</td>\n",
              "      <td>-0.023903</td>\n",
              "      <td>0.010076</td>\n",
              "    </tr>\n",
              "    <tr>\n",
              "      <th>sexual_themes</th>\n",
              "      <td>-0.035514</td>\n",
              "      <td>-0.025596</td>\n",
              "      <td>-0.024862</td>\n",
              "      <td>0.071050</td>\n",
              "      <td>0.124611</td>\n",
              "      <td>0.030661</td>\n",
              "      <td>-0.029236</td>\n",
              "      <td>0.089050</td>\n",
              "      <td>-0.038499</td>\n",
              "      <td>0.021872</td>\n",
              "      <td>0.089083</td>\n",
              "      <td>0.105894</td>\n",
              "      <td>-0.026774</td>\n",
              "      <td>-0.014179</td>\n",
              "      <td>-0.008758</td>\n",
              "      <td>-0.044885</td>\n",
              "      <td>-0.005582</td>\n",
              "      <td>-0.045878</td>\n",
              "      <td>0.023877</td>\n",
              "      <td>-0.055164</td>\n",
              "      <td>-0.111773</td>\n",
              "      <td>0.044885</td>\n",
              "      <td>0.150211</td>\n",
              "      <td>0.040612</td>\n",
              "      <td>1.000000</td>\n",
              "      <td>0.078810</td>\n",
              "      <td>0.274595</td>\n",
              "      <td>-0.011105</td>\n",
              "      <td>0.008251</td>\n",
              "      <td>-0.031332</td>\n",
              "      <td>-0.013175</td>\n",
              "      <td>-0.018168</td>\n",
              "    </tr>\n",
              "    <tr>\n",
              "      <th>simulated_gambling</th>\n",
              "      <td>0.065992</td>\n",
              "      <td>-0.003547</td>\n",
              "      <td>-0.026972</td>\n",
              "      <td>0.105880</td>\n",
              "      <td>0.012603</td>\n",
              "      <td>-0.022569</td>\n",
              "      <td>0.317392</td>\n",
              "      <td>0.064191</td>\n",
              "      <td>-0.040787</td>\n",
              "      <td>0.006457</td>\n",
              "      <td>0.042541</td>\n",
              "      <td>0.150415</td>\n",
              "      <td>0.089158</td>\n",
              "      <td>0.001273</td>\n",
              "      <td>-0.014080</td>\n",
              "      <td>-0.060195</td>\n",
              "      <td>-0.025351</td>\n",
              "      <td>-0.045780</td>\n",
              "      <td>0.003798</td>\n",
              "      <td>-0.040003</td>\n",
              "      <td>-0.110023</td>\n",
              "      <td>-0.032822</td>\n",
              "      <td>0.024499</td>\n",
              "      <td>0.007465</td>\n",
              "      <td>0.078810</td>\n",
              "      <td>1.000000</td>\n",
              "      <td>0.150263</td>\n",
              "      <td>-0.017669</td>\n",
              "      <td>-0.032387</td>\n",
              "      <td>-0.033992</td>\n",
              "      <td>0.016729</td>\n",
              "      <td>0.007689</td>\n",
              "    </tr>\n",
              "    <tr>\n",
              "      <th>strong_janguage</th>\n",
              "      <td>0.063812</td>\n",
              "      <td>-0.076622</td>\n",
              "      <td>-0.020440</td>\n",
              "      <td>0.291957</td>\n",
              "      <td>0.220318</td>\n",
              "      <td>-0.051667</td>\n",
              "      <td>-0.066149</td>\n",
              "      <td>0.162238</td>\n",
              "      <td>-0.072573</td>\n",
              "      <td>0.098834</td>\n",
              "      <td>0.019827</td>\n",
              "      <td>-0.013192</td>\n",
              "      <td>-0.024422</td>\n",
              "      <td>-0.042397</td>\n",
              "      <td>-0.035632</td>\n",
              "      <td>-0.074587</td>\n",
              "      <td>-0.054447</td>\n",
              "      <td>-0.105783</td>\n",
              "      <td>-0.078853</td>\n",
              "      <td>-0.081756</td>\n",
              "      <td>-0.148244</td>\n",
              "      <td>0.117727</td>\n",
              "      <td>0.129571</td>\n",
              "      <td>0.164498</td>\n",
              "      <td>0.274595</td>\n",
              "      <td>0.150263</td>\n",
              "      <td>1.000000</td>\n",
              "      <td>0.026029</td>\n",
              "      <td>-0.011971</td>\n",
              "      <td>-0.020247</td>\n",
              "      <td>-0.046436</td>\n",
              "      <td>-0.008710</td>\n",
              "    </tr>\n",
              "    <tr>\n",
              "      <th>strong_sexual_content</th>\n",
              "      <td>0.043566</td>\n",
              "      <td>0.007684</td>\n",
              "      <td>-0.019415</td>\n",
              "      <td>-0.037207</td>\n",
              "      <td>0.336910</td>\n",
              "      <td>-0.027225</td>\n",
              "      <td>0.016318</td>\n",
              "      <td>0.071671</td>\n",
              "      <td>-0.054735</td>\n",
              "      <td>0.386323</td>\n",
              "      <td>-0.012388</td>\n",
              "      <td>-0.019951</td>\n",
              "      <td>0.005577</td>\n",
              "      <td>-0.019355</td>\n",
              "      <td>0.007178</td>\n",
              "      <td>-0.043330</td>\n",
              "      <td>-0.028689</td>\n",
              "      <td>-0.055740</td>\n",
              "      <td>-0.013981</td>\n",
              "      <td>-0.043079</td>\n",
              "      <td>-0.087287</td>\n",
              "      <td>-0.000112</td>\n",
              "      <td>-0.022307</td>\n",
              "      <td>0.010406</td>\n",
              "      <td>-0.011105</td>\n",
              "      <td>-0.017669</td>\n",
              "      <td>0.026029</td>\n",
              "      <td>1.000000</td>\n",
              "      <td>-0.052847</td>\n",
              "      <td>-0.024468</td>\n",
              "      <td>-0.024468</td>\n",
              "      <td>0.007636</td>\n",
              "    </tr>\n",
              "    <tr>\n",
              "      <th>suggestive_themes</th>\n",
              "      <td>-0.072237</td>\n",
              "      <td>-0.001347</td>\n",
              "      <td>-0.036753</td>\n",
              "      <td>0.090421</td>\n",
              "      <td>-0.025282</td>\n",
              "      <td>0.007645</td>\n",
              "      <td>-0.029767</td>\n",
              "      <td>0.037812</td>\n",
              "      <td>0.082195</td>\n",
              "      <td>-0.006898</td>\n",
              "      <td>0.083706</td>\n",
              "      <td>0.096705</td>\n",
              "      <td>0.113303</td>\n",
              "      <td>0.080199</td>\n",
              "      <td>-0.013934</td>\n",
              "      <td>-0.074364</td>\n",
              "      <td>0.024484</td>\n",
              "      <td>0.041878</td>\n",
              "      <td>0.040699</td>\n",
              "      <td>-0.058449</td>\n",
              "      <td>-0.147791</td>\n",
              "      <td>-0.004004</td>\n",
              "      <td>-0.042226</td>\n",
              "      <td>0.021154</td>\n",
              "      <td>0.008251</td>\n",
              "      <td>-0.032387</td>\n",
              "      <td>-0.011971</td>\n",
              "      <td>-0.052847</td>\n",
              "      <td>1.000000</td>\n",
              "      <td>-0.033198</td>\n",
              "      <td>0.006162</td>\n",
              "      <td>0.011795</td>\n",
              "    </tr>\n",
              "    <tr>\n",
              "      <th>use_of_alcohol</th>\n",
              "      <td>-0.027630</td>\n",
              "      <td>0.164599</td>\n",
              "      <td>0.072105</td>\n",
              "      <td>-0.038687</td>\n",
              "      <td>-0.009979</td>\n",
              "      <td>0.043213</td>\n",
              "      <td>-0.011759</td>\n",
              "      <td>-0.024093</td>\n",
              "      <td>0.003901</td>\n",
              "      <td>0.058322</td>\n",
              "      <td>-0.003340</td>\n",
              "      <td>0.000062</td>\n",
              "      <td>-0.013746</td>\n",
              "      <td>0.031725</td>\n",
              "      <td>0.035752</td>\n",
              "      <td>-0.028485</td>\n",
              "      <td>0.010197</td>\n",
              "      <td>0.026772</td>\n",
              "      <td>0.075387</td>\n",
              "      <td>0.011433</td>\n",
              "      <td>-0.034870</td>\n",
              "      <td>0.019507</td>\n",
              "      <td>-0.014665</td>\n",
              "      <td>0.045783</td>\n",
              "      <td>-0.031332</td>\n",
              "      <td>-0.033992</td>\n",
              "      <td>-0.020247</td>\n",
              "      <td>-0.024468</td>\n",
              "      <td>-0.033198</td>\n",
              "      <td>1.000000</td>\n",
              "      <td>-0.016086</td>\n",
              "      <td>0.018752</td>\n",
              "    </tr>\n",
              "    <tr>\n",
              "      <th>use_of_drugs_and_alcohol</th>\n",
              "      <td>0.031628</td>\n",
              "      <td>-0.029137</td>\n",
              "      <td>0.029670</td>\n",
              "      <td>-0.018533</td>\n",
              "      <td>0.053693</td>\n",
              "      <td>0.012657</td>\n",
              "      <td>-0.030407</td>\n",
              "      <td>-0.024093</td>\n",
              "      <td>0.003901</td>\n",
              "      <td>0.005943</td>\n",
              "      <td>0.023882</td>\n",
              "      <td>0.023644</td>\n",
              "      <td>-0.013746</td>\n",
              "      <td>-0.018097</td>\n",
              "      <td>-0.019781</td>\n",
              "      <td>0.011060</td>\n",
              "      <td>0.010197</td>\n",
              "      <td>0.026772</td>\n",
              "      <td>0.013766</td>\n",
              "      <td>-0.008444</td>\n",
              "      <td>-0.057383</td>\n",
              "      <td>0.019507</td>\n",
              "      <td>-0.014665</td>\n",
              "      <td>-0.023903</td>\n",
              "      <td>-0.013175</td>\n",
              "      <td>0.016729</td>\n",
              "      <td>-0.046436</td>\n",
              "      <td>-0.024468</td>\n",
              "      <td>0.006162</td>\n",
              "      <td>-0.016086</td>\n",
              "      <td>1.000000</td>\n",
              "      <td>0.053335</td>\n",
              "    </tr>\n",
              "    <tr>\n",
              "      <th>violence</th>\n",
              "      <td>0.010672</td>\n",
              "      <td>-0.040217</td>\n",
              "      <td>0.017046</td>\n",
              "      <td>0.007284</td>\n",
              "      <td>0.063320</td>\n",
              "      <td>-0.036855</td>\n",
              "      <td>-0.005491</td>\n",
              "      <td>-0.002522</td>\n",
              "      <td>-0.086881</td>\n",
              "      <td>-0.008710</td>\n",
              "      <td>-0.021470</td>\n",
              "      <td>0.047885</td>\n",
              "      <td>-0.028305</td>\n",
              "      <td>-0.020590</td>\n",
              "      <td>-0.040732</td>\n",
              "      <td>-0.058657</td>\n",
              "      <td>0.005668</td>\n",
              "      <td>0.013578</td>\n",
              "      <td>-0.035273</td>\n",
              "      <td>-0.027873</td>\n",
              "      <td>-0.106668</td>\n",
              "      <td>0.057462</td>\n",
              "      <td>-0.011280</td>\n",
              "      <td>0.010076</td>\n",
              "      <td>-0.018168</td>\n",
              "      <td>0.007689</td>\n",
              "      <td>-0.008710</td>\n",
              "      <td>0.007636</td>\n",
              "      <td>0.011795</td>\n",
              "      <td>0.018752</td>\n",
              "      <td>0.053335</td>\n",
              "      <td>1.000000</td>\n",
              "    </tr>\n",
              "  </tbody>\n",
              "</table>\n",
              "</div>"
            ],
            "text/plain": [
              "                           console  ...  violence\n",
              "console                   1.000000  ...  0.010672\n",
              "alcohol_reference        -0.010502  ... -0.040217\n",
              "animated_blood            0.031460  ...  0.017046\n",
              "blood                    -0.018638  ...  0.007284\n",
              "blood_and_gore            0.074368  ...  0.063320\n",
              "cartoon_violence          0.117672  ... -0.036855\n",
              "crude_humor               0.060719  ... -0.005491\n",
              "drug_reference           -0.002193  ... -0.002522\n",
              "fantasy_violence         -0.149703  ... -0.086881\n",
              "intense_violence          0.014717  ... -0.008710\n",
              "language                 -0.025412  ... -0.021470\n",
              "lyrics                    0.000271  ...  0.047885\n",
              "mature_humor             -0.053862  ... -0.028305\n",
              "mild_blood               -0.057120  ... -0.020590\n",
              "mild_cartoon_violence     0.025013  ... -0.040732\n",
              "mild_fantasy_violence    -0.055683  ... -0.058657\n",
              "mild_language             0.010938  ...  0.005668\n",
              "mild_lyrics              -0.005617  ...  0.013578\n",
              "mild_suggestive_themes   -0.030490  ... -0.035273\n",
              "mild_violence            -0.028773  ... -0.027873\n",
              "no_descriptors            0.041926  ... -0.106668\n",
              "nudity                    0.014775  ...  0.057462\n",
              "partial_nudity           -0.017471  ... -0.011280\n",
              "sexual_content           -0.034284  ...  0.010076\n",
              "sexual_themes            -0.035514  ... -0.018168\n",
              "simulated_gambling        0.065992  ...  0.007689\n",
              "strong_janguage           0.063812  ... -0.008710\n",
              "strong_sexual_content     0.043566  ...  0.007636\n",
              "suggestive_themes        -0.072237  ...  0.011795\n",
              "use_of_alcohol           -0.027630  ...  0.018752\n",
              "use_of_drugs_and_alcohol  0.031628  ...  0.053335\n",
              "violence                  0.010672  ...  1.000000\n",
              "\n",
              "[32 rows x 32 columns]"
            ]
          },
          "metadata": {
            "tags": []
          },
          "execution_count": 14
        }
      ]
    },
    {
      "cell_type": "code",
      "metadata": {
        "id": "p6YD8Vw3y_2r",
        "colab": {
          "base_uri": "https://localhost:8080/",
          "height": 317
        },
        "outputId": "9777db38-f265-444a-9f9b-01bb9b7b0e99"
      },
      "source": [
        "ratings = trainset['esrb_rating'].tolist()\n",
        "import matplotlib.pyplot as plt\n",
        "plt.hist(ratings)"
      ],
      "execution_count": null,
      "outputs": [
        {
          "output_type": "execute_result",
          "data": {
            "text/plain": [
              "(array([416.,   0.,   0., 403.,   0.,   0., 387.,   0.,   0., 689.]),\n",
              " array([0. , 0.3, 0.6, 0.9, 1.2, 1.5, 1.8, 2.1, 2.4, 2.7, 3. ]),\n",
              " <a list of 10 Patch objects>)"
            ]
          },
          "metadata": {
            "tags": []
          },
          "execution_count": 15
        },
        {
          "output_type": "display_data",
          "data": {
            "image/png": "[encoded data removed]",
            "text/plain": [
              "<Figure size 432x288 with 1 Axes>"
            ]
          },
          "metadata": {
            "tags": [],
            "needs_background": "light"
          }
        }
      ]
    },
    {
      "cell_type": "code",
      "metadata": {
        "id": "QK_R4DHZurP-",
        "colab": {
          "base_uri": "https://localhost:8080/"
        },
        "outputId": "2dc44633-e88b-41c8-c208-1a2ee59c7dff"
      },
      "source": [
        "len(trainset['esrb_rating'].tolist())"
      ],
      "execution_count": null,
      "outputs": [
        {
          "output_type": "execute_result",
          "data": {
            "text/plain": [
              "1895"
            ]
          },
          "metadata": {
            "tags": []
          },
          "execution_count": 16
        }
      ]
    },
    {
      "cell_type": "code",
      "metadata": {
        "id": "PoUJGkCeU700",
        "colab": {
          "base_uri": "https://localhost:8080/",
          "height": 235
        },
        "outputId": "8a40d8fb-32d7-4346-da91-32f2ac3f1e50"
      },
      "source": [
        "# fitting multiple k-means algorithms and storing the values in an empty list\n",
        "SSE = []\n",
        "for cluster in range(1,20):\n",
        "    kmeans = KMeans(n_jobs = -1, n_clusters = cluster, init='k-means++')\n",
        "    kmeans.fit(trainset.iloc[:,1:33])\n",
        "    SSE.append(kmeans.inertia_)\n",
        "\n",
        "# converting the results into a dataframe and plotting them\n",
        "frame = pd.DataFrame({'Cluster':range(1,20), 'SSE':SSE})\n",
        "plt.figure(figsize=(12,6))\n",
        "plt.plot(frame['Cluster'], frame['SSE'], marker='o')\n",
        "plt.xlabel('Number of clusters')\n",
        "plt.ylabel('Inertia')"
      ],
      "execution_count": null,
      "outputs": [
        {
          "output_type": "error",
          "ename": "NameError",
          "evalue": "ignored",
          "traceback": [
            "\u001b[0;31m---------------------------------------------------------------------------\u001b[0m",
            "\u001b[0;31mNameError\u001b[0m                                 Traceback (most recent call last)",
            "\u001b[0;32m<ipython-input-17-0c3aa56e678a>\u001b[0m in \u001b[0;36m<module>\u001b[0;34m()\u001b[0m\n\u001b[1;32m      2\u001b[0m \u001b[0mSSE\u001b[0m \u001b[0;34m=\u001b[0m \u001b[0;34m[\u001b[0m\u001b[0;34m]\u001b[0m\u001b[0;34m\u001b[0m\u001b[0;34m\u001b[0m\u001b[0m\n\u001b[1;32m      3\u001b[0m \u001b[0;32mfor\u001b[0m \u001b[0mcluster\u001b[0m \u001b[0;32min\u001b[0m \u001b[0mrange\u001b[0m\u001b[0;34m(\u001b[0m\u001b[0;36m1\u001b[0m\u001b[0;34m,\u001b[0m\u001b[0;36m20\u001b[0m\u001b[0;34m)\u001b[0m\u001b[0;34m:\u001b[0m\u001b[0;34m\u001b[0m\u001b[0;34m\u001b[0m\u001b[0m\n\u001b[0;32m----> 4\u001b[0;31m     \u001b[0mkmeans\u001b[0m \u001b[0;34m=\u001b[0m \u001b[0mKMeans\u001b[0m\u001b[0;34m(\u001b[0m\u001b[0mn_jobs\u001b[0m \u001b[0;34m=\u001b[0m \u001b[0;34m-\u001b[0m\u001b[0;36m1\u001b[0m\u001b[0;34m,\u001b[0m \u001b[0mn_clusters\u001b[0m \u001b[0;34m=\u001b[0m \u001b[0mcluster\u001b[0m\u001b[0;34m,\u001b[0m \u001b[0minit\u001b[0m\u001b[0;34m=\u001b[0m\u001b[0;34m'k-means++'\u001b[0m\u001b[0;34m)\u001b[0m\u001b[0;34m\u001b[0m\u001b[0;34m\u001b[0m\u001b[0m\n\u001b[0m\u001b[1;32m      5\u001b[0m     \u001b[0mkmeans\u001b[0m\u001b[0;34m.\u001b[0m\u001b[0mfit\u001b[0m\u001b[0;34m(\u001b[0m\u001b[0mtrainset\u001b[0m\u001b[0;34m.\u001b[0m\u001b[0miloc\u001b[0m\u001b[0;34m[\u001b[0m\u001b[0;34m:\u001b[0m\u001b[0;34m,\u001b[0m\u001b[0;36m1\u001b[0m\u001b[0;34m:\u001b[0m\u001b[0;36m33\u001b[0m\u001b[0;34m]\u001b[0m\u001b[0;34m)\u001b[0m\u001b[0;34m\u001b[0m\u001b[0;34m\u001b[0m\u001b[0m\n\u001b[1;32m      6\u001b[0m     \u001b[0mSSE\u001b[0m\u001b[0;34m.\u001b[0m\u001b[0mappend\u001b[0m\u001b[0;34m(\u001b[0m\u001b[0mkmeans\u001b[0m\u001b[0;34m.\u001b[0m\u001b[0minertia_\u001b[0m\u001b[0;34m)\u001b[0m\u001b[0;34m\u001b[0m\u001b[0;34m\u001b[0m\u001b[0m\n",
            "\u001b[0;31mNameError\u001b[0m: name 'KMeans' is not defined"
          ]
        }
      ]
    },
    {
      "cell_type": "code",
      "metadata": {
        "id": "niwY_G4XVI48",
        "colab": {
          "base_uri": "https://localhost:8080/",
          "height": 218
        },
        "outputId": "18225233-9982-45cc-db3d-e0453bb1d530"
      },
      "source": [
        "# k means using 5 clusters and k-means++ initialization\n",
        "kmeans = KMeans(n_jobs = -1, n_clusters = 5, init='k-means++')\n",
        "kmeans.fit(trainset.iloc[:,1:33])\n",
        "pred = kmeans.predict(trainset.iloc[:,1:33])"
      ],
      "execution_count": null,
      "outputs": [
        {
          "output_type": "error",
          "ename": "NameError",
          "evalue": "ignored",
          "traceback": [
            "\u001b[0;31m---------------------------------------------------------------------------\u001b[0m",
            "\u001b[0;31mNameError\u001b[0m                                 Traceback (most recent call last)",
            "\u001b[0;32m<ipython-input-18-25fcc7ae4ef2>\u001b[0m in \u001b[0;36m<module>\u001b[0;34m()\u001b[0m\n\u001b[1;32m      1\u001b[0m \u001b[0;31m# k means using 5 clusters and k-means++ initialization\u001b[0m\u001b[0;34m\u001b[0m\u001b[0;34m\u001b[0m\u001b[0;34m\u001b[0m\u001b[0m\n\u001b[0;32m----> 2\u001b[0;31m \u001b[0mkmeans\u001b[0m \u001b[0;34m=\u001b[0m \u001b[0mKMeans\u001b[0m\u001b[0;34m(\u001b[0m\u001b[0mn_jobs\u001b[0m \u001b[0;34m=\u001b[0m \u001b[0;34m-\u001b[0m\u001b[0;36m1\u001b[0m\u001b[0;34m,\u001b[0m \u001b[0mn_clusters\u001b[0m \u001b[0;34m=\u001b[0m \u001b[0;36m5\u001b[0m\u001b[0;34m,\u001b[0m \u001b[0minit\u001b[0m\u001b[0;34m=\u001b[0m\u001b[0;34m'k-means++'\u001b[0m\u001b[0;34m)\u001b[0m\u001b[0;34m\u001b[0m\u001b[0;34m\u001b[0m\u001b[0m\n\u001b[0m\u001b[1;32m      3\u001b[0m \u001b[0mkmeans\u001b[0m\u001b[0;34m.\u001b[0m\u001b[0mfit\u001b[0m\u001b[0;34m(\u001b[0m\u001b[0mtrainset\u001b[0m\u001b[0;34m.\u001b[0m\u001b[0miloc\u001b[0m\u001b[0;34m[\u001b[0m\u001b[0;34m:\u001b[0m\u001b[0;34m,\u001b[0m\u001b[0;36m1\u001b[0m\u001b[0;34m:\u001b[0m\u001b[0;36m33\u001b[0m\u001b[0;34m]\u001b[0m\u001b[0;34m)\u001b[0m\u001b[0;34m\u001b[0m\u001b[0;34m\u001b[0m\u001b[0m\n\u001b[1;32m      4\u001b[0m \u001b[0mpred\u001b[0m \u001b[0;34m=\u001b[0m \u001b[0mkmeans\u001b[0m\u001b[0;34m.\u001b[0m\u001b[0mpredict\u001b[0m\u001b[0;34m(\u001b[0m\u001b[0mtrainset\u001b[0m\u001b[0;34m.\u001b[0m\u001b[0miloc\u001b[0m\u001b[0;34m[\u001b[0m\u001b[0;34m:\u001b[0m\u001b[0;34m,\u001b[0m\u001b[0;36m1\u001b[0m\u001b[0;34m:\u001b[0m\u001b[0;36m33\u001b[0m\u001b[0;34m]\u001b[0m\u001b[0;34m)\u001b[0m\u001b[0;34m\u001b[0m\u001b[0;34m\u001b[0m\u001b[0m\n",
            "\u001b[0;31mNameError\u001b[0m: name 'KMeans' is not defined"
          ]
        }
      ]
    },
    {
      "cell_type": "code",
      "metadata": {
        "id": "3GPETVaVVQlf"
      },
      "source": [
        "from collections import Counter\n",
        "Counter(pred)"
      ],
      "execution_count": null,
      "outputs": []
    },
    {
      "cell_type": "code",
      "metadata": {
        "id": "bpWzQJnChHgQ"
      },
      "source": [
        "vars = trainset.iloc[:,1:33].columns.tolist()"
      ],
      "execution_count": null,
      "outputs": []
    },
    {
      "cell_type": "code",
      "metadata": {
        "id": "yRVCqGpvhdHa"
      },
      "source": [
        "ts_ishan = trainset.copy()"
      ],
      "execution_count": null,
      "outputs": []
    },
    {
      "cell_type": "code",
      "metadata": {
        "id": "w1xr4R6phf30"
      },
      "source": [
        "ts_ishan['cluster'] = kmeans.labels_"
      ],
      "execution_count": null,
      "outputs": []
    },
    {
      "cell_type": "code",
      "metadata": {
        "id": "EuzitHcIWV5-"
      },
      "source": [
        "import seaborn as sns\n",
        "fig, ax = plt.subplots(6,5, figsize = (15,10))\n",
        "for v, subplot in zip(vars, ax.flatten()):\n",
        "  sns.boxplot(x='cluster', y=v, data=ts_ishan, ax=subplot)"
      ],
      "execution_count": null,
      "outputs": []
    },
    {
      "cell_type": "markdown",
      "metadata": {
        "id": "jV7Ewmnci95F"
      },
      "source": [
        "###Resample"
      ]
    },
    {
      "cell_type": "code",
      "metadata": {
        "id": "Yg7LgibojgrO"
      },
      "source": [
        "trainset.shape"
      ],
      "execution_count": null,
      "outputs": []
    },
    {
      "cell_type": "code",
      "metadata": {
        "id": "yQk0OkeFjRjY"
      },
      "source": [
        ""
      ],
      "execution_count": null,
      "outputs": []
    },
    {
      "cell_type": "code",
      "metadata": {
        "id": "ZVvSjrWQi8JP"
      },
      "source": [
        "from imblearn.under_sampling import RandomUnderSampler\n",
        "sm = RandomUnderSampler(random_state=77)\n",
        "rs_x_train, rs_y_train = sm.fit_resample(trainset.iloc[:,:33], trainset['esrb_rating'])"
      ],
      "execution_count": null,
      "outputs": []
    },
    {
      "cell_type": "code",
      "metadata": {
        "id": "ITzUrrhIkaNh"
      },
      "source": [
        "import matplotlib.pyplot as plt\n",
        "plt.hist(rs_y_train)"
      ],
      "execution_count": null,
      "outputs": []
    },
    {
      "cell_type": "code",
      "metadata": {
        "id": "f0GRYxuDkmJr"
      },
      "source": [
        "from collections import Counter\n",
        "Counter(pd.DataFrame(rs_x_train)[0]).most_common()"
      ],
      "execution_count": null,
      "outputs": []
    },
    {
      "cell_type": "markdown",
      "metadata": {
        "id": "QkgT1IwFwZVo"
      },
      "source": [
        "##Anirudh's EDA"
      ]
    },
    {
      "cell_type": "markdown",
      "metadata": {
        "id": "O1F8PdRgQsiC"
      },
      "source": [
        "#### **Following EDA steps taken**:\n",
        "- Distribution of 0/1s among attributes\n",
        "- Number of Null and NaN values\n",
        "- Jaccard based correlation (module to find top correlations from the matrix)"
      ]
    },
    {
      "cell_type": "code",
      "metadata": {
        "id": "HCFeJUeCwy1Q"
      },
      "source": [
        "# Temporary personal copy\n",
        "AA_trainset = trainset.copy()\n",
        "AA_testset = trainset.copy()"
      ],
      "execution_count": null,
      "outputs": []
    },
    {
      "cell_type": "code",
      "metadata": {
        "colab": {
          "base_uri": "https://localhost:8080/",
          "height": 320
        },
        "id": "S8Zmg-6pXcgm",
        "outputId": "91843c70-8c90-416b-ca14-9f087caf8182"
      },
      "source": [
        "AA_trainset[['esrb_rating','console']].value_counts().plot.bar(color=['red','red','green','green','blue','blue','orange','orange'])"
      ],
      "execution_count": null,
      "outputs": [
        {
          "output_type": "execute_result",
          "data": {
            "text/plain": [
              "<matplotlib.axes._subplots.AxesSubplot at 0x7fa1f3bf8cd0>"
            ]
          },
          "metadata": {
            "tags": []
          },
          "execution_count": 10
        },
        {
          "output_type": "display_data",
          "data": {
            "image/png": "[encoded data removed]",
            "text/plain": [
              "<Figure size 432x288 with 1 Axes>"
            ]
          },
          "metadata": {
            "tags": [],
            "needs_background": "light"
          }
        }
      ]
    },
    {
      "cell_type": "code",
      "metadata": {
        "id": "ny_ofTBjRBDI",
        "colab": {
          "base_uri": "https://localhost:8080/",
          "height": 274
        },
        "outputId": "ed6dec43-7dca-48a7-e115-c8a52ce776a8"
      },
      "source": [
        "AA_trainset.head()"
      ],
      "execution_count": null,
      "outputs": [
        {
          "output_type": "execute_result",
          "data": {
            "text/html": [
              "<div>\n",
              "<style scoped>\n",
              "    .dataframe tbody tr th:only-of-type {\n",
              "        vertical-align: middle;\n",
              "    }\n",
              "\n",
              "    .dataframe tbody tr th {\n",
              "        vertical-align: top;\n",
              "    }\n",
              "\n",
              "    .dataframe thead th {\n",
              "        text-align: right;\n",
              "    }\n",
              "</style>\n",
              "<table border=\"1\" class=\"dataframe\">\n",
              "  <thead>\n",
              "    <tr style=\"text-align: right;\">\n",
              "      <th></th>\n",
              "      <th>title</th>\n",
              "      <th>console</th>\n",
              "      <th>alcohol_reference</th>\n",
              "      <th>animated_blood</th>\n",
              "      <th>blood</th>\n",
              "      <th>blood_and_gore</th>\n",
              "      <th>cartoon_violence</th>\n",
              "      <th>crude_humor</th>\n",
              "      <th>drug_reference</th>\n",
              "      <th>fantasy_violence</th>\n",
              "      <th>intense_violence</th>\n",
              "      <th>language</th>\n",
              "      <th>lyrics</th>\n",
              "      <th>mature_humor</th>\n",
              "      <th>mild_blood</th>\n",
              "      <th>mild_cartoon_violence</th>\n",
              "      <th>mild_fantasy_violence</th>\n",
              "      <th>mild_language</th>\n",
              "      <th>mild_lyrics</th>\n",
              "      <th>mild_suggestive_themes</th>\n",
              "      <th>mild_violence</th>\n",
              "      <th>no_descriptors</th>\n",
              "      <th>nudity</th>\n",
              "      <th>partial_nudity</th>\n",
              "      <th>sexual_content</th>\n",
              "      <th>sexual_themes</th>\n",
              "      <th>simulated_gambling</th>\n",
              "      <th>strong_janguage</th>\n",
              "      <th>strong_sexual_content</th>\n",
              "      <th>suggestive_themes</th>\n",
              "      <th>use_of_alcohol</th>\n",
              "      <th>use_of_drugs_and_alcohol</th>\n",
              "      <th>violence</th>\n",
              "      <th>esrb_rating</th>\n",
              "    </tr>\n",
              "  </thead>\n",
              "  <tbody>\n",
              "    <tr>\n",
              "      <th>0</th>\n",
              "      <td>Monster Jam Steel Titans 2</td>\n",
              "      <td>1</td>\n",
              "      <td>0</td>\n",
              "      <td>0</td>\n",
              "      <td>0</td>\n",
              "      <td>0</td>\n",
              "      <td>0</td>\n",
              "      <td>0</td>\n",
              "      <td>0</td>\n",
              "      <td>0</td>\n",
              "      <td>0</td>\n",
              "      <td>0</td>\n",
              "      <td>0</td>\n",
              "      <td>0</td>\n",
              "      <td>0</td>\n",
              "      <td>0</td>\n",
              "      <td>0</td>\n",
              "      <td>0</td>\n",
              "      <td>0</td>\n",
              "      <td>0</td>\n",
              "      <td>0</td>\n",
              "      <td>1</td>\n",
              "      <td>0</td>\n",
              "      <td>0</td>\n",
              "      <td>0</td>\n",
              "      <td>0</td>\n",
              "      <td>0</td>\n",
              "      <td>0</td>\n",
              "      <td>0</td>\n",
              "      <td>0</td>\n",
              "      <td>0</td>\n",
              "      <td>0</td>\n",
              "      <td>0</td>\n",
              "      <td>E</td>\n",
              "    </tr>\n",
              "    <tr>\n",
              "      <th>1</th>\n",
              "      <td>Subnautica: Below Zero</td>\n",
              "      <td>1</td>\n",
              "      <td>0</td>\n",
              "      <td>1</td>\n",
              "      <td>0</td>\n",
              "      <td>0</td>\n",
              "      <td>0</td>\n",
              "      <td>0</td>\n",
              "      <td>0</td>\n",
              "      <td>0</td>\n",
              "      <td>1</td>\n",
              "      <td>0</td>\n",
              "      <td>0</td>\n",
              "      <td>0</td>\n",
              "      <td>0</td>\n",
              "      <td>0</td>\n",
              "      <td>0</td>\n",
              "      <td>0</td>\n",
              "      <td>0</td>\n",
              "      <td>1</td>\n",
              "      <td>0</td>\n",
              "      <td>0</td>\n",
              "      <td>0</td>\n",
              "      <td>0</td>\n",
              "      <td>0</td>\n",
              "      <td>0</td>\n",
              "      <td>0</td>\n",
              "      <td>0</td>\n",
              "      <td>0</td>\n",
              "      <td>0</td>\n",
              "      <td>0</td>\n",
              "      <td>0</td>\n",
              "      <td>0</td>\n",
              "      <td>ET</td>\n",
              "    </tr>\n",
              "    <tr>\n",
              "      <th>2</th>\n",
              "      <td>NIER REPLICANT VER.1.22474487139…</td>\n",
              "      <td>1</td>\n",
              "      <td>0</td>\n",
              "      <td>0</td>\n",
              "      <td>1</td>\n",
              "      <td>0</td>\n",
              "      <td>0</td>\n",
              "      <td>0</td>\n",
              "      <td>0</td>\n",
              "      <td>0</td>\n",
              "      <td>0</td>\n",
              "      <td>0</td>\n",
              "      <td>0</td>\n",
              "      <td>0</td>\n",
              "      <td>0</td>\n",
              "      <td>0</td>\n",
              "      <td>0</td>\n",
              "      <td>0</td>\n",
              "      <td>0</td>\n",
              "      <td>0</td>\n",
              "      <td>0</td>\n",
              "      <td>0</td>\n",
              "      <td>0</td>\n",
              "      <td>0</td>\n",
              "      <td>0</td>\n",
              "      <td>0</td>\n",
              "      <td>0</td>\n",
              "      <td>1</td>\n",
              "      <td>0</td>\n",
              "      <td>1</td>\n",
              "      <td>0</td>\n",
              "      <td>0</td>\n",
              "      <td>0</td>\n",
              "      <td>M</td>\n",
              "    </tr>\n",
              "    <tr>\n",
              "      <th>3</th>\n",
              "      <td>Jamestown+</td>\n",
              "      <td>0</td>\n",
              "      <td>0</td>\n",
              "      <td>0</td>\n",
              "      <td>0</td>\n",
              "      <td>0</td>\n",
              "      <td>0</td>\n",
              "      <td>0</td>\n",
              "      <td>0</td>\n",
              "      <td>1</td>\n",
              "      <td>0</td>\n",
              "      <td>1</td>\n",
              "      <td>0</td>\n",
              "      <td>0</td>\n",
              "      <td>1</td>\n",
              "      <td>0</td>\n",
              "      <td>0</td>\n",
              "      <td>0</td>\n",
              "      <td>0</td>\n",
              "      <td>0</td>\n",
              "      <td>0</td>\n",
              "      <td>0</td>\n",
              "      <td>0</td>\n",
              "      <td>0</td>\n",
              "      <td>0</td>\n",
              "      <td>0</td>\n",
              "      <td>0</td>\n",
              "      <td>0</td>\n",
              "      <td>0</td>\n",
              "      <td>0</td>\n",
              "      <td>0</td>\n",
              "      <td>0</td>\n",
              "      <td>0</td>\n",
              "      <td>ET</td>\n",
              "    </tr>\n",
              "    <tr>\n",
              "      <th>4</th>\n",
              "      <td>Neptunia Virtual Stars</td>\n",
              "      <td>0</td>\n",
              "      <td>0</td>\n",
              "      <td>0</td>\n",
              "      <td>0</td>\n",
              "      <td>0</td>\n",
              "      <td>0</td>\n",
              "      <td>0</td>\n",
              "      <td>0</td>\n",
              "      <td>1</td>\n",
              "      <td>0</td>\n",
              "      <td>1</td>\n",
              "      <td>0</td>\n",
              "      <td>0</td>\n",
              "      <td>0</td>\n",
              "      <td>0</td>\n",
              "      <td>0</td>\n",
              "      <td>0</td>\n",
              "      <td>0</td>\n",
              "      <td>0</td>\n",
              "      <td>0</td>\n",
              "      <td>0</td>\n",
              "      <td>0</td>\n",
              "      <td>0</td>\n",
              "      <td>0</td>\n",
              "      <td>0</td>\n",
              "      <td>0</td>\n",
              "      <td>0</td>\n",
              "      <td>0</td>\n",
              "      <td>1</td>\n",
              "      <td>0</td>\n",
              "      <td>0</td>\n",
              "      <td>0</td>\n",
              "      <td>T</td>\n",
              "    </tr>\n",
              "  </tbody>\n",
              "</table>\n",
              "</div>"
            ],
            "text/plain": [
              "                               title  console  ...  violence  esrb_rating\n",
              "0         Monster Jam Steel Titans 2        1  ...         0            E\n",
              "1             Subnautica: Below Zero        1  ...         0           ET\n",
              "2  NIER REPLICANT VER.1.22474487139…        1  ...         0            M\n",
              "3                         Jamestown+        0  ...         0           ET\n",
              "4             Neptunia Virtual Stars        0  ...         0            T\n",
              "\n",
              "[5 rows x 34 columns]"
            ]
          },
          "metadata": {
            "tags": []
          },
          "execution_count": 20
        }
      ]
    },
    {
      "cell_type": "code",
      "metadata": {
        "id": "j8nPTSsdRM9G",
        "colab": {
          "base_uri": "https://localhost:8080/"
        },
        "outputId": "71a46916-bc68-4082-d5bf-d163082f328a"
      },
      "source": [
        "AA_trainset.shape"
      ],
      "execution_count": null,
      "outputs": [
        {
          "output_type": "execute_result",
          "data": {
            "text/plain": [
              "(1895, 34)"
            ]
          },
          "metadata": {
            "tags": []
          },
          "execution_count": 21
        }
      ]
    },
    {
      "cell_type": "code",
      "metadata": {
        "id": "AyJcyswJVjTf",
        "colab": {
          "base_uri": "https://localhost:8080/"
        },
        "outputId": "17744486-8309-499d-8931-33da9f2916f1"
      },
      "source": [
        "AA_trainset.isnull().sum()"
      ],
      "execution_count": null,
      "outputs": [
        {
          "output_type": "execute_result",
          "data": {
            "text/plain": [
              "title                       0\n",
              "console                     0\n",
              "alcohol_reference           0\n",
              "animated_blood              0\n",
              "blood                       0\n",
              "blood_and_gore              0\n",
              "cartoon_violence            0\n",
              "crude_humor                 0\n",
              "drug_reference              0\n",
              "fantasy_violence            0\n",
              "intense_violence            0\n",
              "language                    0\n",
              "lyrics                      0\n",
              "mature_humor                0\n",
              "mild_blood                  0\n",
              "mild_cartoon_violence       0\n",
              "mild_fantasy_violence       0\n",
              "mild_language               0\n",
              "mild_lyrics                 0\n",
              "mild_suggestive_themes      0\n",
              "mild_violence               0\n",
              "no_descriptors              0\n",
              "nudity                      0\n",
              "partial_nudity              0\n",
              "sexual_content              0\n",
              "sexual_themes               0\n",
              "simulated_gambling          0\n",
              "strong_janguage             0\n",
              "strong_sexual_content       0\n",
              "suggestive_themes           0\n",
              "use_of_alcohol              0\n",
              "use_of_drugs_and_alcohol    0\n",
              "violence                    0\n",
              "esrb_rating                 0\n",
              "dtype: int64"
            ]
          },
          "metadata": {
            "tags": []
          },
          "execution_count": 22
        }
      ]
    },
    {
      "cell_type": "code",
      "metadata": {
        "id": "i1uiIf-pVrHc",
        "colab": {
          "base_uri": "https://localhost:8080/"
        },
        "outputId": "c42af651-597d-43a4-a6fc-bb4b1bfc146b"
      },
      "source": [
        "AA_trainset.isna().sum()"
      ],
      "execution_count": null,
      "outputs": [
        {
          "output_type": "execute_result",
          "data": {
            "text/plain": [
              "title                       0\n",
              "console                     0\n",
              "alcohol_reference           0\n",
              "animated_blood              0\n",
              "blood                       0\n",
              "blood_and_gore              0\n",
              "cartoon_violence            0\n",
              "crude_humor                 0\n",
              "drug_reference              0\n",
              "fantasy_violence            0\n",
              "intense_violence            0\n",
              "language                    0\n",
              "lyrics                      0\n",
              "mature_humor                0\n",
              "mild_blood                  0\n",
              "mild_cartoon_violence       0\n",
              "mild_fantasy_violence       0\n",
              "mild_language               0\n",
              "mild_lyrics                 0\n",
              "mild_suggestive_themes      0\n",
              "mild_violence               0\n",
              "no_descriptors              0\n",
              "nudity                      0\n",
              "partial_nudity              0\n",
              "sexual_content              0\n",
              "sexual_themes               0\n",
              "simulated_gambling          0\n",
              "strong_janguage             0\n",
              "strong_sexual_content       0\n",
              "suggestive_themes           0\n",
              "use_of_alcohol              0\n",
              "use_of_drugs_and_alcohol    0\n",
              "violence                    0\n",
              "esrb_rating                 0\n",
              "dtype: int64"
            ]
          },
          "metadata": {
            "tags": []
          },
          "execution_count": 23
        }
      ]
    },
    {
      "cell_type": "code",
      "metadata": {
        "id": "Ix5nAaDuRQg-",
        "colab": {
          "base_uri": "https://localhost:8080/",
          "height": 130
        },
        "outputId": "f0f20d32-d7eb-4af6-a0fe-e53afbca4c55"
      },
      "source": [
        "attr_distribution = AA_trainset.drop(['title','esrb_rating'], axis=1).apply(pd.Series.value_counts)\n",
        "attr_distribution"
      ],
      "execution_count": null,
      "outputs": [
        {
          "output_type": "execute_result",
          "data": {
            "text/html": [
              "<div>\n",
              "<style scoped>\n",
              "    .dataframe tbody tr th:only-of-type {\n",
              "        vertical-align: middle;\n",
              "    }\n",
              "\n",
              "    .dataframe tbody tr th {\n",
              "        vertical-align: top;\n",
              "    }\n",
              "\n",
              "    .dataframe thead th {\n",
              "        text-align: right;\n",
              "    }\n",
              "</style>\n",
              "<table border=\"1\" class=\"dataframe\">\n",
              "  <thead>\n",
              "    <tr style=\"text-align: right;\">\n",
              "      <th></th>\n",
              "      <th>console</th>\n",
              "      <th>alcohol_reference</th>\n",
              "      <th>animated_blood</th>\n",
              "      <th>blood</th>\n",
              "      <th>blood_and_gore</th>\n",
              "      <th>cartoon_violence</th>\n",
              "      <th>crude_humor</th>\n",
              "      <th>drug_reference</th>\n",
              "      <th>fantasy_violence</th>\n",
              "      <th>intense_violence</th>\n",
              "      <th>language</th>\n",
              "      <th>lyrics</th>\n",
              "      <th>mature_humor</th>\n",
              "      <th>mild_blood</th>\n",
              "      <th>mild_cartoon_violence</th>\n",
              "      <th>mild_fantasy_violence</th>\n",
              "      <th>mild_language</th>\n",
              "      <th>mild_lyrics</th>\n",
              "      <th>mild_suggestive_themes</th>\n",
              "      <th>mild_violence</th>\n",
              "      <th>no_descriptors</th>\n",
              "      <th>nudity</th>\n",
              "      <th>partial_nudity</th>\n",
              "      <th>sexual_content</th>\n",
              "      <th>sexual_themes</th>\n",
              "      <th>simulated_gambling</th>\n",
              "      <th>strong_janguage</th>\n",
              "      <th>strong_sexual_content</th>\n",
              "      <th>suggestive_themes</th>\n",
              "      <th>use_of_alcohol</th>\n",
              "      <th>use_of_drugs_and_alcohol</th>\n",
              "      <th>violence</th>\n",
              "    </tr>\n",
              "  </thead>\n",
              "  <tbody>\n",
              "    <tr>\n",
              "      <th>0</th>\n",
              "      <td>994</td>\n",
              "      <td>1800</td>\n",
              "      <td>1876</td>\n",
              "      <td>1463</td>\n",
              "      <td>1656</td>\n",
              "      <td>1858</td>\n",
              "      <td>1792</td>\n",
              "      <td>1829</td>\n",
              "      <td>1477</td>\n",
              "      <td>1671</td>\n",
              "      <td>1690</td>\n",
              "      <td>1832</td>\n",
              "      <td>1873</td>\n",
              "      <td>1763</td>\n",
              "      <td>1850</td>\n",
              "      <td>1804</td>\n",
              "      <td>1854</td>\n",
              "      <td>1749</td>\n",
              "      <td>1811</td>\n",
              "      <td>1805</td>\n",
              "      <td>1573</td>\n",
              "      <td>1867</td>\n",
              "      <td>1870</td>\n",
              "      <td>1830</td>\n",
              "      <td>1786</td>\n",
              "      <td>1768</td>\n",
              "      <td>1671</td>\n",
              "      <td>1827</td>\n",
              "      <td>1672</td>\n",
              "      <td>1865</td>\n",
              "      <td>1865</td>\n",
              "      <td>1774</td>\n",
              "    </tr>\n",
              "    <tr>\n",
              "      <th>1</th>\n",
              "      <td>901</td>\n",
              "      <td>95</td>\n",
              "      <td>19</td>\n",
              "      <td>432</td>\n",
              "      <td>239</td>\n",
              "      <td>37</td>\n",
              "      <td>103</td>\n",
              "      <td>66</td>\n",
              "      <td>418</td>\n",
              "      <td>224</td>\n",
              "      <td>205</td>\n",
              "      <td>63</td>\n",
              "      <td>22</td>\n",
              "      <td>132</td>\n",
              "      <td>45</td>\n",
              "      <td>91</td>\n",
              "      <td>41</td>\n",
              "      <td>146</td>\n",
              "      <td>84</td>\n",
              "      <td>90</td>\n",
              "      <td>322</td>\n",
              "      <td>28</td>\n",
              "      <td>25</td>\n",
              "      <td>65</td>\n",
              "      <td>109</td>\n",
              "      <td>127</td>\n",
              "      <td>224</td>\n",
              "      <td>68</td>\n",
              "      <td>223</td>\n",
              "      <td>30</td>\n",
              "      <td>30</td>\n",
              "      <td>121</td>\n",
              "    </tr>\n",
              "  </tbody>\n",
              "</table>\n",
              "</div>"
            ],
            "text/plain": [
              "   console  alcohol_reference  ...  use_of_drugs_and_alcohol  violence\n",
              "0      994               1800  ...                      1865      1774\n",
              "1      901                 95  ...                        30       121\n",
              "\n",
              "[2 rows x 32 columns]"
            ]
          },
          "metadata": {
            "tags": []
          },
          "execution_count": 24
        }
      ]
    },
    {
      "cell_type": "code",
      "metadata": {
        "id": "khAHn3mlTxRH",
        "colab": {
          "base_uri": "https://localhost:8080/",
          "height": 403
        },
        "outputId": "c3e60b20-b096-48e3-e8f8-787c2d11f1e1"
      },
      "source": [
        "# Count of 0/F in attributes\n",
        "attr_distribution.T[0].plot.bar()"
      ],
      "execution_count": null,
      "outputs": [
        {
          "output_type": "execute_result",
          "data": {
            "text/plain": [
              "<matplotlib.axes._subplots.AxesSubplot at 0x7f6633bd0dd0>"
            ]
          },
          "metadata": {
            "tags": []
          },
          "execution_count": 25
        },
        {
          "output_type": "display_data",
          "data": {
            "image/png": "[encoded data removed]",
            "text/plain": [
              "<Figure size 432x288 with 1 Axes>"
            ]
          },
          "metadata": {
            "tags": [],
            "needs_background": "light"
          }
        }
      ]
    },
    {
      "cell_type": "code",
      "metadata": {
        "id": "SR-gEEE8UCco",
        "colab": {
          "base_uri": "https://localhost:8080/",
          "height": 403
        },
        "outputId": "45435f1d-9de0-4534-b090-5dc64eb2737e"
      },
      "source": [
        "# Count of 1/T in attributes\n",
        "attr_distribution.T[1].plot.bar()"
      ],
      "execution_count": null,
      "outputs": [
        {
          "output_type": "execute_result",
          "data": {
            "text/plain": [
              "<matplotlib.axes._subplots.AxesSubplot at 0x7f6633b28cd0>"
            ]
          },
          "metadata": {
            "tags": []
          },
          "execution_count": 26
        },
        {
          "output_type": "display_data",
          "data": {
            "image/png": "[encoded data removed]",
            "text/plain": [
              "<Figure size 432x288 with 1 Axes>"
            ]
          },
          "metadata": {
            "tags": [],
            "needs_background": "light"
          }
        }
      ]
    },
    {
      "cell_type": "code",
      "metadata": {
        "id": "XDdhqSBAc8Jr"
      },
      "source": [
        "# Get top N correlation pairs from correlation matrix\n",
        "def topn_corr(corr_mat, N):\n",
        "  num_of_bool_attr = 32\n",
        "  s = corr_mat.unstack()\n",
        "  so = s.sort_values(kind=\"quicksort\")\n",
        "  return so[-num_of_bool_attr - N : -num_of_bool_attr]"
      ],
      "execution_count": null,
      "outputs": []
    },
    {
      "cell_type": "code",
      "metadata": {
        "id": "dro05GOqWZcN",
        "colab": {
          "base_uri": "https://localhost:8080/"
        },
        "outputId": "4ae56ff5-64e9-4964-f8dc-6b21ffb59ec1"
      },
      "source": [
        "# Jaccard metrics for correlation\n",
        "from sklearn.metrics import jaccard_score\n",
        "jacc_corr = AA_trainset.corr(jaccard_score)\n",
        "\n",
        "# Top N correlations\n",
        "topn_corr(jacc_corr, 8)"
      ],
      "execution_count": null,
      "outputs": [
        {
          "output_type": "execute_result",
          "data": {
            "text/plain": [
              "intense_violence       strong_sexual_content    0.216667\n",
              "strong_sexual_content  intense_violence         0.216667\n",
              "simulated_gambling     crude_humor              0.216931\n",
              "crude_humor            simulated_gambling       0.216931\n",
              "intense_violence       blood_and_gore           0.231383\n",
              "blood_and_gore         intense_violence         0.231383\n",
              "blood                  strong_janguage          0.237736\n",
              "strong_janguage        blood                    0.237736\n",
              "dtype: float64"
            ]
          },
          "metadata": {
            "tags": []
          },
          "execution_count": 28
        }
      ]
    },
    {
      "cell_type": "markdown",
      "metadata": {
        "id": "m9u9dfmwVy4R"
      },
      "source": [
        "### 2nd April\n",
        "- Finding all sorts of correlation between attributes\n",
        "  - Jaccard\n",
        "  - Manhatten\n",
        "  - Kendall\n",
        "  - Pearson\n",
        "  - Spearman\n",
        "  - Accuracy\n",
        "  - Cosine\n",
        "- Finding correlation between different types of ESRB, and features\n",
        "- Finding correlation between rows"
      ]
    },
    {
      "cell_type": "code",
      "metadata": {
        "id": "HQamlmnVV3Mw",
        "colab": {
          "base_uri": "https://localhost:8080/"
        },
        "outputId": "5616a88b-3702-4fdb-c9de-52e6c2a682a3"
      },
      "source": [
        "# Using manhatten distance for correlation\n",
        "from sklearn.metrics.pairwise import manhattan_distances\n",
        "manh_func = lambda a, b : manhattan_distances([a], [b]) / len(a)\n",
        "manh_corr = AA_trainset.drop(['console'], axis=1).corr(manh_func)\n",
        "\n",
        "# Top N correlations\n",
        "topn_corr(manh_corr, 8)"
      ],
      "execution_count": null,
      "outputs": [
        {
          "output_type": "execute_result",
          "data": {
            "text/plain": [
              "fantasy_violence  blood_and_gore      0.338259\n",
              "blood_and_gore    blood               0.354090\n",
              "blood             blood_and_gore      0.354090\n",
              "                  no_descriptors      0.378892\n",
              "no_descriptors    blood               0.378892\n",
              "fantasy_violence  no_descriptors      0.385224\n",
              "no_descriptors    fantasy_violence    0.385224\n",
              "blood             fantasy_violence    0.408443\n",
              "dtype: float64"
            ]
          },
          "metadata": {
            "tags": []
          },
          "execution_count": 29
        }
      ]
    },
    {
      "cell_type": "code",
      "metadata": {
        "id": "uNuiTxRMcWFd",
        "colab": {
          "base_uri": "https://localhost:8080/"
        },
        "outputId": "4e1d89c1-cef8-492d-baf9-602a8cf3c0a6"
      },
      "source": [
        "# Using kendall \n",
        "kend_corr = AA_trainset.corr(method='kendall')\n",
        "\n",
        "# Top N correlations\n",
        "topn_corr(kend_corr, 8)"
      ],
      "execution_count": null,
      "outputs": [
        {
          "output_type": "execute_result",
          "data": {
            "text/plain": [
              "blood                  strong_janguage          0.291957\n",
              "strong_janguage        blood                    0.291957\n",
              "crude_humor            simulated_gambling       0.317392\n",
              "simulated_gambling     crude_humor              0.317392\n",
              "strong_sexual_content  blood_and_gore           0.336910\n",
              "blood_and_gore         strong_sexual_content    0.336910\n",
              "intense_violence       strong_sexual_content    0.386323\n",
              "strong_sexual_content  intense_violence         0.386323\n",
              "dtype: float64"
            ]
          },
          "metadata": {
            "tags": []
          },
          "execution_count": 30
        }
      ]
    },
    {
      "cell_type": "code",
      "metadata": {
        "id": "r4M_w2oSdyzE",
        "colab": {
          "base_uri": "https://localhost:8080/"
        },
        "outputId": "9719d8b9-c9bb-4b1a-e1a9-2a4011756adc"
      },
      "source": [
        "# Using pearson \n",
        "pear_corr = AA_trainset.corr(method='pearson')\n",
        "\n",
        "# Top N correlations\n",
        "topn_corr(pear_corr, 8)"
      ],
      "execution_count": null,
      "outputs": [
        {
          "output_type": "execute_result",
          "data": {
            "text/plain": [
              "blood                  strong_janguage          0.291957\n",
              "strong_janguage        blood                    0.291957\n",
              "crude_humor            simulated_gambling       0.317392\n",
              "simulated_gambling     crude_humor              0.317392\n",
              "strong_sexual_content  blood_and_gore           0.336910\n",
              "blood_and_gore         strong_sexual_content    0.336910\n",
              "intense_violence       strong_sexual_content    0.386323\n",
              "strong_sexual_content  intense_violence         0.386323\n",
              "dtype: float64"
            ]
          },
          "metadata": {
            "tags": []
          },
          "execution_count": 31
        }
      ]
    },
    {
      "cell_type": "code",
      "metadata": {
        "id": "MBgBmo0yd3pk",
        "colab": {
          "base_uri": "https://localhost:8080/"
        },
        "outputId": "706ff2d4-523a-4b2e-f957-6a79be0ea746"
      },
      "source": [
        "# Using spearman\n",
        "spear_corr = AA_trainset.corr(method='spearman')\n",
        "\n",
        "# Top N correlations\n",
        "topn_corr(spear_corr, 8)"
      ],
      "execution_count": null,
      "outputs": [
        {
          "output_type": "execute_result",
          "data": {
            "text/plain": [
              "blood                  strong_janguage          0.291957\n",
              "strong_janguage        blood                    0.291957\n",
              "crude_humor            simulated_gambling       0.317392\n",
              "simulated_gambling     crude_humor              0.317392\n",
              "strong_sexual_content  blood_and_gore           0.336910\n",
              "blood_and_gore         strong_sexual_content    0.336910\n",
              "intense_violence       strong_sexual_content    0.386323\n",
              "strong_sexual_content  intense_violence         0.386323\n",
              "dtype: float64"
            ]
          },
          "metadata": {
            "tags": []
          },
          "execution_count": 32
        }
      ]
    },
    {
      "cell_type": "code",
      "metadata": {
        "id": "blY1G6PCeGAq",
        "colab": {
          "base_uri": "https://localhost:8080/"
        },
        "outputId": "29a75b8e-ff3a-4825-f3f8-b6d225c3eba8"
      },
      "source": [
        "# Using accuracy\n",
        "from sklearn.metrics import accuracy_score\n",
        "accr_corr = AA_trainset.corr(accuracy_score)\n",
        "\n",
        "# Top N correlations\n",
        "topn_corr(accr_corr, 8)"
      ],
      "execution_count": null,
      "outputs": [
        {
          "output_type": "execute_result",
          "data": {
            "text/plain": [
              "mature_humor    partial_nudity    0.976253\n",
              "use_of_alcohol  animated_blood    0.976253\n",
              "animated_blood  use_of_alcohol    0.976253\n",
              "partial_nudity  mature_humor      0.976253\n",
              "animated_blood  partial_nudity    0.976781\n",
              "partial_nudity  animated_blood    0.976781\n",
              "animated_blood  mature_humor      0.978364\n",
              "mature_humor    animated_blood    0.978364\n",
              "dtype: float64"
            ]
          },
          "metadata": {
            "tags": []
          },
          "execution_count": 33
        }
      ]
    },
    {
      "cell_type": "code",
      "metadata": {
        "id": "tAPNREPQeZDO",
        "colab": {
          "base_uri": "https://localhost:8080/"
        },
        "outputId": "5b97339c-04df-4ec3-e34f-060cc01dee43"
      },
      "source": [
        "# Using Cosine similarity\n",
        "from sklearn.metrics.pairwise import cosine_similarity\n",
        "cos_func = lambda a, b : cosine_similarity([a], [b])\n",
        "cos_corr = AA_trainset.corr(cos_func)\n",
        "\n",
        "# Top N correlations\n",
        "topn_corr(cos_corr, 8)"
      ],
      "execution_count": null,
      "outputs": [
        {
          "output_type": "execute_result",
          "data": {
            "text/plain": [
              "blood_and_gore         intense_violence         0.376007\n",
              "intense_violence       blood_and_gore           0.376007\n",
              "strong_sexual_content  blood_and_gore           0.376520\n",
              "blood_and_gore         strong_sexual_content    0.376520\n",
              "blood                  strong_janguage          0.405046\n",
              "strong_janguage        blood                    0.405046\n",
              "intense_violence       strong_sexual_content    0.421332\n",
              "strong_sexual_content  intense_violence         0.421332\n",
              "dtype: float64"
            ]
          },
          "metadata": {
            "tags": []
          },
          "execution_count": 34
        }
      ]
    },
    {
      "cell_type": "markdown",
      "metadata": {
        "id": "k29SP1siiPd7"
      },
      "source": [
        "#### ESRB Correlation with attributes"
      ]
    },
    {
      "cell_type": "code",
      "metadata": {
        "id": "90imVueufKCx",
        "colab": {
          "base_uri": "https://localhost:8080/",
          "height": 617
        },
        "outputId": "c658394d-5048-479c-c39f-69ba3232db2e"
      },
      "source": [
        "import seaborn as sns\n",
        "\n",
        "# Finding correlation with different values of ESRB\n",
        "esrb_one_hot_df = pd.concat([AA_trainset, pd.get_dummies(AA_trainset['esrb_rating'], prefix='esrb_')], axis=1)\n",
        "\n",
        "# now drop the original column (you don't need it anymore)\n",
        "esrb_one_hot_df.drop(['esrb_rating'], axis=1, inplace=True)\n",
        "\n",
        "# esrb column names\n",
        "esrb_col_names = [x for x in esrb_one_hot_df.columns if 'esrb' in x]\n",
        "\n",
        "# heatmap of correlations\n",
        "sns.set(rc={'figure.figsize':(12,10)})\n",
        "sns.heatmap(esrb_one_hot_df.corr()[esrb_col_names], annot = True, cmap = 'Blues')"
      ],
      "execution_count": null,
      "outputs": [
        {
          "output_type": "execute_result",
          "data": {
            "text/plain": [
              "<matplotlib.axes._subplots.AxesSubplot at 0x7f662475e1d0>"
            ]
          },
          "metadata": {
            "tags": []
          },
          "execution_count": 35
        },
        {
          "output_type": "display_data",
          "data": {
            "image/png": "[encoded data removed]",
            "text/plain": [
              "<Figure size 864x720 with 2 Axes>"
            ]
          },
          "metadata": {
            "tags": []
          }
        }
      ]
    },
    {
      "cell_type": "code",
      "metadata": {
        "colab": {
          "base_uri": "https://localhost:8080/",
          "height": 655
        },
        "id": "hgIjtIYQANV1",
        "outputId": "2b52989f-86c0-4d4d-a9a5-226eea17344d"
      },
      "source": [
        "# Sabrina's edit to clean up figure\n",
        "sns.set(rc={'figure.figsize':(12,10)})\n",
        "sns.heatmap(esrb_one_hot_df.corr()[esrb_col_names], annot = False, cmap = 'coolwarm', square = True)"
      ],
      "execution_count": null,
      "outputs": [
        {
          "output_type": "execute_result",
          "data": {
            "text/plain": [
              "<matplotlib.axes._subplots.AxesSubplot at 0x7f661bd62550>"
            ]
          },
          "metadata": {
            "tags": []
          },
          "execution_count": 36
        },
        {
          "output_type": "display_data",
          "data": {
            "image/png": "[encoded data removed]",
            "text/plain": [
              "<Figure size 864x720 with 2 Axes>"
            ]
          },
          "metadata": {
            "tags": []
          }
        }
      ]
    },
    {
      "cell_type": "markdown",
      "metadata": {
        "id": "mg0NuJM4jPcL"
      },
      "source": [
        "#### Row-wise correlations"
      ]
    },
    {
      "cell_type": "code",
      "metadata": {
        "id": "6vee9atCjSg0",
        "colab": {
          "base_uri": "https://localhost:8080/",
          "height": 251
        },
        "outputId": "202338e1-d1a0-44bd-ee4f-4bd6f37c2d0a"
      },
      "source": [
        "# Not beneficial\n",
        "AA_trainset[AA_trainset.drop('title',axis=1).duplicated()][:2]"
      ],
      "execution_count": null,
      "outputs": [
        {
          "output_type": "execute_result",
          "data": {
            "text/html": [
              "<div>\n",
              "<style scoped>\n",
              "    .dataframe tbody tr th:only-of-type {\n",
              "        vertical-align: middle;\n",
              "    }\n",
              "\n",
              "    .dataframe tbody tr th {\n",
              "        vertical-align: top;\n",
              "    }\n",
              "\n",
              "    .dataframe thead th {\n",
              "        text-align: right;\n",
              "    }\n",
              "</style>\n",
              "<table border=\"1\" class=\"dataframe\">\n",
              "  <thead>\n",
              "    <tr style=\"text-align: right;\">\n",
              "      <th></th>\n",
              "      <th>title</th>\n",
              "      <th>console</th>\n",
              "      <th>alcohol_reference</th>\n",
              "      <th>animated_blood</th>\n",
              "      <th>blood</th>\n",
              "      <th>blood_and_gore</th>\n",
              "      <th>cartoon_violence</th>\n",
              "      <th>crude_humor</th>\n",
              "      <th>drug_reference</th>\n",
              "      <th>fantasy_violence</th>\n",
              "      <th>intense_violence</th>\n",
              "      <th>language</th>\n",
              "      <th>lyrics</th>\n",
              "      <th>mature_humor</th>\n",
              "      <th>mild_blood</th>\n",
              "      <th>mild_cartoon_violence</th>\n",
              "      <th>mild_fantasy_violence</th>\n",
              "      <th>mild_language</th>\n",
              "      <th>mild_lyrics</th>\n",
              "      <th>mild_suggestive_themes</th>\n",
              "      <th>mild_violence</th>\n",
              "      <th>no_descriptors</th>\n",
              "      <th>nudity</th>\n",
              "      <th>partial_nudity</th>\n",
              "      <th>sexual_content</th>\n",
              "      <th>sexual_themes</th>\n",
              "      <th>simulated_gambling</th>\n",
              "      <th>strong_janguage</th>\n",
              "      <th>strong_sexual_content</th>\n",
              "      <th>suggestive_themes</th>\n",
              "      <th>use_of_alcohol</th>\n",
              "      <th>use_of_drugs_and_alcohol</th>\n",
              "      <th>violence</th>\n",
              "      <th>esrb_rating</th>\n",
              "    </tr>\n",
              "  </thead>\n",
              "  <tbody>\n",
              "    <tr>\n",
              "      <th>5</th>\n",
              "      <td>Monster Energy Supercross - The Official Video...</td>\n",
              "      <td>1</td>\n",
              "      <td>0</td>\n",
              "      <td>0</td>\n",
              "      <td>0</td>\n",
              "      <td>0</td>\n",
              "      <td>0</td>\n",
              "      <td>0</td>\n",
              "      <td>0</td>\n",
              "      <td>0</td>\n",
              "      <td>0</td>\n",
              "      <td>0</td>\n",
              "      <td>0</td>\n",
              "      <td>0</td>\n",
              "      <td>0</td>\n",
              "      <td>0</td>\n",
              "      <td>0</td>\n",
              "      <td>0</td>\n",
              "      <td>0</td>\n",
              "      <td>0</td>\n",
              "      <td>0</td>\n",
              "      <td>1</td>\n",
              "      <td>0</td>\n",
              "      <td>0</td>\n",
              "      <td>0</td>\n",
              "      <td>0</td>\n",
              "      <td>0</td>\n",
              "      <td>0</td>\n",
              "      <td>0</td>\n",
              "      <td>0</td>\n",
              "      <td>0</td>\n",
              "      <td>0</td>\n",
              "      <td>0</td>\n",
              "      <td>E</td>\n",
              "    </tr>\n",
              "    <tr>\n",
              "      <th>27</th>\n",
              "      <td>Bus Simulator 21</td>\n",
              "      <td>1</td>\n",
              "      <td>0</td>\n",
              "      <td>0</td>\n",
              "      <td>0</td>\n",
              "      <td>0</td>\n",
              "      <td>0</td>\n",
              "      <td>0</td>\n",
              "      <td>0</td>\n",
              "      <td>0</td>\n",
              "      <td>0</td>\n",
              "      <td>0</td>\n",
              "      <td>0</td>\n",
              "      <td>0</td>\n",
              "      <td>0</td>\n",
              "      <td>0</td>\n",
              "      <td>0</td>\n",
              "      <td>0</td>\n",
              "      <td>0</td>\n",
              "      <td>0</td>\n",
              "      <td>0</td>\n",
              "      <td>1</td>\n",
              "      <td>0</td>\n",
              "      <td>0</td>\n",
              "      <td>0</td>\n",
              "      <td>0</td>\n",
              "      <td>0</td>\n",
              "      <td>0</td>\n",
              "      <td>0</td>\n",
              "      <td>0</td>\n",
              "      <td>0</td>\n",
              "      <td>0</td>\n",
              "      <td>0</td>\n",
              "      <td>E</td>\n",
              "    </tr>\n",
              "  </tbody>\n",
              "</table>\n",
              "</div>"
            ],
            "text/plain": [
              "                                                title  ...  esrb_rating\n",
              "5   Monster Energy Supercross - The Official Video...  ...            E\n",
              "27                                   Bus Simulator 21  ...            E\n",
              "\n",
              "[2 rows x 34 columns]"
            ]
          },
          "metadata": {
            "tags": []
          },
          "execution_count": 38
        }
      ]
    },
    {
      "cell_type": "markdown",
      "metadata": {
        "id": "aAnNXLqLv3AB"
      },
      "source": [
        "## Anirudh's Training Models"
      ]
    },
    {
      "cell_type": "code",
      "metadata": {
        "id": "OLFiGyAGv944"
      },
      "source": [
        "# remove insignificant features\n",
        "columns_to_remove = ['title','console','esrb_rating']\n",
        "AA_X_train = AA_trainset.loc[:, ~AA_trainset.columns.isin(columns_to_remove)]\n",
        "AA_X_test = AA_testset.loc[:, ~AA_testset.columns.isin(columns_to_remove)]"
      ],
      "execution_count": null,
      "outputs": []
    },
    {
      "cell_type": "code",
      "metadata": {
        "id": "Dvg-8V6DzNK4"
      },
      "source": [
        "# Label encode training labels\n",
        "from sklearn.preprocessing import LabelEncoder\n",
        "label_encoder_inst = LabelEncoder()\n",
        "\n",
        "AA_y_train = label_encoder_inst.fit_transform(AA_trainset['esrb_rating'])\n",
        "AA_y_test = label_encoder_inst.transform(AA_testset['esrb_rating'])"
      ],
      "execution_count": null,
      "outputs": []
    },
    {
      "cell_type": "code",
      "metadata": {
        "id": "kVhYXHIjz4gl"
      },
      "source": [
        "# Comparing multiple ML models\n",
        "from sklearn import ensemble, linear_model, neighbors, naive_bayes, svm\n",
        "from xgboost import XGBClassifier\n",
        "\n",
        "MLA = [\n",
        "    # Ensemble Methods\n",
        "    ensemble.RandomForestClassifier(),\n",
        "    \n",
        "    # GLM\n",
        "    linear_model.SGDClassifier(),\n",
        "    svm.SVC(kernel='linear'),\n",
        "    \n",
        "    # Nearest Neighbor\n",
        "    neighbors.KNeighborsClassifier(),\n",
        "    \n",
        "    # Naive Bayes\n",
        "    naive_bayes.BernoulliNB(),\n",
        "    naive_bayes.MultinomialNB(),\n",
        "    \n",
        "    # SVM (Non-linear)\n",
        "    svm.SVC(kernel='rbf'),\n",
        "    \n",
        "    # xgboost: http://xgboost.readthedocs.io/en/latest/model.html\n",
        "    XGBClassifier(use_label_encoder=False, eval_metric='mlogloss')\n",
        "    ]"
      ],
      "execution_count": null,
      "outputs": []
    },
    {
      "cell_type": "code",
      "metadata": {
        "id": "tutoBkL_075T"
      },
      "source": [
        "# creating table to compare Machine Learning Algorithms (MLA) metrics\n",
        "import warnings\n",
        "warnings.filterwarnings('ignore')\n",
        "\n",
        "from sklearn.model_selection import cross_validate\n",
        "from sklearn.metrics import make_scorer, accuracy_score, precision_score, recall_score, f1_score\n",
        "\n",
        "def comp_ml_alg(X, y, cv=5):\n",
        "    # Table to display results of Model comparisons\n",
        "    MLA_columns = ['MLA Name', 'MLA Time','Train Accuracy Mean', \n",
        "                   'Train F1 Mean', 'Validation Accuracy Mean', 'Validation F1 Mean']\n",
        "    MLA_compare = pd.DataFrame(columns = MLA_columns)\n",
        "\n",
        "    # all metrics\n",
        "    scoring = {'accuracy': make_scorer(accuracy_score),\n",
        "               'f1_score' : make_scorer(f1_score, pos_label='positive', average='weighted'), \n",
        "               'precision': make_scorer(precision_score, pos_label='positive', average='weighted'),\n",
        "               'recall': make_scorer(recall_score, pos_label='positive', average='weighted')}\n",
        "\n",
        "    #index through MLA and save performance to table\n",
        "    row_index = 0\n",
        "    for alg in MLA:\n",
        "\n",
        "        #set name and parameters\n",
        "        MLA_name = alg.__class__.__name__\n",
        "        \n",
        "        # Specific renaming only for SVC\n",
        "        if MLA_name == 'SVC':\n",
        "          params = alg.get_params()\n",
        "          if params['kernel'] == 'rbf':\n",
        "            MLA_name = 'RBF_SVC'\n",
        "          else:\n",
        "            MLA_name = 'Linear_SVC'\n",
        "\n",
        "        MLA_compare.loc[row_index, 'MLA Name'] = MLA_name\n",
        "        # MLA_compare.loc[row_index, 'MLA Parameters'] = str(alg.get_params())\n",
        "\n",
        "        # Running cross-validation (Internal stratified folds created)\n",
        "        cv_results = cross_validate(alg, X, y, cv=cv, scoring=scoring, return_train_score=True)\n",
        "\n",
        "        MLA_compare.loc[row_index, 'MLA Time'] = cv_results['fit_time'].mean()\n",
        "        # print (cv_results)\n",
        "        MLA_compare.loc[row_index, 'Train Accuracy Mean'] = cv_results['train_accuracy'].mean()\n",
        "        MLA_compare.loc[row_index, 'Train F1 Mean'] = cv_results['train_f1_score'].mean()\n",
        "        MLA_compare.loc[row_index, 'Validation Accuracy Mean'] = cv_results['test_accuracy'].mean()\n",
        "        MLA_compare.loc[row_index, 'Validation F1 Mean'] = cv_results['test_f1_score'].mean()    \n",
        "\n",
        "        row_index+=1\n",
        "\n",
        "    MLA_compare.sort_values(by = ['Validation F1 Mean'], ascending = False, inplace = True)\n",
        "    return MLA_compare.reset_index(drop='True')"
      ],
      "execution_count": null,
      "outputs": []
    },
    {
      "cell_type": "code",
      "metadata": {
        "id": "A1Emn1h014cA",
        "colab": {
          "base_uri": "https://localhost:8080/",
          "height": 297
        },
        "outputId": "40442733-a5e5-4446-e3a1-de4084ae16df"
      },
      "source": [
        "# Running function to compare MLA algorithms\n",
        "comp_ml_alg(AA_X_train, AA_y_train)"
      ],
      "execution_count": null,
      "outputs": [
        {
          "output_type": "execute_result",
          "data": {
            "text/html": [
              "<div>\n",
              "<style scoped>\n",
              "    .dataframe tbody tr th:only-of-type {\n",
              "        vertical-align: middle;\n",
              "    }\n",
              "\n",
              "    .dataframe tbody tr th {\n",
              "        vertical-align: top;\n",
              "    }\n",
              "\n",
              "    .dataframe thead th {\n",
              "        text-align: right;\n",
              "    }\n",
              "</style>\n",
              "<table border=\"1\" class=\"dataframe\">\n",
              "  <thead>\n",
              "    <tr style=\"text-align: right;\">\n",
              "      <th></th>\n",
              "      <th>MLA Name</th>\n",
              "      <th>MLA Time</th>\n",
              "      <th>Train Accuracy Mean</th>\n",
              "      <th>Train F1 Mean</th>\n",
              "      <th>Validation Accuracy Mean</th>\n",
              "      <th>Validation F1 Mean</th>\n",
              "    </tr>\n",
              "  </thead>\n",
              "  <tbody>\n",
              "    <tr>\n",
              "      <th>0</th>\n",
              "      <td>RBF_SVC</td>\n",
              "      <td>0.0514606</td>\n",
              "      <td>0.908311</td>\n",
              "      <td>0.908297</td>\n",
              "      <td>0.870712</td>\n",
              "      <td>0.870286</td>\n",
              "    </tr>\n",
              "    <tr>\n",
              "      <th>1</th>\n",
              "      <td>RandomForestClassifier</td>\n",
              "      <td>0.205013</td>\n",
              "      <td>0.920053</td>\n",
              "      <td>0.920202</td>\n",
              "      <td>0.861741</td>\n",
              "      <td>0.861256</td>\n",
              "    </tr>\n",
              "    <tr>\n",
              "      <th>2</th>\n",
              "      <td>Linear_SVC</td>\n",
              "      <td>0.0346462</td>\n",
              "      <td>0.861214</td>\n",
              "      <td>0.860882</td>\n",
              "      <td>0.848549</td>\n",
              "      <td>0.847417</td>\n",
              "    </tr>\n",
              "    <tr>\n",
              "      <th>3</th>\n",
              "      <td>SGDClassifier</td>\n",
              "      <td>0.0226804</td>\n",
              "      <td>0.859367</td>\n",
              "      <td>0.859182</td>\n",
              "      <td>0.844855</td>\n",
              "      <td>0.843601</td>\n",
              "    </tr>\n",
              "    <tr>\n",
              "      <th>4</th>\n",
              "      <td>XGBClassifier</td>\n",
              "      <td>0.433163</td>\n",
              "      <td>0.855937</td>\n",
              "      <td>0.856845</td>\n",
              "      <td>0.831135</td>\n",
              "      <td>0.831123</td>\n",
              "    </tr>\n",
              "    <tr>\n",
              "      <th>5</th>\n",
              "      <td>BernoulliNB</td>\n",
              "      <td>0.0026947</td>\n",
              "      <td>0.843008</td>\n",
              "      <td>0.843993</td>\n",
              "      <td>0.829551</td>\n",
              "      <td>0.830383</td>\n",
              "    </tr>\n",
              "    <tr>\n",
              "      <th>6</th>\n",
              "      <td>MultinomialNB</td>\n",
              "      <td>0.00268965</td>\n",
              "      <td>0.835752</td>\n",
              "      <td>0.836919</td>\n",
              "      <td>0.826385</td>\n",
              "      <td>0.827449</td>\n",
              "    </tr>\n",
              "    <tr>\n",
              "      <th>7</th>\n",
              "      <td>KNeighborsClassifier</td>\n",
              "      <td>0.00704465</td>\n",
              "      <td>0.863193</td>\n",
              "      <td>0.862294</td>\n",
              "      <td>0.814776</td>\n",
              "      <td>0.812072</td>\n",
              "    </tr>\n",
              "  </tbody>\n",
              "</table>\n",
              "</div>"
            ],
            "text/plain": [
              "                 MLA Name  ... Validation F1 Mean\n",
              "0                 RBF_SVC  ...           0.870286\n",
              "1  RandomForestClassifier  ...           0.861256\n",
              "2              Linear_SVC  ...           0.847417\n",
              "3           SGDClassifier  ...           0.843601\n",
              "4           XGBClassifier  ...           0.831123\n",
              "5             BernoulliNB  ...           0.830383\n",
              "6           MultinomialNB  ...           0.827449\n",
              "7    KNeighborsClassifier  ...           0.812072\n",
              "\n",
              "[8 rows x 6 columns]"
            ]
          },
          "metadata": {
            "tags": []
          },
          "execution_count": 30
        }
      ]
    },
    {
      "cell_type": "code",
      "metadata": {
        "colab": {
          "base_uri": "https://localhost:8080/"
        },
        "id": "ukfCu7SUyjPV",
        "outputId": "59d948a5-ac06-40c5-f89c-73cd6bfac494"
      },
      "source": [
        "# PCA\n",
        "from sklearn.decomposition import PCA\n",
        "pca = PCA(n_components=20)\n",
        "AA_X_train_reduced = pca.fit_transform(AA_X_train)\n",
        "AA_X_train_reduced.shape"
      ],
      "execution_count": null,
      "outputs": [
        {
          "output_type": "execute_result",
          "data": {
            "text/plain": [
              "(1895, 20)"
            ]
          },
          "metadata": {
            "tags": []
          },
          "execution_count": 22
        }
      ]
    },
    {
      "cell_type": "code",
      "metadata": {
        "colab": {
          "base_uri": "https://localhost:8080/",
          "height": 297
        },
        "id": "SzFzRBDpyqeE",
        "outputId": "546f8c2e-2ee7-4748-c5dd-0420a4955a19"
      },
      "source": [
        "# Running function to compare MLA algorithms\n",
        "comp_ml_alg(AA_X_train_reduced, AA_y_train)"
      ],
      "execution_count": null,
      "outputs": [
        {
          "output_type": "execute_result",
          "data": {
            "text/html": [
              "<div>\n",
              "<style scoped>\n",
              "    .dataframe tbody tr th:only-of-type {\n",
              "        vertical-align: middle;\n",
              "    }\n",
              "\n",
              "    .dataframe tbody tr th {\n",
              "        vertical-align: top;\n",
              "    }\n",
              "\n",
              "    .dataframe thead th {\n",
              "        text-align: right;\n",
              "    }\n",
              "</style>\n",
              "<table border=\"1\" class=\"dataframe\">\n",
              "  <thead>\n",
              "    <tr style=\"text-align: right;\">\n",
              "      <th></th>\n",
              "      <th>MLA Name</th>\n",
              "      <th>MLA Time</th>\n",
              "      <th>Train Accuracy Mean</th>\n",
              "      <th>Validation Accuracy Mean</th>\n",
              "      <th>Train F1 Mean</th>\n",
              "      <th>Validation F1 Mean</th>\n",
              "    </tr>\n",
              "  </thead>\n",
              "  <tbody>\n",
              "    <tr>\n",
              "      <th>0</th>\n",
              "      <td>RandomForestClassifier</td>\n",
              "      <td>0.324991</td>\n",
              "      <td>0.920053</td>\n",
              "      <td>0.861741</td>\n",
              "      <td>0.920053</td>\n",
              "      <td>0.861741</td>\n",
              "    </tr>\n",
              "    <tr>\n",
              "      <th>1</th>\n",
              "      <td>XGBClassifier</td>\n",
              "      <td>0.597223</td>\n",
              "      <td>0.91438</td>\n",
              "      <td>0.855409</td>\n",
              "      <td>0.91438</td>\n",
              "      <td>0.855409</td>\n",
              "    </tr>\n",
              "    <tr>\n",
              "      <th>2</th>\n",
              "      <td>RBF_SVC</td>\n",
              "      <td>0.0564352</td>\n",
              "      <td>0.881398</td>\n",
              "      <td>0.847493</td>\n",
              "      <td>0.881398</td>\n",
              "      <td>0.847493</td>\n",
              "    </tr>\n",
              "    <tr>\n",
              "      <th>3</th>\n",
              "      <td>Linear_SVC</td>\n",
              "      <td>0.0370296</td>\n",
              "      <td>0.841293</td>\n",
              "      <td>0.830079</td>\n",
              "      <td>0.841293</td>\n",
              "      <td>0.830079</td>\n",
              "    </tr>\n",
              "    <tr>\n",
              "      <th>4</th>\n",
              "      <td>SGDClassifier</td>\n",
              "      <td>0.0188571</td>\n",
              "      <td>0.843272</td>\n",
              "      <td>0.829024</td>\n",
              "      <td>0.843272</td>\n",
              "      <td>0.829024</td>\n",
              "    </tr>\n",
              "    <tr>\n",
              "      <th>5</th>\n",
              "      <td>KNeighborsClassifier</td>\n",
              "      <td>0.00322566</td>\n",
              "      <td>0.868865</td>\n",
              "      <td>0.824274</td>\n",
              "      <td>0.868865</td>\n",
              "      <td>0.824274</td>\n",
              "    </tr>\n",
              "    <tr>\n",
              "      <th>6</th>\n",
              "      <td>BernoulliNB</td>\n",
              "      <td>0.00165195</td>\n",
              "      <td>0.710554</td>\n",
              "      <td>0.701847</td>\n",
              "      <td>0.710554</td>\n",
              "      <td>0.701847</td>\n",
              "    </tr>\n",
              "    <tr>\n",
              "      <th>7</th>\n",
              "      <td>MultinomialNB</td>\n",
              "      <td>0.000886774</td>\n",
              "      <td>NaN</td>\n",
              "      <td>NaN</td>\n",
              "      <td>NaN</td>\n",
              "      <td>NaN</td>\n",
              "    </tr>\n",
              "  </tbody>\n",
              "</table>\n",
              "</div>"
            ],
            "text/plain": [
              "                 MLA Name     MLA Time  ... Train F1 Mean Validation F1 Mean\n",
              "0  RandomForestClassifier     0.324991  ...      0.920053           0.861741\n",
              "1           XGBClassifier     0.597223  ...       0.91438           0.855409\n",
              "2                 RBF_SVC    0.0564352  ...      0.881398           0.847493\n",
              "3              Linear_SVC    0.0370296  ...      0.841293           0.830079\n",
              "4           SGDClassifier    0.0188571  ...      0.843272           0.829024\n",
              "5    KNeighborsClassifier   0.00322566  ...      0.868865           0.824274\n",
              "6             BernoulliNB   0.00165195  ...      0.710554           0.701847\n",
              "7           MultinomialNB  0.000886774  ...           NaN                NaN\n",
              "\n",
              "[8 rows x 6 columns]"
            ]
          },
          "metadata": {
            "tags": []
          },
          "execution_count": 23
        }
      ]
    },
    {
      "cell_type": "markdown",
      "metadata": {
        "id": "_cwyNdGj0I5j"
      },
      "source": [
        "### Tuning Random Forest Classifier parameters "
      ]
    },
    {
      "cell_type": "code",
      "metadata": {
        "id": "w3qirhJc0IMB"
      },
      "source": [
        "from sklearn.model_selection import GridSearchCV\n",
        "def hyperparam_selection(X, y, cv=5):\n",
        "    rf_classifier = ensemble.RandomForestClassifier()\n",
        "\n",
        "    # parameters to try for random forest classifier\n",
        "    parameters = {'n_estimators': [10, 30, 50, 70, 100], \n",
        "                  'criterion': ['gini', 'entropy'], \n",
        "                  'max_depth': [5, 10, 15, None], \n",
        "                  'max_features': ['log2','auto','sqrt']}\n",
        "\n",
        "    clf = GridSearchCV(rf_classifier, parameters, cv=cv, scoring='f1_weighted') \n",
        "    clf.fit(X, y)\n",
        "\n",
        "    print ('*'*40)\n",
        "    print(\"Best Score: \", clf.best_score_)\n",
        "    print(\"Best Params: \", clf.best_params_)"
      ],
      "execution_count": null,
      "outputs": []
    },
    {
      "cell_type": "code",
      "metadata": {
        "colab": {
          "base_uri": "https://localhost:8080/"
        },
        "id": "FTaUdLp92W6c",
        "outputId": "a451fe12-5484-4ebd-f209-1855c3168c8a"
      },
      "source": [
        "hyperparam_selection(AA_X_train, AA_y_train)"
      ],
      "execution_count": null,
      "outputs": [
        {
          "output_type": "stream",
          "text": [
            "****************************************\n",
            "Best Score:  0.8638704463912941\n",
            "Best Params:  {'criterion': 'entropy', 'max_depth': None, 'max_features': 'sqrt', 'n_estimators': 10}\n"
          ],
          "name": "stdout"
        }
      ]
    },
    {
      "cell_type": "markdown",
      "metadata": {
        "id": "txaRx2Zj3WiY"
      },
      "source": [
        "## Test Accuracy"
      ]
    },
    {
      "cell_type": "code",
      "metadata": {
        "colab": {
          "base_uri": "https://localhost:8080/"
        },
        "id": "I1BD9Ui43Vz9",
        "outputId": "7fc24589-4ea9-4199-d141-137383d745d3"
      },
      "source": [
        "from sklearn.metrics import classification_report\n",
        "\n",
        "rf_classifier = ensemble.RandomForestClassifier(criterion='entropy', max_depth=None, max_features='sqrt', n_estimators=10)\n",
        "rf_classifier.fit(AA_X_train, AA_y_train)\n",
        "y_pred = rf_classifier.predict(AA_X_test)\n",
        "print (classification_report(AA_y_test, y_pred))"
      ],
      "execution_count": null,
      "outputs": [
        {
          "output_type": "stream",
          "text": [
            "              precision    recall  f1-score   support\n",
            "\n",
            "           0       0.96      0.98      0.97       416\n",
            "           1       0.84      0.91      0.87       403\n",
            "           2       0.94      0.93      0.93       387\n",
            "           3       0.92      0.87      0.89       689\n",
            "\n",
            "    accuracy                           0.91      1895\n",
            "   macro avg       0.91      0.92      0.92      1895\n",
            "weighted avg       0.92      0.91      0.91      1895\n",
            "\n"
          ],
          "name": "stdout"
        }
      ]
    },
    {
      "cell_type": "markdown",
      "metadata": {
        "id": "ftstMuvrwe8B"
      },
      "source": [
        "##Sabrina's EDA"
      ]
    },
    {
      "cell_type": "markdown",
      "metadata": {
        "id": "ixKNoOVMTM9N"
      },
      "source": [
        "**EDA performed by Sabrina:**\n",
        "\n",
        "*   Frequency of \"True\" vs \"False\" among all attributes\n",
        "*   Frequency of \"True\" among every game\n",
        "*   Average number of descriptors between ESRB ratings\n",
        "\n",
        "\n"
      ]
    },
    {
      "cell_type": "code",
      "metadata": {
        "id": "ztIYt7Ybwzmg"
      },
      "source": [
        "# Temporary personal copy\n",
        "SJAset = trainset.copy()"
      ],
      "execution_count": null,
      "outputs": []
    },
    {
      "cell_type": "code",
      "metadata": {
        "id": "mCkxVGdCZSwz",
        "colab": {
          "base_uri": "https://localhost:8080/",
          "height": 1000
        },
        "outputId": "833d311b-e1f5-4577-9a37-e9d10e638e3b"
      },
      "source": [
        "# Remove nominal columns for simplicity\n",
        "SJAset_binary = SJAset.drop(['title', 'esrb_rating'], axis = 1)\n",
        "# Frequencies \n",
        "freq = SJAset_binary.apply(pd.Series.value_counts)\n",
        "freq.loc['total']= freq.sum(numeric_only=True, axis=0)\n",
        "freq = freq.T\n",
        "# Append to add percentages \n",
        "freq['0_perc'] = freq[0] / freq['total'] * 100\n",
        "freq['1_perc'] = freq[1] / freq['total'] * 100\n",
        "freq"
      ],
      "execution_count": null,
      "outputs": [
        {
          "output_type": "execute_result",
          "data": {
            "text/html": [
              "<div>\n",
              "<style scoped>\n",
              "    .dataframe tbody tr th:only-of-type {\n",
              "        vertical-align: middle;\n",
              "    }\n",
              "\n",
              "    .dataframe tbody tr th {\n",
              "        vertical-align: top;\n",
              "    }\n",
              "\n",
              "    .dataframe thead th {\n",
              "        text-align: right;\n",
              "    }\n",
              "</style>\n",
              "<table border=\"1\" class=\"dataframe\">\n",
              "  <thead>\n",
              "    <tr style=\"text-align: right;\">\n",
              "      <th></th>\n",
              "      <th>0</th>\n",
              "      <th>1</th>\n",
              "      <th>total</th>\n",
              "      <th>0_perc</th>\n",
              "      <th>1_perc</th>\n",
              "    </tr>\n",
              "  </thead>\n",
              "  <tbody>\n",
              "    <tr>\n",
              "      <th>console</th>\n",
              "      <td>994</td>\n",
              "      <td>901</td>\n",
              "      <td>1895</td>\n",
              "      <td>52.453826</td>\n",
              "      <td>47.546174</td>\n",
              "    </tr>\n",
              "    <tr>\n",
              "      <th>alcohol_reference</th>\n",
              "      <td>1800</td>\n",
              "      <td>95</td>\n",
              "      <td>1895</td>\n",
              "      <td>94.986807</td>\n",
              "      <td>5.013193</td>\n",
              "    </tr>\n",
              "    <tr>\n",
              "      <th>animated_blood</th>\n",
              "      <td>1876</td>\n",
              "      <td>19</td>\n",
              "      <td>1895</td>\n",
              "      <td>98.997361</td>\n",
              "      <td>1.002639</td>\n",
              "    </tr>\n",
              "    <tr>\n",
              "      <th>blood</th>\n",
              "      <td>1463</td>\n",
              "      <td>432</td>\n",
              "      <td>1895</td>\n",
              "      <td>77.203166</td>\n",
              "      <td>22.796834</td>\n",
              "    </tr>\n",
              "    <tr>\n",
              "      <th>blood_and_gore</th>\n",
              "      <td>1656</td>\n",
              "      <td>239</td>\n",
              "      <td>1895</td>\n",
              "      <td>87.387863</td>\n",
              "      <td>12.612137</td>\n",
              "    </tr>\n",
              "    <tr>\n",
              "      <th>cartoon_violence</th>\n",
              "      <td>1858</td>\n",
              "      <td>37</td>\n",
              "      <td>1895</td>\n",
              "      <td>98.047493</td>\n",
              "      <td>1.952507</td>\n",
              "    </tr>\n",
              "    <tr>\n",
              "      <th>crude_humor</th>\n",
              "      <td>1792</td>\n",
              "      <td>103</td>\n",
              "      <td>1895</td>\n",
              "      <td>94.564644</td>\n",
              "      <td>5.435356</td>\n",
              "    </tr>\n",
              "    <tr>\n",
              "      <th>drug_reference</th>\n",
              "      <td>1829</td>\n",
              "      <td>66</td>\n",
              "      <td>1895</td>\n",
              "      <td>96.517150</td>\n",
              "      <td>3.482850</td>\n",
              "    </tr>\n",
              "    <tr>\n",
              "      <th>fantasy_violence</th>\n",
              "      <td>1477</td>\n",
              "      <td>418</td>\n",
              "      <td>1895</td>\n",
              "      <td>77.941953</td>\n",
              "      <td>22.058047</td>\n",
              "    </tr>\n",
              "    <tr>\n",
              "      <th>intense_violence</th>\n",
              "      <td>1671</td>\n",
              "      <td>224</td>\n",
              "      <td>1895</td>\n",
              "      <td>88.179420</td>\n",
              "      <td>11.820580</td>\n",
              "    </tr>\n",
              "    <tr>\n",
              "      <th>language</th>\n",
              "      <td>1690</td>\n",
              "      <td>205</td>\n",
              "      <td>1895</td>\n",
              "      <td>89.182058</td>\n",
              "      <td>10.817942</td>\n",
              "    </tr>\n",
              "    <tr>\n",
              "      <th>lyrics</th>\n",
              "      <td>1832</td>\n",
              "      <td>63</td>\n",
              "      <td>1895</td>\n",
              "      <td>96.675462</td>\n",
              "      <td>3.324538</td>\n",
              "    </tr>\n",
              "    <tr>\n",
              "      <th>mature_humor</th>\n",
              "      <td>1873</td>\n",
              "      <td>22</td>\n",
              "      <td>1895</td>\n",
              "      <td>98.839050</td>\n",
              "      <td>1.160950</td>\n",
              "    </tr>\n",
              "    <tr>\n",
              "      <th>mild_blood</th>\n",
              "      <td>1763</td>\n",
              "      <td>132</td>\n",
              "      <td>1895</td>\n",
              "      <td>93.034301</td>\n",
              "      <td>6.965699</td>\n",
              "    </tr>\n",
              "    <tr>\n",
              "      <th>mild_cartoon_violence</th>\n",
              "      <td>1850</td>\n",
              "      <td>45</td>\n",
              "      <td>1895</td>\n",
              "      <td>97.625330</td>\n",
              "      <td>2.374670</td>\n",
              "    </tr>\n",
              "    <tr>\n",
              "      <th>mild_fantasy_violence</th>\n",
              "      <td>1804</td>\n",
              "      <td>91</td>\n",
              "      <td>1895</td>\n",
              "      <td>95.197889</td>\n",
              "      <td>4.802111</td>\n",
              "    </tr>\n",
              "    <tr>\n",
              "      <th>mild_language</th>\n",
              "      <td>1854</td>\n",
              "      <td>41</td>\n",
              "      <td>1895</td>\n",
              "      <td>97.836412</td>\n",
              "      <td>2.163588</td>\n",
              "    </tr>\n",
              "    <tr>\n",
              "      <th>mild_lyrics</th>\n",
              "      <td>1749</td>\n",
              "      <td>146</td>\n",
              "      <td>1895</td>\n",
              "      <td>92.295515</td>\n",
              "      <td>7.704485</td>\n",
              "    </tr>\n",
              "    <tr>\n",
              "      <th>mild_suggestive_themes</th>\n",
              "      <td>1811</td>\n",
              "      <td>84</td>\n",
              "      <td>1895</td>\n",
              "      <td>95.567282</td>\n",
              "      <td>4.432718</td>\n",
              "    </tr>\n",
              "    <tr>\n",
              "      <th>mild_violence</th>\n",
              "      <td>1805</td>\n",
              "      <td>90</td>\n",
              "      <td>1895</td>\n",
              "      <td>95.250660</td>\n",
              "      <td>4.749340</td>\n",
              "    </tr>\n",
              "    <tr>\n",
              "      <th>no_descriptors</th>\n",
              "      <td>1573</td>\n",
              "      <td>322</td>\n",
              "      <td>1895</td>\n",
              "      <td>83.007916</td>\n",
              "      <td>16.992084</td>\n",
              "    </tr>\n",
              "    <tr>\n",
              "      <th>nudity</th>\n",
              "      <td>1867</td>\n",
              "      <td>28</td>\n",
              "      <td>1895</td>\n",
              "      <td>98.522427</td>\n",
              "      <td>1.477573</td>\n",
              "    </tr>\n",
              "    <tr>\n",
              "      <th>partial_nudity</th>\n",
              "      <td>1870</td>\n",
              "      <td>25</td>\n",
              "      <td>1895</td>\n",
              "      <td>98.680739</td>\n",
              "      <td>1.319261</td>\n",
              "    </tr>\n",
              "    <tr>\n",
              "      <th>sexual_content</th>\n",
              "      <td>1830</td>\n",
              "      <td>65</td>\n",
              "      <td>1895</td>\n",
              "      <td>96.569921</td>\n",
              "      <td>3.430079</td>\n",
              "    </tr>\n",
              "    <tr>\n",
              "      <th>sexual_themes</th>\n",
              "      <td>1786</td>\n",
              "      <td>109</td>\n",
              "      <td>1895</td>\n",
              "      <td>94.248021</td>\n",
              "      <td>5.751979</td>\n",
              "    </tr>\n",
              "    <tr>\n",
              "      <th>simulated_gambling</th>\n",
              "      <td>1768</td>\n",
              "      <td>127</td>\n",
              "      <td>1895</td>\n",
              "      <td>93.298153</td>\n",
              "      <td>6.701847</td>\n",
              "    </tr>\n",
              "    <tr>\n",
              "      <th>strong_janguage</th>\n",
              "      <td>1671</td>\n",
              "      <td>224</td>\n",
              "      <td>1895</td>\n",
              "      <td>88.179420</td>\n",
              "      <td>11.820580</td>\n",
              "    </tr>\n",
              "    <tr>\n",
              "      <th>strong_sexual_content</th>\n",
              "      <td>1827</td>\n",
              "      <td>68</td>\n",
              "      <td>1895</td>\n",
              "      <td>96.411609</td>\n",
              "      <td>3.588391</td>\n",
              "    </tr>\n",
              "    <tr>\n",
              "      <th>suggestive_themes</th>\n",
              "      <td>1672</td>\n",
              "      <td>223</td>\n",
              "      <td>1895</td>\n",
              "      <td>88.232190</td>\n",
              "      <td>11.767810</td>\n",
              "    </tr>\n",
              "    <tr>\n",
              "      <th>use_of_alcohol</th>\n",
              "      <td>1865</td>\n",
              "      <td>30</td>\n",
              "      <td>1895</td>\n",
              "      <td>98.416887</td>\n",
              "      <td>1.583113</td>\n",
              "    </tr>\n",
              "    <tr>\n",
              "      <th>use_of_drugs_and_alcohol</th>\n",
              "      <td>1865</td>\n",
              "      <td>30</td>\n",
              "      <td>1895</td>\n",
              "      <td>98.416887</td>\n",
              "      <td>1.583113</td>\n",
              "    </tr>\n",
              "    <tr>\n",
              "      <th>violence</th>\n",
              "      <td>1774</td>\n",
              "      <td>121</td>\n",
              "      <td>1895</td>\n",
              "      <td>93.614776</td>\n",
              "      <td>6.385224</td>\n",
              "    </tr>\n",
              "  </tbody>\n",
              "</table>\n",
              "</div>"
            ],
            "text/plain": [
              "                             0    1  total     0_perc     1_perc\n",
              "console                    994  901   1895  52.453826  47.546174\n",
              "alcohol_reference         1800   95   1895  94.986807   5.013193\n",
              "animated_blood            1876   19   1895  98.997361   1.002639\n",
              "blood                     1463  432   1895  77.203166  22.796834\n",
              "blood_and_gore            1656  239   1895  87.387863  12.612137\n",
              "cartoon_violence          1858   37   1895  98.047493   1.952507\n",
              "crude_humor               1792  103   1895  94.564644   5.435356\n",
              "drug_reference            1829   66   1895  96.517150   3.482850\n",
              "fantasy_violence          1477  418   1895  77.941953  22.058047\n",
              "intense_violence          1671  224   1895  88.179420  11.820580\n",
              "language                  1690  205   1895  89.182058  10.817942\n",
              "lyrics                    1832   63   1895  96.675462   3.324538\n",
              "mature_humor              1873   22   1895  98.839050   1.160950\n",
              "mild_blood                1763  132   1895  93.034301   6.965699\n",
              "mild_cartoon_violence     1850   45   1895  97.625330   2.374670\n",
              "mild_fantasy_violence     1804   91   1895  95.197889   4.802111\n",
              "mild_language             1854   41   1895  97.836412   2.163588\n",
              "mild_lyrics               1749  146   1895  92.295515   7.704485\n",
              "mild_suggestive_themes    1811   84   1895  95.567282   4.432718\n",
              "mild_violence             1805   90   1895  95.250660   4.749340\n",
              "no_descriptors            1573  322   1895  83.007916  16.992084\n",
              "nudity                    1867   28   1895  98.522427   1.477573\n",
              "partial_nudity            1870   25   1895  98.680739   1.319261\n",
              "sexual_content            1830   65   1895  96.569921   3.430079\n",
              "sexual_themes             1786  109   1895  94.248021   5.751979\n",
              "simulated_gambling        1768  127   1895  93.298153   6.701847\n",
              "strong_janguage           1671  224   1895  88.179420  11.820580\n",
              "strong_sexual_content     1827   68   1895  96.411609   3.588391\n",
              "suggestive_themes         1672  223   1895  88.232190  11.767810\n",
              "use_of_alcohol            1865   30   1895  98.416887   1.583113\n",
              "use_of_drugs_and_alcohol  1865   30   1895  98.416887   1.583113\n",
              "violence                  1774  121   1895  93.614776   6.385224"
            ]
          },
          "metadata": {
            "tags": []
          },
          "execution_count": 40
        }
      ]
    },
    {
      "cell_type": "markdown",
      "metadata": {
        "id": "Hv0Yf8kYf_zE"
      },
      "source": [
        "The majority of attributes have a \"True\" frequency <10%. None of these values are less than 1%.\n",
        "\n",
        "Now let's look at the frequency of \"True\" among all the games. This first cell defines the cutoff as a percentage."
      ]
    },
    {
      "cell_type": "code",
      "metadata": {
        "id": "hl8vm0vfhILu",
        "colab": {
          "base_uri": "https://localhost:8080/"
        },
        "outputId": "50effc9e-5e95-44c6-cc63-069766e1ea11"
      },
      "source": [
        "# Total number of binary columns\n",
        "total_cols=len(SJAset_binary.axes[1]) -1 #Subtract one to account for console attribute\n",
        "# Set threshold for number of present attribtes\n",
        "thresh_perc = 0.05    #5% cutoff\n",
        "# Determine value cutoff\n",
        "thresh = thresh_perc * total_cols\n",
        "print('Threshold for number of attributes present =',thresh)"
      ],
      "execution_count": null,
      "outputs": [
        {
          "output_type": "stream",
          "text": [
            "Threshold for number of attributes present = 1.55\n"
          ],
          "name": "stdout"
        }
      ]
    },
    {
      "cell_type": "markdown",
      "metadata": {
        "id": "_cxA8KTFkS8Z"
      },
      "source": [
        "Here is the distribution of present attribte number among all of the games:"
      ]
    },
    {
      "cell_type": "code",
      "metadata": {
        "id": "lAPR3cVHvkBr",
        "colab": {
          "base_uri": "https://localhost:8080/",
          "height": 629
        },
        "outputId": "8d04ce82-5e54-4640-fa2a-8f96bd0c501b"
      },
      "source": [
        "SJAset_games = SJAset.set_index('title')\n",
        "# Distribution of row means (number of attributes present)\n",
        "rowmeans = SJAset_games.sum(axis=1)\n",
        "plt.hist(rowmeans)\n",
        "plt.xlabel('Number of attributes present')\n",
        "plt.ylabel('Number of games')"
      ],
      "execution_count": null,
      "outputs": [
        {
          "output_type": "execute_result",
          "data": {
            "text/plain": [
              "Text(0, 0.5, 'Number of games')"
            ]
          },
          "metadata": {
            "tags": []
          },
          "execution_count": 42
        },
        {
          "output_type": "display_data",
          "data": {
            "image/png": "[encoded data removed]",
            "text/plain": [
              "<Figure size 864x720 with 1 Axes>"
            ]
          },
          "metadata": {
            "tags": []
          }
        }
      ]
    },
    {
      "cell_type": "markdown",
      "metadata": {
        "id": "6otfocF0xnZf"
      },
      "source": [
        "Next, let's see how many games will meet our defined threshold for present attribute values."
      ]
    },
    {
      "cell_type": "code",
      "metadata": {
        "id": "Kq9OlbDVkaSB",
        "colab": {
          "base_uri": "https://localhost:8080/"
        },
        "outputId": "b430f2f3-bde3-484e-f684-70e0e52805d7"
      },
      "source": [
        "# Subset games that meet threshold\n",
        "SJAset_games_thresh = SJAset_games[SJAset_games.sum(axis=1) >= thresh]\n",
        "# Return number of games (rows) that have >= attribute threshold\n",
        "print('% threshold =', thresh_perc)\n",
        "print('% of games that meet threshold =',len(SJAset_games_thresh)/len(SJAset_games))\n",
        "print('Number of games that meet threshold =',len(SJAset_games_thresh))\n",
        "print('Number of games total =',len(SJAset_games))"
      ],
      "execution_count": null,
      "outputs": [
        {
          "output_type": "stream",
          "text": [
            "% threshold = 0.05\n",
            "% of games that meet threshold = 0.775197889182058\n",
            "Number of games that meet threshold = 1469\n",
            "Number of games total = 1895\n"
          ],
          "name": "stdout"
        }
      ]
    },
    {
      "cell_type": "markdown",
      "metadata": {
        "id": "fr4bharep5eo"
      },
      "source": [
        "How does the distribution of ESRB rating change when we subset the games that meet the attribute threshold?"
      ]
    },
    {
      "cell_type": "code",
      "metadata": {
        "id": "wXPmDwvurS1K",
        "colab": {
          "base_uri": "https://localhost:8080/"
        },
        "outputId": "b01caf05-3e0e-4d2c-c293-c4732b187ab2"
      },
      "source": [
        "# Extract ratings\n",
        "rate = SJAset_games['esrb_rating'].tolist()\n",
        "rate_filt = SJAset_games_thresh['esrb_rating'].tolist()\n",
        "# Peek at frequencies\n",
        "from collections import Counter\n",
        "rate_count = Counter(rate)\n",
        "rate_filt_count = Counter(rate_filt)\n",
        "print('original dataset',[(i, rate_count[i] / len(rate)) for i in rate_count])\n",
        "print('filtered dataset',[(i, rate_filt_count[i] / len(rate)) for i in rate_filt_count])"
      ],
      "execution_count": null,
      "outputs": [
        {
          "output_type": "stream",
          "text": [
            "original dataset [('E', 0.21952506596306068), ('ET', 0.21266490765171503), ('M', 0.20422163588390502), ('T', 0.36358839050131925)]\n",
            "filtered dataset [('E', 0.12137203166226913), ('ET', 0.15197889182058047), ('M', 0.19155672823218997), ('T', 0.31029023746701845)]\n"
          ],
          "name": "stdout"
        }
      ]
    },
    {
      "cell_type": "code",
      "metadata": {
        "id": "pnrjlsJoqAGW",
        "colab": {
          "base_uri": "https://localhost:8080/",
          "height": 611
        },
        "outputId": "682b0578-f8af-4eb9-ef49-b44064378bd0"
      },
      "source": [
        "# Plot as stacked barchart\n",
        "import matplotlib.pyplot as plt\n",
        "plt.hist(rate, label=\"original\")\n",
        "plt.hist(rate_filt, label=\"filtered\")\n",
        "plt.legend(loc=\"upper left\")"
      ],
      "execution_count": null,
      "outputs": [
        {
          "output_type": "execute_result",
          "data": {
            "text/plain": [
              "<matplotlib.legend.Legend at 0x7f6619126490>"
            ]
          },
          "metadata": {
            "tags": []
          },
          "execution_count": 45
        },
        {
          "output_type": "display_data",
          "data": {
            "image/png": "[encoded data removed]",
            "text/plain": [
              "<Figure size 864x720 with 1 Axes>"
            ]
          },
          "metadata": {
            "tags": []
          }
        }
      ]
    },
    {
      "cell_type": "markdown",
      "metadata": {
        "id": "GVs3J3sttBGZ"
      },
      "source": [
        "The distribution has changed significantly after filtering, and biases exclusion of E/ET-rated games. In fact, row sum alone may be a pretty good indicator of ESRB rating."
      ]
    },
    {
      "cell_type": "code",
      "metadata": {
        "id": "ops4LoM7ad-C",
        "colab": {
          "base_uri": "https://localhost:8080/",
          "height": 202
        },
        "outputId": "fadd9a3b-24d1-449b-bb61-48201309ad8a"
      },
      "source": [
        "## Average number of descriptors per rating\n",
        "# Add number of attributes as a new column\n",
        "SJAset_games = SJAset.set_index('title')\n",
        "SJAset_games['n_attributes'] = SJAset_games.sum(axis=1)\n",
        "# Distribution of row means (number of attributes present)\n",
        "SJAset_games.groupby('esrb_rating')['n_attributes'].describe()"
      ],
      "execution_count": null,
      "outputs": [
        {
          "output_type": "execute_result",
          "data": {
            "text/html": [
              "<div>\n",
              "<style scoped>\n",
              "    .dataframe tbody tr th:only-of-type {\n",
              "        vertical-align: middle;\n",
              "    }\n",
              "\n",
              "    .dataframe tbody tr th {\n",
              "        vertical-align: top;\n",
              "    }\n",
              "\n",
              "    .dataframe thead th {\n",
              "        text-align: right;\n",
              "    }\n",
              "</style>\n",
              "<table border=\"1\" class=\"dataframe\">\n",
              "  <thead>\n",
              "    <tr style=\"text-align: right;\">\n",
              "      <th></th>\n",
              "      <th>count</th>\n",
              "      <th>mean</th>\n",
              "      <th>std</th>\n",
              "      <th>min</th>\n",
              "      <th>25%</th>\n",
              "      <th>50%</th>\n",
              "      <th>75%</th>\n",
              "      <th>max</th>\n",
              "    </tr>\n",
              "    <tr>\n",
              "      <th>esrb_rating</th>\n",
              "      <th></th>\n",
              "      <th></th>\n",
              "      <th></th>\n",
              "      <th></th>\n",
              "      <th></th>\n",
              "      <th></th>\n",
              "      <th></th>\n",
              "      <th></th>\n",
              "    </tr>\n",
              "  </thead>\n",
              "  <tbody>\n",
              "    <tr>\n",
              "      <th>E</th>\n",
              "      <td>416.0</td>\n",
              "      <td>1.555288</td>\n",
              "      <td>0.556946</td>\n",
              "      <td>0.0</td>\n",
              "      <td>1.0</td>\n",
              "      <td>2.0</td>\n",
              "      <td>2.0</td>\n",
              "      <td>3.0</td>\n",
              "    </tr>\n",
              "    <tr>\n",
              "      <th>ET</th>\n",
              "      <td>403.0</td>\n",
              "      <td>2.200993</td>\n",
              "      <td>1.082102</td>\n",
              "      <td>1.0</td>\n",
              "      <td>1.0</td>\n",
              "      <td>2.0</td>\n",
              "      <td>3.0</td>\n",
              "      <td>6.0</td>\n",
              "    </tr>\n",
              "    <tr>\n",
              "      <th>M</th>\n",
              "      <td>387.0</td>\n",
              "      <td>3.583979</td>\n",
              "      <td>1.360072</td>\n",
              "      <td>1.0</td>\n",
              "      <td>3.0</td>\n",
              "      <td>4.0</td>\n",
              "      <td>5.0</td>\n",
              "      <td>7.0</td>\n",
              "    </tr>\n",
              "    <tr>\n",
              "      <th>T</th>\n",
              "      <td>689.0</td>\n",
              "      <td>2.763425</td>\n",
              "      <td>1.222630</td>\n",
              "      <td>1.0</td>\n",
              "      <td>2.0</td>\n",
              "      <td>3.0</td>\n",
              "      <td>3.0</td>\n",
              "      <td>7.0</td>\n",
              "    </tr>\n",
              "  </tbody>\n",
              "</table>\n",
              "</div>"
            ],
            "text/plain": [
              "             count      mean       std  min  25%  50%  75%  max\n",
              "esrb_rating                                                    \n",
              "E            416.0  1.555288  0.556946  0.0  1.0  2.0  2.0  3.0\n",
              "ET           403.0  2.200993  1.082102  1.0  1.0  2.0  3.0  6.0\n",
              "M            387.0  3.583979  1.360072  1.0  3.0  4.0  5.0  7.0\n",
              "T            689.0  2.763425  1.222630  1.0  2.0  3.0  3.0  7.0"
            ]
          },
          "metadata": {
            "tags": []
          },
          "execution_count": 46
        }
      ]
    },
    {
      "cell_type": "markdown",
      "metadata": {
        "id": "eEFu_011f2s8"
      },
      "source": [
        "Interesting: the maximum number of descriptors for E is no bigger than 3. ET,M and T all have 6 or greater. As predicted, \"M\" has the greatest average number of descriptors (3.6) followed by T (2.8), ET (2.2) and E(1.6). It will be interesting to see how our model parses apart ET and T. E has the lowest spread (sd) overall, which makes sense. M has one of the greatest spreads."
      ]
    },
    {
      "cell_type": "code",
      "metadata": {
        "colab": {
          "base_uri": "https://localhost:8080/",
          "height": 239
        },
        "id": "9tMaIYHwhCc9",
        "outputId": "3b24acfa-7849-4393-805a-dc8ab168fc99"
      },
      "source": [
        "import seaborn as sns\n",
        "sns.displot(\n",
        "    SJAset_games, x=\"n_attributes\", col=\"esrb_rating\",\n",
        "    binwidth=1, height=3, facet_kws=dict(margin_titles=True),\n",
        ")"
      ],
      "execution_count": null,
      "outputs": [
        {
          "output_type": "execute_result",
          "data": {
            "text/plain": [
              "<seaborn.axisgrid.FacetGrid at 0x7f661a1c0150>"
            ]
          },
          "metadata": {
            "tags": []
          },
          "execution_count": 47
        },
        {
          "output_type": "display_data",
          "data": {
            "image/png": "[encoded data removed]",
            "text/plain": [
              "<Figure size 864x216 with 4 Axes>"
            ]
          },
          "metadata": {
            "tags": []
          }
        }
      ]
    },
    {
      "cell_type": "markdown",
      "metadata": {
        "id": "5fXnVo3EjQFf"
      },
      "source": [
        "Although these histograms mostly recapitulate what's seen in the descriptive statistics, we can see that there are tails on the right sides of ET and T, meaning that a small portion of the games contain a larger number of attributes. This could be ammunition for our disucssion of the subjectivity of ratings."
      ]
    },
    {
      "cell_type": "markdown",
      "metadata": {
        "id": "evrl3fZnwiCg"
      },
      "source": [
        "##Justin's EDA"
      ]
    },
    {
      "cell_type": "code",
      "metadata": {
        "id": "mIKtolf-w0Dw"
      },
      "source": [
        "import os                                 # import the os module\n",
        "\n",
        "myOGSet = testset.copy()                 # make a copy of hte training set dataframe\n",
        "\n",
        "# Change the current working directory to the data directory in the shared drive.\n",
        "os.chdir('/content/drive/Shareddrives/CSCI 5523 - Data Mining Project Drive/Analysis/data')\n",
        "\n",
        "# Adding new columns to the dataframe.\n",
        "#  slug\n",
        "#   'slug' is the new column for the part of a URL (Uniform Resource Locator)\n",
        "#    that is quasi-human readable that is put after all the domain redirection.\n",
        "#    You see this easily on news sites, most have slugs like www.news.com/this-is-the-slug\n",
        "myOGSet['slug'] = None\n",
        "\n",
        "#  released\n",
        "#   'released' is the new column for the release date of the video game.\n",
        "myOGSet['released'] = ''\n",
        "\n",
        "myOGSet['manual_update'] = False\n",
        "\n",
        "#  base_game\n",
        "#   'base_game' is the new column for if this is a base game or if the game\n",
        "#   is DLC or a special edition.\n",
        "myOGSet['base_game'] = True\n",
        "\n",
        "#  apostrophe_in_title\n",
        "#   'apostrophe_in_title' is the new column for if an apostrophe >> ' << exists\n",
        "#   in the game title. This column doesn't provide any new information and should\n",
        "#   be dropped prior to any models being built on the dataset. This column is\n",
        "#   used purely to keep track of this information for analysis if needed.\n",
        "myOGSet['apostrophe_in_title'] = False\n",
        "\n",
        "#   has_dup\n",
        "#    'has_dup' is the new column for if this game has a duplicate in the dataset.\n",
        "#    Duplicate determination is based off of the final santized slug, not the\n",
        "#    game title itself. If this column is 'True' in the final dataset then\n",
        "#    there >> was << a duplicate, but it has either been deleted or the duplication\n",
        "#    reason fixed.\n",
        "myOGSet['has_dup'] = False\n",
        "\n",
        "#   drop\n",
        "#    'drop' is the new column for if this game title should be dropped. If during\n",
        "#    sanitization a game title is determined to need to be dropped, this column\n",
        "#    will be 'True' and later dropped based on this columns value. This column is\n",
        "#    used purely to keep track of this information for analysis if needed.\n",
        "myOGSet['drop'] = False\n",
        "\n",
        "myOGSet"
      ],
      "execution_count": null,
      "outputs": []
    },
    {
      "cell_type": "code",
      "metadata": {
        "id": "lmqYSjPXE9cY"
      },
      "source": [
        "myOGSet.shape # output shape of the dataset"
      ],
      "execution_count": null,
      "outputs": []
    },
    {
      "cell_type": "code",
      "metadata": {
        "id": "AxOPz3Q1Vzmp"
      },
      "source": [
        "import re       # regex\n",
        "\n",
        "# Regex for the following special symbols.\n",
        "#   Trademark Unicode Code Point: U+2122 \n",
        "#   Copyright Unicdoe Code Point: U+00A9 \n",
        "#   Registered Unicode Code Point: U+00AE\n",
        "#   Ampersand Unicode Code Point: U+0026 \n",
        "#   – (hypen) - for some reason the hypen in some game titles is no in ASCII range.\n",
        "#   … (ellipse) - for some reason actual ellipses are used instead of three dots.\n",
        "#   ´ (forward tick) - for some reason a forward ticks are used instead of an apostrophe.\n",
        "tmCrRAmpSymbol = re.compile('[\\u2122\\u00A9\\u00AE\\u0026\\–\\…\\´]')\n",
        "\n",
        "# Regex for ASCII (American Standard Code for Information Interchange) characters.\n",
        "# We are doing to do our own regex for ASCII characters instead of calling the \n",
        "# string function .isascii() because we want to find the characters that are \n",
        "# not ASCII so we can do extra analysis.\n",
        "# ASCII characters are 7-bit characters from hex 0x00 to hex 0x7F.\n",
        "nonASCIIChars = re.compile('[^\\x00-\\x7F]')\n",
        "\n",
        "# Make a copy of the dataframe. You should NEVER iterate over anything while\n",
        "# also making changes to it.\n",
        "interimDF = myOGSet.copy()\n",
        "for row in myOGSet.itertuples():  # iterate over each game title in the dataframe\n",
        "  gameTitle = row.title           # get the game title\n",
        "  gameTitleURL = ''               # set the URL we will use to empty string ''\n",
        "\n",
        "  # Search the the game title for an apostrophe >> ' <<, this is useful for later\n",
        "  # if we need to do sanitization on the game title.\n",
        "  interimDF.loc[row.Index, 'apostrophe_in_title'] = (gameTitle.find('\\'') > -1)\n",
        "\n",
        "  # Run the regex to find non-ASCII characters in the game title.\n",
        "  resultsMatch = nonASCIIChars.search(gameTitle)\n",
        "\n",
        "  # Check if we got a match from the regex. If we did, this evaluates to 'True'.\n",
        "  if resultsMatch:\n",
        "\n",
        "      # Substitute out any special symbols like the trademark symbol with '-'.\n",
        "      gameTitlNoSpecialSymbols = re.sub(tmCrRAmpSymbol, '-', gameTitle)\n",
        "\n",
        "      # Rerun the regex to find non-ASCII characters in the game title.\n",
        "      resultsMatch = nonASCIIChars.search(gameTitlNoSpecialSymbols)\n",
        "\n",
        "      # Check if we got a match from the regex. If we did, this evaluates to 'True'.\n",
        "      if resultsMatch:\n",
        "        # We got a result again with the non-ASCII regex. This game is likely to\n",
        "        # be a non-English game title. \n",
        "\n",
        "        # Get the position of the non-ASCII character that the regex found.\n",
        "        charPos = resultsMatch.start()\n",
        "\n",
        "        # Get the character in the sanitized game title that is non-ASCII.\n",
        "        charFound = gameTitlNoSpecialSymbols[charPos]\n",
        "\n",
        "        # Print that we will be dropping this game from the dataset.\n",
        "        print(f'{gameTitle} is being dropped as a non-English video game; found char {charFound} at pos {charPos}')\n",
        "\n",
        "        # Do the actual drop from the dataset.\n",
        "        interimDF.loc[row.Index, 'drop'] = True\n",
        "      else:\n",
        "        # The second attempt to find non-ASCII characters returned none.\n",
        "        # That means that only the special symbols were in the game title.\n",
        "\n",
        "        # Convert ASCII game title to lowercase, replace all non-alphanumeric chars with a hypen '-'\n",
        "        gameTitleURL = re.sub('[^0-9a-zA-Z]+', '-', gameTitle.lower())\n",
        "  else:\n",
        "    # We didn't get a match from the initial non-ASCII character regex.\n",
        "    # The game title contains only ASCII characters to get here.\n",
        "\n",
        "    # Convert ASCII game title to lowercase, replace all non-alphanumeric chars with a hypen '-'\n",
        "    gameTitleURL = re.sub('[^0-9a-zA-Z]+', '-', gameTitle.lower())\n",
        "\n",
        "  # Check if the game title ends with a hypen '-'.\n",
        "  if gameTitleURL.endswith('-'):\n",
        "    # The game title ends with a hypen, remove it annd update the row entry.\n",
        "    interimDF.loc[row.Index, 'slug'] = gameTitleURL[:-1]\n",
        "  else:\n",
        "    # The game title doesn't end with a hypen, update the row entry.\n",
        "    interimDF.loc[row.Index, 'slug'] = gameTitleURL\n",
        "\n",
        "interimDF # output dataframe"
      ],
      "execution_count": null,
      "outputs": []
    },
    {
      "cell_type": "code",
      "metadata": {
        "id": "eTsF1bwZmqS4"
      },
      "source": [
        "interimDF.shape # output shape of the dataset"
      ],
      "execution_count": null,
      "outputs": []
    },
    {
      "cell_type": "code",
      "metadata": {
        "id": "BMKl4iNz_0QH"
      },
      "source": [
        "interimDF = interimDF[interimDF['drop'] == False]  # Any game titles that need to be dropped, do it now.\n",
        "interimDF.shape                                    # output shape of the dataset"
      ],
      "execution_count": null,
      "outputs": []
    },
    {
      "cell_type": "code",
      "metadata": {
        "id": "zFjF77VVHoxD"
      },
      "source": [
        "import requests  # import requests module\n",
        "\n",
        "# This variable is only used to enabled/disable querying the database. This\n",
        "# is in the event anyone clicks 'Run all' under the 'Runtime' tab. We don't \n",
        "# want this cell always querying the database.\n",
        "queryDB = False\n",
        "\n",
        "# Base URL of the API to call to get game title information.\n",
        "baseURL = 'https://api.rawg.io/api/games/'\n",
        "\n",
        "# Regex for a hypen '-' followed by any numer of nuermical of digits.\n",
        "# e.g. -123445 or -1 \n",
        "slugNumEnd = re.compile('-[0-9]+$')\n",
        "\n",
        "# Regex for a single character between two hypens '-'.\n",
        "# e.g. -a-\n",
        "slugSingleChar = re.compile('-[a-z]-')\n",
        "\n",
        "# Again make a copy of the dataframe since we will be changing it and iterating\n",
        "# over it at the same time.\n",
        "updatedDF = interimDF.copy()\n",
        "\n",
        "if queryDB:\n",
        "  printFile = open('./AlgRunOutput/pyDBQueryOutput.txt', mode='wt', buffering=1)\n",
        "\n",
        "# JN - (1) a game with a single character letter or number isn't valid.\n",
        "#      (2) remove numbers at the beginning of game titles.\n",
        "\n",
        "# Function Name    : updateReleaseDate\n",
        "#\n",
        "# Function Purpose : Update the 'released' column in the dataframe and possibly\n",
        "#                    the slug.\n",
        "#\n",
        "# Parameters       : \n",
        "#   gameInfo   - the JSON response from the server.\n",
        "#\n",
        "#   slug       - the slug for this game.\n",
        "#\n",
        "#   updateSlug - Update the slug in the dataframe along with the released date.\n",
        "#\n",
        "# Returns          : None\n",
        "def updateReleaseDate(gameInfo, slug, updateSlug):\n",
        "  # Get the release date, if redirection, and redirected slug form the JSON\n",
        "  # game information.\n",
        "  releaseDate, wasRedirected, redirectSlug = getGameRelease(gameInfo)\n",
        "\n",
        "  if wasRedirected:  # The game title was redirected.\n",
        "    # Output that the game title was redirected and to where.\n",
        "    print(\"      \", baseURL + slug, \"redirected to\", baseURL + redirectSlug, file=printFile)\n",
        "\n",
        "    # Check if the release date is None (Python's version of null) or an empty string.\n",
        "    if releaseDate == None or releaseDate == \"\":\n",
        "      # The game title released date isn't valid; update the game title to be dropped.\n",
        "      print(\"      \", baseURL + slug, \"release date is empty; dropping game title\", file=printFile)\n",
        "      updatedDF.loc[row.Index, 'drop'] = True\n",
        "    else:\n",
        "      # The game title released date is valid; update the released column for this game title.\n",
        "      print(\"      \", baseURL + slug, \"released on\", releaseDate, file=printFile)\n",
        "      updatedDF.loc[row.Index, 'released'] = releaseDate\n",
        "\n",
        "    if updateSlug:  # Our caller wants to update the slug.\n",
        "      # Update the 'slug' column for this row.\n",
        "      print(\"      \", slug, \"updated to\", redirectSlug, file=printFile)\n",
        "      updatedDF.loc[row.Index, 'slug'] = redirectSlug\n",
        "  else:\n",
        "    # The game title didn't redirect to get here.\n",
        "    # Output the game title.\n",
        "    print(\"      \", baseURL + slug, \"exists\", file=printFile)\n",
        "    \n",
        "    # Check if the release date is None (Python's version of null) or an empty string.\n",
        "    if releaseDate == None or releaseDate == \"\":\n",
        "      # The game title released date isn't valid; update the game title to be dropped.\n",
        "      print(\"      \", baseURL + slug, \"release date is empty; dropping game title\", file=printFile)\n",
        "      updatedDF.loc[row.Index, 'drop'] = True\n",
        "    else:\n",
        "      # The game title released date is valid; update the released column for this game title.\n",
        "      print(\"      \", baseURL + slug, \"released on\", releaseDate, file=printFile)\n",
        "      updatedDF.loc[row.Index, 'released'] = releaseDate\n",
        "\n",
        "    if updateSlug: # Our caller wants to update the slug.\n",
        "      # Update the 'slug' column for this row.\n",
        "      updatedDF.loc[row.Index, 'slug'] = slug\n",
        "\n",
        "# Function Name    : getGameRelease\n",
        "#\n",
        "# Function Purpose : Get the game title's released date from the JSON information.\n",
        "#\n",
        "# Parameters       : \n",
        "#   jsonGameInfo   - the JSON response from the server.\n",
        "#\n",
        "# Returns          : \n",
        "#  wasRedirected   -  the slug used to query this game was redirected to another\n",
        "#                     game title.\n",
        "#\n",
        "#  redirectSlug    - the redirected slug. If 'wasRedirected' is False, this value\n",
        "#                    will be the empty string ''.\n",
        "#\n",
        "#  released        - the released date of game title. If 'wasRedirected' is True,\n",
        "#                    this is the released date of the redirected to game title.\n",
        "def getGameRelease(jsonGameInfo):\n",
        "  wasRedirected = False  # Request for game title redirect to another page.\n",
        "  redirectSlug  = ''     # Redirected game title (if occurred).\n",
        "  released      = ''     # Released date for game title.\n",
        "\n",
        "  try:\n",
        "    # Try to get the 'released' dictionary entry from the JSON response.\n",
        "    released = jsonGameInfo['released']\n",
        "  except KeyError:\n",
        "    # The 'released' dictionary entry doesn't exist.\n",
        "\n",
        "    # Try to get the 'redirect' dictionary entry from the JSON response.\n",
        "    isRedirect = jsonGameInfo['redirect']\n",
        "    if isRedirect: # This game was redirected.\n",
        "\n",
        "      # Get the slug that this game title redirects to.\n",
        "      redirectSlug = jsonGameInfo['slug']\n",
        "      \n",
        "      # Make another request to the API to get the redirect to game title's\n",
        "      # information.\n",
        "      resp = requests.get(baseURL + redirectSlug)\n",
        "      \n",
        "      # Update that the supplied title arguement got redirected.\n",
        "      wasRedirected = True\n",
        "\n",
        "      # Get the 'released' dictionary entry from the JSON response.\n",
        "      released = resp.json()['released']\n",
        "  # Return the information to our caller.\n",
        "  return released, wasRedirected, redirectSlug\n",
        "\n",
        "if queryDB: # only run this code if explicitly told to\n",
        "  for row in interimDF.itertuples(): # iterate over the rows in the dataset\n",
        "    # Check if the released date has been populated already, if so we don't need\n",
        "    # to do it again.\n",
        "    if row.released == '':\n",
        "      print(\"Year_of_Release is empty for\", row.title, \"| Checking for the existence of\", baseURL + row.slug, file=printFile)\n",
        "      \n",
        "      # Make the request to the API to get the game title's information.\n",
        "      resp = requests.get(baseURL + row.slug)\n",
        "      \n",
        "      # Check if the HTTP response code is a success (200)\n",
        "      if resp.status_code == 200:\n",
        "        # A successful response was returned with the slug we used.\n",
        "        updateReleaseDate(resp.json(), row.slug, False)\n",
        "      else:\n",
        "        # The request wasn't successful with the slug we used.\n",
        "        rowSlug = row.slug\n",
        "\n",
        "        # Search the slug to see if the slug ends with a digit.\n",
        "        resultMatch = slugNumEnd.search(rowSlug)\n",
        "\n",
        "        # Loop while the slug ends with a digit.\n",
        "        while resultMatch:\n",
        "          # The slug ends with a digit in the form of [slug]-#, convert to [slug]#\n",
        "\n",
        "          # Split the slug on the last hypen from the end.\n",
        "          splitSlug = rowSlug.rsplit('-', 1)\n",
        "\n",
        "          # Now recombine the slug without the hypen '-' digit at the end.\n",
        "          updatedSlug = ''.join(splitSlug)\n",
        "          print(\"   Checking for existence of\", baseURL + updatedSlug, file=printFile)\n",
        "\n",
        "          # Make the request to the API again to check if our updated slug\n",
        "          # matches a game title.\n",
        "          resp = requests.get(baseURL + updatedSlug)\n",
        "\n",
        "          # Check if the HTTP response code is a success (200)\n",
        "          if resp.status_code == 200:\n",
        "            # A successful response was returned with the updated slug.\n",
        "            updateReleaseDate(resp.json(), updatedSlug, True)\n",
        "            break\n",
        "          else:\n",
        "            # The wasn't successful with the updated slug we used.\n",
        "            print('   HTTP Header Response Code:', resp.status_code, file=printFile)\n",
        "\n",
        "            # Search the slug to see if the slug ends with another digits.\n",
        "            resultMatch = slugNumEnd.search(updatedSlug)\n",
        "            rowSlug = updatedSlug\n",
        "        # end while\n",
        "\n",
        "        # If above while loop ended without a successful request, the regex \n",
        "        # match object will equaivate to False.\n",
        "        if not resultMatch:\n",
        "          print(f\"   Checking for apostrophe in {row.title}\", file=printFile)\n",
        "\n",
        "          # Check if prior checks found an apostrophe in the game title.\n",
        "          if row.apostrophe_in_title == True:\n",
        "            # An apostrophe was found in the game title, that means when we \n",
        "            # converted the apostrophe >> ' << to hypens '-' we likely left a\n",
        "            # single character stranded in the slug.\n",
        "            print(f\"   Apostrophe found in {row.title}; checking if we can condense slug\", file=printFile)\n",
        "\n",
        "            # Search for the single character in the slug.\n",
        "            resultMatch = slugSingleChar.search(rowSlug)\n",
        "\n",
        "            # Check if the results object found the single character in the slug.\n",
        "            if resultMatch:\n",
        "              # We found a single character in the name, we will now combine it\n",
        "              # with the prior word.\n",
        "\n",
        "              # Find the character position in the slug that the results match\n",
        "              # object found.\n",
        "              charPos = resultMatch.start()\n",
        "\n",
        "              # Get the single character in the string.\n",
        "              charFound = rowSlug[charPos + 1]\n",
        "              print(f'   Found {charFound} at pos {charPos + 1} in {rowSlug}, condensing', file=printFile)\n",
        "\n",
        "              # Split the slug into pre-single character and post-single character.\n",
        "              # This will cut out the hypen '-' that split the single character\n",
        "              # from the previous word in the slug.\n",
        "              preCharSlug = rowSlug[:charPos]\n",
        "              postCharSlug = rowSlug[charPos + 1:]\n",
        "              print(\"   PreCharSlug: \", preCharSlug, \"\\n   PostCharSlug\", postCharSlug, file=printFile)\n",
        "              \n",
        "              # Recombine the pre-single character slug and post single character slug.\n",
        "              rowSlug = preCharSlug + postCharSlug\n",
        "              print(\"   New slug: \", rowSlug, file=printFile)\n",
        "              print(\"   Checking for existence of\", baseURL + rowSlug, file=printFile)\n",
        "\n",
        "              # Make the request to the API again to check if our updated slug\n",
        "              # matches a game title.\n",
        "              resp = requests.get(baseURL + rowSlug)\n",
        "\n",
        "              # Check if the HTTP response code is a success (200)\n",
        "              if resp.status_code == 200:\n",
        "                # A successful response was returned with the updated slug.\n",
        "                updateReleaseDate(resp.json(), rowSlug, True)\n",
        "              else:\n",
        "                # The request wasn't successful, set the result match object to None.\n",
        "                # JN TO DO: This should technically be a loop.\n",
        "                resultMatch = None\n",
        "          else:\n",
        "            # Apostrophe was not found in the game title.\n",
        "            print(f\"   Apostrophe not found in {row.title}\", file=printFile)\n",
        "\n",
        "        # If above apostrophe ended without a successful request, the regex \n",
        "        # match object will equaivate to False.\n",
        "        if not resultMatch:\n",
        "          print(\"   Checking if this is DLC or a special edition of the game\", file=printFile)\n",
        "          \n",
        "          updatedSlug = rowSlug\n",
        "          # The beginning of hte game title begins with a digit.\n",
        "          print(f'{rowSlug} begins with a digit; removing digit {rowSlug[0]}', file=printFile)\n",
        "\n",
        "          # Loop while the beggining of the game title begisn with a digit.\n",
        "          while updatedSlug[0].isdigit():\n",
        "            print(f'{updatedSlug} begins with a digit; removing digit {updatedSlug[0]}', file=printFile)\n",
        "            \n",
        "            # Strip the digit off the beginning of the game titile.\n",
        "            updatedSlug = updatedSlug[1:]\n",
        "\n",
        "          # JN TO DO: Add a request to the API after stripping away front\n",
        "          #           digits.\n",
        "          \n",
        "          # The final sanitization we can do is to remove sequences starting\n",
        "          # from the end and slowly chip away until either we have nothing left\n",
        "          # or we find a match. If we find a match then this game was likely\n",
        "          # DLC or a special edition (e.g. The Sims 4 Nifty Knitting).\n",
        "\n",
        "          # Get the last hypen '-' in the slug.\n",
        "          hyphenPos = rowSlug.rfind('-')\n",
        "\n",
        "          # Loop while there is a hyphen '-' found in the slug AND the slug\n",
        "          # we are checking has above two words.\n",
        "          while (hyphenPos > -1) and (len(updatedSlug.split('-')) > 2):\n",
        "            # Strip away the last word and hyphen '-'.\n",
        "            updatedSlug = updatedSlug[:hyphenPos]\n",
        "            print(\"   Checking for existence of\", baseURL + updatedSlug, file=printFile)\n",
        "\n",
        "            # Make the request to the API to check if our updated slug matches a\n",
        "            # game title.\n",
        "            resp = requests.get(baseURL + updatedSlug)\n",
        "\n",
        "            # Check if the HTTP response code is a success (200)\n",
        "            if resp.status_code == 200:\n",
        "              # A successful response was returned with the updated slug.\n",
        "              print(f'   {row.title} is DLC or special edition', file=printFile)\n",
        "              updatedDF.loc[row.Index, 'base_game'] = False\n",
        "              updateReleaseDate(resp.json(), updatedSlug, True)\n",
        "              break\n",
        "            else:\n",
        "              # The request wasn't successful, find the next hypen '-' in the \n",
        "              # slug from the end.\n",
        "              hyphenPos = updatedSlug.rfind('-')\n",
        "          \n",
        "          # We exhausted all the hypens in the slug, this is an error condition.\n",
        "          if (hyphenPos == -1):\n",
        "            print(f\"!!ERROR 01!! Sanitization effors failed on {rowSlug}; removing game title...\", file=printFile)\n",
        "          # The slug is two words of less, this is an error condition.\n",
        "          elif len(updatedSlug.split('-')) <= 2:\n",
        "            print(f\"!!ERROR 02!! Sanitization effors failed on {rowSlug}; removing game title...\", file=printFile)\n",
        "\n",
        "  printFile.flush()  # flush the output to the file\n",
        "  printFile.close()  # close the file descriptor"
      ],
      "execution_count": null,
      "outputs": []
    },
    {
      "cell_type": "code",
      "metadata": {
        "id": "CO_oVlJLmnpP"
      },
      "source": [
        "qInterimDF = updatedDF[updatedDF['drop'] == False] # Any game titles that need to be dropped, do it now.\n",
        "print(qInterimDF.shape)                            # output shape of the dataset\n",
        "print(updatedDF.shape)                             # output shape of the dataset\n",
        "qInterimDF                                         # dump a quick look at the dataset"
      ],
      "execution_count": null,
      "outputs": []
    },
    {
      "cell_type": "code",
      "metadata": {
        "id": "KVv8AuWGFU_F"
      },
      "source": [
        "# Check the dataset for duplicates based on the slug column.\n",
        "# .duplicated returns a Series of boolean values, passing this into the dataset\n",
        "# will return all the duplicate rows.\n",
        "dupGameTitles = qInterimDF[qInterimDF.duplicated(subset='slug', keep=False)]\n",
        "\n",
        "# Make a copy of the dataset because we are about the iterate over it and update\n",
        "# it.\n",
        "dropDupDF = qInterimDF.copy()\n",
        "\n",
        "# For each row in the duplicate dataset, set the corresponding row in the copied\n",
        "# dataset that is has a duplicate entry.\n",
        "for row in dupGameTitles.itertuples():\n",
        "  dropDupDF.loc[row.Index, 'has_dup'] = True\n",
        "\n",
        "dropDupDF                     # dump a quick look at the dataset"
      ],
      "execution_count": null,
      "outputs": []
    },
    {
      "cell_type": "code",
      "metadata": {
        "id": "6xGDwJ0CN1_Q"
      },
      "source": [
        "if queryDB:\n",
        "  # If we actually ran the DB query, dump the dataset to CSV files.\n",
        "\n",
        "  # 'dropDupDF' has updated 'has_dup' column and dropped columns that needed to be dropped.\n",
        "  # 'updateDF' is a precursor dataset of 'dropDupDF' that doesn't have all the updates.\n",
        "  #updatedDF.to_csv('updated_game_titles.csv')\n",
        "  dropDupDF.to_csv('./AlgRunOutput/updated_game_titles2.csv')"
      ],
      "execution_count": null,
      "outputs": []
    }
  ]
}